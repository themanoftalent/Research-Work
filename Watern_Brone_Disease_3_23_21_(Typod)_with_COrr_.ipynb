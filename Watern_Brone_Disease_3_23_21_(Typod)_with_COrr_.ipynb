{
  "nbformat": 4,
  "nbformat_minor": 0,
  "metadata": {
    "kernelspec": {
      "display_name": "Python 3",
      "language": "python",
      "name": "python3"
    },
    "language_info": {
      "codemirror_mode": {
        "name": "ipython",
        "version": 3
      },
      "file_extension": ".py",
      "mimetype": "text/x-python",
      "name": "python",
      "nbconvert_exporter": "python",
      "pygments_lexer": "ipython3",
      "version": "3.8.3"
    },
    "colab": {
      "provenance": [],
      "collapsed_sections": [],
      "toc_visible": true,
      "include_colab_link": true
    }
  },
  "cells": [
    {
      "cell_type": "markdown",
      "metadata": {
        "id": "view-in-github",
        "colab_type": "text"
      },
      "source": [
        "<a href=\"https://colab.research.google.com/github/hussain0048/Water-borne-diseases/blob/main/Watern_Brone_Disease_3_23_21_(Typod)with_COrr_.ipynb\" target=\"_parent\"><img src=\"https://colab.research.google.com/assets/colab-badge.svg\" alt=\"Open In Colab\"/></a>"
      ]
    },
    {
      "cell_type": "markdown",
      "metadata": {
        "id": "BwlGIq-fgExg"
      },
      "source": [
        "# **1- Introduction**\n",
        " the water-borne diseases are the most common which transmitted in contaminated fresh water, whether in bathing, washing, drinking, or in the preparation of food.. More than one-third of Earth&#39;s accessible renewable freshwater is consumptively used for agricultural, industrial, and\n",
        "domestic purposes. Water-borne diseases are commonly found throughout the world but the\n",
        "condition is more aggravated in developing countries including Pakistan. "
      ]
    },
    {
      "cell_type": "markdown",
      "metadata": {
        "id": "Gpjx_5M_Ma7v"
      },
      "source": [
        "#**2-Importing libraries**"
      ]
    },
    {
      "cell_type": "code",
      "metadata": {
        "id": "-E4TvIVLMa73",
        "scrolled": true
      },
      "source": [
        "import numpy as np \n",
        "import pandas as pd \n",
        "import seaborn as sns \n",
        "import matplotlib.pyplot as plt\n",
        "from prettytable import PrettyTable\n",
        "from sklearn.metrics import roc_curve, auc\n",
        "from mlxtend.plotting import plot_confusion_matrix \n",
        "from sklearn.model_selection import train_test_split\n",
        "from sklearn.metrics import classification_report, confusion_matrix\n",
        "from sklearn.tree import DecisionTreeClassifier\n",
        "from sklearn.ensemble import RandomForestClassifier\n",
        "from sklearn.svm import LinearSVC\n",
        "from sklearn.linear_model import LogisticRegression\n",
        "from sklearn.neighbors import KNeighborsClassifier\n",
        "import warnings\n",
        "warnings.filterwarnings(\"ignore\")"
      ],
      "execution_count": null,
      "outputs": []
    },
    {
      "cell_type": "code",
      "metadata": {
        "id": "BetwIHqiVbt6"
      },
      "source": [
        "import pandas as pd \n"
      ],
      "execution_count": null,
      "outputs": []
    },
    {
      "cell_type": "markdown",
      "metadata": {
        "id": "gHoPSZkDivGv"
      },
      "source": [
        "#**3-Processing**\n"
      ]
    },
    {
      "cell_type": "markdown",
      "metadata": {
        "id": "1Vt6LxAxbz6v"
      },
      "source": [
        "## **3.1 Data Reading**"
      ]
    },
    {
      "cell_type": "code",
      "metadata": {
        "id": "K1Cj5cSkCzvl",
        "colab": {
          "base_uri": "https://localhost:8080/"
        },
        "outputId": "ade64975-b70b-4ae3-f5da-4c3601864fcf"
      },
      "source": [
        "from google.colab import drive\n",
        "drive.mount('/content/drive')"
      ],
      "execution_count": null,
      "outputs": [
        {
          "output_type": "stream",
          "name": "stdout",
          "text": [
            "Drive already mounted at /content/drive; to attempt to forcibly remount, call drive.mount(\"/content/drive\", force_remount=True).\n"
          ]
        }
      ]
    },
    {
      "cell_type": "code",
      "metadata": {
        "id": "XGN87XMSivGw"
      },
      "source": [
        "Train_data = pd.read_csv('/content/drive/MyDrive/Datasets/Typhoid_2-21-2021.csv',encoding = 'latin')"
      ],
      "execution_count": null,
      "outputs": []
    },
    {
      "cell_type": "code",
      "metadata": {
        "colab": {
          "base_uri": "https://localhost:8080/",
          "height": 713
        },
        "id": "B6-L96xXwnvr",
        "outputId": "ea362a47-bdf7-4151-ce90-ddf7f35ed876"
      },
      "source": [
        "Train_data"
      ],
      "execution_count": null,
      "outputs": [
        {
          "output_type": "execute_result",
          "data": {
            "text/plain": [
              "       Unnamed: 0      SECTION_NO            MRNO     PATIENT_NAME  \\\n",
              "0               1  K04MIC17123950  K0460000001366       Sonia Khan   \n",
              "1               2  K04MIC17123950  K0460000001366       Sonia Khan   \n",
              "2               3  K04MIC18011045  K0460000001388        Aurangzeb   \n",
              "3               4  K04MIC17048512  K0460000001390    Muhammad Raza   \n",
              "4               5  K04MIC19121433  K0460000001408  Muhammad Shafiq   \n",
              "...           ...             ...             ...              ...   \n",
              "68619       68620  K04MIC21013679  K0400002460067    Ayesha Rizwan   \n",
              "68620       68621  K04MIC21013847  K0400002460763         M Shokat   \n",
              "68621       68622  K04MIC21014199  K0400002461421          Mr Ayan   \n",
              "68622       68623  K04MIC21014379  K04ACE21027099       Qasim Shah   \n",
              "68623       68624  K04MIC21015695  K0400002465586      Shazia Bibi   \n",
              "\n",
              "               FATHER_NAME HUSBAND_NAME       NIC_NEW REFERRED_FROM  \\\n",
              "0      MUHAMMAD AKBAR KHAN          NaN  1.310187e+12           NaN   \n",
              "1      MUHAMMAD AKBAR KHAN          NaN  1.310187e+12           NaN   \n",
              "2               NADIR KHAN          NaN  1.310163e+12           NaN   \n",
              "3         MUHAMMAD RAFIQUE          NaN  1.310169e+12           NaN   \n",
              "4                ALI ZAMAN          NaN  1.310164e+12           NaN   \n",
              "...                    ...          ...           ...           ...   \n",
              "68619      MUHAMMAD RIZWAN          NaN           NaN           NaN   \n",
              "68620     KHALIL UR REHMAN          NaN           NaN           NaN   \n",
              "68621          FARHAD KHAN          NaN           NaN           NaN   \n",
              "68622         JAMREEZ SHAH          NaN           NaN           NaN   \n",
              "68623         ABDUL HAKEEM          NaN           NaN           NaN   \n",
              "\n",
              "              AGE  GENDER  NO_OF_ADMISSION    DISTRICT      TEHSIL  \\\n",
              "0      33 Year(s)  Female                0  Abbottabad  Abbottabad   \n",
              "1      33 Year(s)  Female                0  Abbottabad  Abbottabad   \n",
              "2      52 Year(s)    Male                0    Mansehra    Mansehra   \n",
              "3      31 Year(s)    Male                0  Abbottabad  Abbottabad   \n",
              "4      36 Year(s)    Male                0  Abbottabad  Abbottabad   \n",
              "...           ...     ...              ...         ...         ...   \n",
              "68619   2 Year(s)  Female                0  Abbottabad  Abbottabad   \n",
              "68620  18 Year(s)    Male                0  Abbottabad  Abbottabad   \n",
              "68621   3 Year(s)    Male                0  Abbottabad  Abbottabad   \n",
              "68622  48 Year(s)    Male                0  Abbottabad  Abbottabad   \n",
              "68623  18 Year(s)  Female                0  Abbottabad  Abbottabad   \n",
              "\n",
              "                 REPORT_VERIFIED            CPT_ID RESULT_VALUE  \\\n",
              "0      10/7/2017 10:05:16 A10P10  1000000000086677            Y   \n",
              "1      10/7/2017 10:05:13 A10P10  1000000000084517            Y   \n",
              "2        1/23/2018 11:15:40 A1P1  1000000000084517            Y   \n",
              "3          5/2/2017 9:20:21 A5P5  1000000000084517            Y   \n",
              "4        8/21/2019 15:51:51 A8P8  1000000000086677            Y   \n",
              "...                          ...               ...          ...   \n",
              "68619    2/11/2021 18:54:41 A2P2  1000000000084517            Y   \n",
              "68620    2/12/2021 11:22:43 A2P2  1000000000086286            Y   \n",
              "68621    2/13/2021 11:04:17 A2P2  1000000000084517            Y   \n",
              "68622    2/13/2021 17:52:31 A2P2  1000000000084517            Y   \n",
              "68623    2/17/2021 10:38:15 A2P2  1000000000084517            Y   \n",
              "\n",
              "               CPT_ID.1    SECTION_NO.1 RESULT_TEXT  \n",
              "0      1000000000084517  K04MIC17123950    NEGATIVE  \n",
              "1      1000000000084517  K04MIC17123950    NEGATIVE  \n",
              "2      1000000000084517  K04MIC18011045    NEGATIVE  \n",
              "3      1000000000084517  K04MIC17048512    POSITIVE  \n",
              "4      1000000000084517  K04MIC19121433    NEGATIVE  \n",
              "...                 ...             ...         ...  \n",
              "68619  1000000000084517  K04MIC21013679    NEGATIVE  \n",
              "68620  1000000000084517  K04MIC21013847    NEGATIVE  \n",
              "68621  1000000000084517  K04MIC21014199    NEGATIVE  \n",
              "68622  1000000000084517  K04MIC21014379    NEGATIVE  \n",
              "68623  1000000000084517  K04MIC21015695    NEGATIVE  \n",
              "\n",
              "[68624 rows x 19 columns]"
            ],
            "text/html": [
              "\n",
              "  <div id=\"df-668ccd2c-78cd-4809-b24c-9147c3a81700\">\n",
              "    <div class=\"colab-df-container\">\n",
              "      <div>\n",
              "<style scoped>\n",
              "    .dataframe tbody tr th:only-of-type {\n",
              "        vertical-align: middle;\n",
              "    }\n",
              "\n",
              "    .dataframe tbody tr th {\n",
              "        vertical-align: top;\n",
              "    }\n",
              "\n",
              "    .dataframe thead th {\n",
              "        text-align: right;\n",
              "    }\n",
              "</style>\n",
              "<table border=\"1\" class=\"dataframe\">\n",
              "  <thead>\n",
              "    <tr style=\"text-align: right;\">\n",
              "      <th></th>\n",
              "      <th>Unnamed: 0</th>\n",
              "      <th>SECTION_NO</th>\n",
              "      <th>MRNO</th>\n",
              "      <th>PATIENT_NAME</th>\n",
              "      <th>FATHER_NAME</th>\n",
              "      <th>HUSBAND_NAME</th>\n",
              "      <th>NIC_NEW</th>\n",
              "      <th>REFERRED_FROM</th>\n",
              "      <th>AGE</th>\n",
              "      <th>GENDER</th>\n",
              "      <th>NO_OF_ADMISSION</th>\n",
              "      <th>DISTRICT</th>\n",
              "      <th>TEHSIL</th>\n",
              "      <th>REPORT_VERIFIED</th>\n",
              "      <th>CPT_ID</th>\n",
              "      <th>RESULT_VALUE</th>\n",
              "      <th>CPT_ID.1</th>\n",
              "      <th>SECTION_NO.1</th>\n",
              "      <th>RESULT_TEXT</th>\n",
              "    </tr>\n",
              "  </thead>\n",
              "  <tbody>\n",
              "    <tr>\n",
              "      <th>0</th>\n",
              "      <td>1</td>\n",
              "      <td>K04MIC17123950</td>\n",
              "      <td>K0460000001366</td>\n",
              "      <td>Sonia Khan</td>\n",
              "      <td>MUHAMMAD AKBAR KHAN</td>\n",
              "      <td>NaN</td>\n",
              "      <td>1.310187e+12</td>\n",
              "      <td>NaN</td>\n",
              "      <td>33 Year(s)</td>\n",
              "      <td>Female</td>\n",
              "      <td>0</td>\n",
              "      <td>Abbottabad</td>\n",
              "      <td>Abbottabad</td>\n",
              "      <td>10/7/2017 10:05:16 A10P10</td>\n",
              "      <td>1000000000086677</td>\n",
              "      <td>Y</td>\n",
              "      <td>1000000000084517</td>\n",
              "      <td>K04MIC17123950</td>\n",
              "      <td>NEGATIVE</td>\n",
              "    </tr>\n",
              "    <tr>\n",
              "      <th>1</th>\n",
              "      <td>2</td>\n",
              "      <td>K04MIC17123950</td>\n",
              "      <td>K0460000001366</td>\n",
              "      <td>Sonia Khan</td>\n",
              "      <td>MUHAMMAD AKBAR KHAN</td>\n",
              "      <td>NaN</td>\n",
              "      <td>1.310187e+12</td>\n",
              "      <td>NaN</td>\n",
              "      <td>33 Year(s)</td>\n",
              "      <td>Female</td>\n",
              "      <td>0</td>\n",
              "      <td>Abbottabad</td>\n",
              "      <td>Abbottabad</td>\n",
              "      <td>10/7/2017 10:05:13 A10P10</td>\n",
              "      <td>1000000000084517</td>\n",
              "      <td>Y</td>\n",
              "      <td>1000000000084517</td>\n",
              "      <td>K04MIC17123950</td>\n",
              "      <td>NEGATIVE</td>\n",
              "    </tr>\n",
              "    <tr>\n",
              "      <th>2</th>\n",
              "      <td>3</td>\n",
              "      <td>K04MIC18011045</td>\n",
              "      <td>K0460000001388</td>\n",
              "      <td>Aurangzeb</td>\n",
              "      <td>NADIR KHAN</td>\n",
              "      <td>NaN</td>\n",
              "      <td>1.310163e+12</td>\n",
              "      <td>NaN</td>\n",
              "      <td>52 Year(s)</td>\n",
              "      <td>Male</td>\n",
              "      <td>0</td>\n",
              "      <td>Mansehra</td>\n",
              "      <td>Mansehra</td>\n",
              "      <td>1/23/2018 11:15:40 A1P1</td>\n",
              "      <td>1000000000084517</td>\n",
              "      <td>Y</td>\n",
              "      <td>1000000000084517</td>\n",
              "      <td>K04MIC18011045</td>\n",
              "      <td>NEGATIVE</td>\n",
              "    </tr>\n",
              "    <tr>\n",
              "      <th>3</th>\n",
              "      <td>4</td>\n",
              "      <td>K04MIC17048512</td>\n",
              "      <td>K0460000001390</td>\n",
              "      <td>Muhammad Raza</td>\n",
              "      <td>MUHAMMAD RAFIQUE</td>\n",
              "      <td>NaN</td>\n",
              "      <td>1.310169e+12</td>\n",
              "      <td>NaN</td>\n",
              "      <td>31 Year(s)</td>\n",
              "      <td>Male</td>\n",
              "      <td>0</td>\n",
              "      <td>Abbottabad</td>\n",
              "      <td>Abbottabad</td>\n",
              "      <td>5/2/2017 9:20:21 A5P5</td>\n",
              "      <td>1000000000084517</td>\n",
              "      <td>Y</td>\n",
              "      <td>1000000000084517</td>\n",
              "      <td>K04MIC17048512</td>\n",
              "      <td>POSITIVE</td>\n",
              "    </tr>\n",
              "    <tr>\n",
              "      <th>4</th>\n",
              "      <td>5</td>\n",
              "      <td>K04MIC19121433</td>\n",
              "      <td>K0460000001408</td>\n",
              "      <td>Muhammad Shafiq</td>\n",
              "      <td>ALI ZAMAN</td>\n",
              "      <td>NaN</td>\n",
              "      <td>1.310164e+12</td>\n",
              "      <td>NaN</td>\n",
              "      <td>36 Year(s)</td>\n",
              "      <td>Male</td>\n",
              "      <td>0</td>\n",
              "      <td>Abbottabad</td>\n",
              "      <td>Abbottabad</td>\n",
              "      <td>8/21/2019 15:51:51 A8P8</td>\n",
              "      <td>1000000000086677</td>\n",
              "      <td>Y</td>\n",
              "      <td>1000000000084517</td>\n",
              "      <td>K04MIC19121433</td>\n",
              "      <td>NEGATIVE</td>\n",
              "    </tr>\n",
              "    <tr>\n",
              "      <th>...</th>\n",
              "      <td>...</td>\n",
              "      <td>...</td>\n",
              "      <td>...</td>\n",
              "      <td>...</td>\n",
              "      <td>...</td>\n",
              "      <td>...</td>\n",
              "      <td>...</td>\n",
              "      <td>...</td>\n",
              "      <td>...</td>\n",
              "      <td>...</td>\n",
              "      <td>...</td>\n",
              "      <td>...</td>\n",
              "      <td>...</td>\n",
              "      <td>...</td>\n",
              "      <td>...</td>\n",
              "      <td>...</td>\n",
              "      <td>...</td>\n",
              "      <td>...</td>\n",
              "      <td>...</td>\n",
              "    </tr>\n",
              "    <tr>\n",
              "      <th>68619</th>\n",
              "      <td>68620</td>\n",
              "      <td>K04MIC21013679</td>\n",
              "      <td>K0400002460067</td>\n",
              "      <td>Ayesha Rizwan</td>\n",
              "      <td>MUHAMMAD RIZWAN</td>\n",
              "      <td>NaN</td>\n",
              "      <td>NaN</td>\n",
              "      <td>NaN</td>\n",
              "      <td>2 Year(s)</td>\n",
              "      <td>Female</td>\n",
              "      <td>0</td>\n",
              "      <td>Abbottabad</td>\n",
              "      <td>Abbottabad</td>\n",
              "      <td>2/11/2021 18:54:41 A2P2</td>\n",
              "      <td>1000000000084517</td>\n",
              "      <td>Y</td>\n",
              "      <td>1000000000084517</td>\n",
              "      <td>K04MIC21013679</td>\n",
              "      <td>NEGATIVE</td>\n",
              "    </tr>\n",
              "    <tr>\n",
              "      <th>68620</th>\n",
              "      <td>68621</td>\n",
              "      <td>K04MIC21013847</td>\n",
              "      <td>K0400002460763</td>\n",
              "      <td>M Shokat</td>\n",
              "      <td>KHALIL UR REHMAN</td>\n",
              "      <td>NaN</td>\n",
              "      <td>NaN</td>\n",
              "      <td>NaN</td>\n",
              "      <td>18 Year(s)</td>\n",
              "      <td>Male</td>\n",
              "      <td>0</td>\n",
              "      <td>Abbottabad</td>\n",
              "      <td>Abbottabad</td>\n",
              "      <td>2/12/2021 11:22:43 A2P2</td>\n",
              "      <td>1000000000086286</td>\n",
              "      <td>Y</td>\n",
              "      <td>1000000000084517</td>\n",
              "      <td>K04MIC21013847</td>\n",
              "      <td>NEGATIVE</td>\n",
              "    </tr>\n",
              "    <tr>\n",
              "      <th>68621</th>\n",
              "      <td>68622</td>\n",
              "      <td>K04MIC21014199</td>\n",
              "      <td>K0400002461421</td>\n",
              "      <td>Mr Ayan</td>\n",
              "      <td>FARHAD KHAN</td>\n",
              "      <td>NaN</td>\n",
              "      <td>NaN</td>\n",
              "      <td>NaN</td>\n",
              "      <td>3 Year(s)</td>\n",
              "      <td>Male</td>\n",
              "      <td>0</td>\n",
              "      <td>Abbottabad</td>\n",
              "      <td>Abbottabad</td>\n",
              "      <td>2/13/2021 11:04:17 A2P2</td>\n",
              "      <td>1000000000084517</td>\n",
              "      <td>Y</td>\n",
              "      <td>1000000000084517</td>\n",
              "      <td>K04MIC21014199</td>\n",
              "      <td>NEGATIVE</td>\n",
              "    </tr>\n",
              "    <tr>\n",
              "      <th>68622</th>\n",
              "      <td>68623</td>\n",
              "      <td>K04MIC21014379</td>\n",
              "      <td>K04ACE21027099</td>\n",
              "      <td>Qasim Shah</td>\n",
              "      <td>JAMREEZ SHAH</td>\n",
              "      <td>NaN</td>\n",
              "      <td>NaN</td>\n",
              "      <td>NaN</td>\n",
              "      <td>48 Year(s)</td>\n",
              "      <td>Male</td>\n",
              "      <td>0</td>\n",
              "      <td>Abbottabad</td>\n",
              "      <td>Abbottabad</td>\n",
              "      <td>2/13/2021 17:52:31 A2P2</td>\n",
              "      <td>1000000000084517</td>\n",
              "      <td>Y</td>\n",
              "      <td>1000000000084517</td>\n",
              "      <td>K04MIC21014379</td>\n",
              "      <td>NEGATIVE</td>\n",
              "    </tr>\n",
              "    <tr>\n",
              "      <th>68623</th>\n",
              "      <td>68624</td>\n",
              "      <td>K04MIC21015695</td>\n",
              "      <td>K0400002465586</td>\n",
              "      <td>Shazia Bibi</td>\n",
              "      <td>ABDUL HAKEEM</td>\n",
              "      <td>NaN</td>\n",
              "      <td>NaN</td>\n",
              "      <td>NaN</td>\n",
              "      <td>18 Year(s)</td>\n",
              "      <td>Female</td>\n",
              "      <td>0</td>\n",
              "      <td>Abbottabad</td>\n",
              "      <td>Abbottabad</td>\n",
              "      <td>2/17/2021 10:38:15 A2P2</td>\n",
              "      <td>1000000000084517</td>\n",
              "      <td>Y</td>\n",
              "      <td>1000000000084517</td>\n",
              "      <td>K04MIC21015695</td>\n",
              "      <td>NEGATIVE</td>\n",
              "    </tr>\n",
              "  </tbody>\n",
              "</table>\n",
              "<p>68624 rows × 19 columns</p>\n",
              "</div>\n",
              "      <button class=\"colab-df-convert\" onclick=\"convertToInteractive('df-668ccd2c-78cd-4809-b24c-9147c3a81700')\"\n",
              "              title=\"Convert this dataframe to an interactive table.\"\n",
              "              style=\"display:none;\">\n",
              "        \n",
              "  <svg xmlns=\"http://www.w3.org/2000/svg\" height=\"24px\"viewBox=\"0 0 24 24\"\n",
              "       width=\"24px\">\n",
              "    <path d=\"M0 0h24v24H0V0z\" fill=\"none\"/>\n",
              "    <path d=\"M18.56 5.44l.94 2.06.94-2.06 2.06-.94-2.06-.94-.94-2.06-.94 2.06-2.06.94zm-11 1L8.5 8.5l.94-2.06 2.06-.94-2.06-.94L8.5 2.5l-.94 2.06-2.06.94zm10 10l.94 2.06.94-2.06 2.06-.94-2.06-.94-.94-2.06-.94 2.06-2.06.94z\"/><path d=\"M17.41 7.96l-1.37-1.37c-.4-.4-.92-.59-1.43-.59-.52 0-1.04.2-1.43.59L10.3 9.45l-7.72 7.72c-.78.78-.78 2.05 0 2.83L4 21.41c.39.39.9.59 1.41.59.51 0 1.02-.2 1.41-.59l7.78-7.78 2.81-2.81c.8-.78.8-2.07 0-2.86zM5.41 20L4 18.59l7.72-7.72 1.47 1.35L5.41 20z\"/>\n",
              "  </svg>\n",
              "      </button>\n",
              "      \n",
              "  <style>\n",
              "    .colab-df-container {\n",
              "      display:flex;\n",
              "      flex-wrap:wrap;\n",
              "      gap: 12px;\n",
              "    }\n",
              "\n",
              "    .colab-df-convert {\n",
              "      background-color: #E8F0FE;\n",
              "      border: none;\n",
              "      border-radius: 50%;\n",
              "      cursor: pointer;\n",
              "      display: none;\n",
              "      fill: #1967D2;\n",
              "      height: 32px;\n",
              "      padding: 0 0 0 0;\n",
              "      width: 32px;\n",
              "    }\n",
              "\n",
              "    .colab-df-convert:hover {\n",
              "      background-color: #E2EBFA;\n",
              "      box-shadow: 0px 1px 2px rgba(60, 64, 67, 0.3), 0px 1px 3px 1px rgba(60, 64, 67, 0.15);\n",
              "      fill: #174EA6;\n",
              "    }\n",
              "\n",
              "    [theme=dark] .colab-df-convert {\n",
              "      background-color: #3B4455;\n",
              "      fill: #D2E3FC;\n",
              "    }\n",
              "\n",
              "    [theme=dark] .colab-df-convert:hover {\n",
              "      background-color: #434B5C;\n",
              "      box-shadow: 0px 1px 3px 1px rgba(0, 0, 0, 0.15);\n",
              "      filter: drop-shadow(0px 1px 2px rgba(0, 0, 0, 0.3));\n",
              "      fill: #FFFFFF;\n",
              "    }\n",
              "  </style>\n",
              "\n",
              "      <script>\n",
              "        const buttonEl =\n",
              "          document.querySelector('#df-668ccd2c-78cd-4809-b24c-9147c3a81700 button.colab-df-convert');\n",
              "        buttonEl.style.display =\n",
              "          google.colab.kernel.accessAllowed ? 'block' : 'none';\n",
              "\n",
              "        async function convertToInteractive(key) {\n",
              "          const element = document.querySelector('#df-668ccd2c-78cd-4809-b24c-9147c3a81700');\n",
              "          const dataTable =\n",
              "            await google.colab.kernel.invokeFunction('convertToInteractive',\n",
              "                                                     [key], {});\n",
              "          if (!dataTable) return;\n",
              "\n",
              "          const docLinkHtml = 'Like what you see? Visit the ' +\n",
              "            '<a target=\"_blank\" href=https://colab.research.google.com/notebooks/data_table.ipynb>data table notebook</a>'\n",
              "            + ' to learn more about interactive tables.';\n",
              "          element.innerHTML = '';\n",
              "          dataTable['output_type'] = 'display_data';\n",
              "          await google.colab.output.renderOutput(dataTable, element);\n",
              "          const docLink = document.createElement('div');\n",
              "          docLink.innerHTML = docLinkHtml;\n",
              "          element.appendChild(docLink);\n",
              "        }\n",
              "      </script>\n",
              "    </div>\n",
              "  </div>\n",
              "  "
            ]
          },
          "metadata": {},
          "execution_count": 471
        }
      ]
    },
    {
      "cell_type": "markdown",
      "metadata": {
        "id": "q3oI8qBEgWQF"
      },
      "source": [
        "## 3.2- **Drop Index Colum**"
      ]
    },
    {
      "cell_type": "code",
      "metadata": {
        "id": "MWbQRZlkWIzC"
      },
      "source": [
        "Train_data=Train_data.reset_index()\n",
        "Train_data=Train_data.drop(columns=['index'])"
      ],
      "execution_count": null,
      "outputs": []
    },
    {
      "cell_type": "code",
      "metadata": {
        "id": "4z2-2606wuwe",
        "outputId": "c3af867f-3b6c-4d01-95d2-b85a3c5ddd4b",
        "colab": {
          "base_uri": "https://localhost:8080/",
          "height": 713
        }
      },
      "source": [
        "Train_data"
      ],
      "execution_count": null,
      "outputs": [
        {
          "output_type": "execute_result",
          "data": {
            "text/plain": [
              "       Unnamed: 0      SECTION_NO            MRNO     PATIENT_NAME  \\\n",
              "0               1  K04MIC17123950  K0460000001366       Sonia Khan   \n",
              "1               2  K04MIC17123950  K0460000001366       Sonia Khan   \n",
              "2               3  K04MIC18011045  K0460000001388        Aurangzeb   \n",
              "3               4  K04MIC17048512  K0460000001390    Muhammad Raza   \n",
              "4               5  K04MIC19121433  K0460000001408  Muhammad Shafiq   \n",
              "...           ...             ...             ...              ...   \n",
              "68619       68620  K04MIC21013679  K0400002460067    Ayesha Rizwan   \n",
              "68620       68621  K04MIC21013847  K0400002460763         M Shokat   \n",
              "68621       68622  K04MIC21014199  K0400002461421          Mr Ayan   \n",
              "68622       68623  K04MIC21014379  K04ACE21027099       Qasim Shah   \n",
              "68623       68624  K04MIC21015695  K0400002465586      Shazia Bibi   \n",
              "\n",
              "               FATHER_NAME HUSBAND_NAME       NIC_NEW REFERRED_FROM  \\\n",
              "0      MUHAMMAD AKBAR KHAN          NaN  1.310187e+12           NaN   \n",
              "1      MUHAMMAD AKBAR KHAN          NaN  1.310187e+12           NaN   \n",
              "2               NADIR KHAN          NaN  1.310163e+12           NaN   \n",
              "3         MUHAMMAD RAFIQUE          NaN  1.310169e+12           NaN   \n",
              "4                ALI ZAMAN          NaN  1.310164e+12           NaN   \n",
              "...                    ...          ...           ...           ...   \n",
              "68619      MUHAMMAD RIZWAN          NaN           NaN           NaN   \n",
              "68620     KHALIL UR REHMAN          NaN           NaN           NaN   \n",
              "68621          FARHAD KHAN          NaN           NaN           NaN   \n",
              "68622         JAMREEZ SHAH          NaN           NaN           NaN   \n",
              "68623         ABDUL HAKEEM          NaN           NaN           NaN   \n",
              "\n",
              "              AGE  GENDER  NO_OF_ADMISSION    DISTRICT      TEHSIL  \\\n",
              "0      33 Year(s)  Female                0  Abbottabad  Abbottabad   \n",
              "1      33 Year(s)  Female                0  Abbottabad  Abbottabad   \n",
              "2      52 Year(s)    Male                0    Mansehra    Mansehra   \n",
              "3      31 Year(s)    Male                0  Abbottabad  Abbottabad   \n",
              "4      36 Year(s)    Male                0  Abbottabad  Abbottabad   \n",
              "...           ...     ...              ...         ...         ...   \n",
              "68619   2 Year(s)  Female                0  Abbottabad  Abbottabad   \n",
              "68620  18 Year(s)    Male                0  Abbottabad  Abbottabad   \n",
              "68621   3 Year(s)    Male                0  Abbottabad  Abbottabad   \n",
              "68622  48 Year(s)    Male                0  Abbottabad  Abbottabad   \n",
              "68623  18 Year(s)  Female                0  Abbottabad  Abbottabad   \n",
              "\n",
              "                 REPORT_VERIFIED            CPT_ID RESULT_VALUE  \\\n",
              "0      10/7/2017 10:05:16 A10P10  1000000000086677            Y   \n",
              "1      10/7/2017 10:05:13 A10P10  1000000000084517            Y   \n",
              "2        1/23/2018 11:15:40 A1P1  1000000000084517            Y   \n",
              "3          5/2/2017 9:20:21 A5P5  1000000000084517            Y   \n",
              "4        8/21/2019 15:51:51 A8P8  1000000000086677            Y   \n",
              "...                          ...               ...          ...   \n",
              "68619    2/11/2021 18:54:41 A2P2  1000000000084517            Y   \n",
              "68620    2/12/2021 11:22:43 A2P2  1000000000086286            Y   \n",
              "68621    2/13/2021 11:04:17 A2P2  1000000000084517            Y   \n",
              "68622    2/13/2021 17:52:31 A2P2  1000000000084517            Y   \n",
              "68623    2/17/2021 10:38:15 A2P2  1000000000084517            Y   \n",
              "\n",
              "               CPT_ID.1    SECTION_NO.1 RESULT_TEXT  \n",
              "0      1000000000084517  K04MIC17123950    NEGATIVE  \n",
              "1      1000000000084517  K04MIC17123950    NEGATIVE  \n",
              "2      1000000000084517  K04MIC18011045    NEGATIVE  \n",
              "3      1000000000084517  K04MIC17048512    POSITIVE  \n",
              "4      1000000000084517  K04MIC19121433    NEGATIVE  \n",
              "...                 ...             ...         ...  \n",
              "68619  1000000000084517  K04MIC21013679    NEGATIVE  \n",
              "68620  1000000000084517  K04MIC21013847    NEGATIVE  \n",
              "68621  1000000000084517  K04MIC21014199    NEGATIVE  \n",
              "68622  1000000000084517  K04MIC21014379    NEGATIVE  \n",
              "68623  1000000000084517  K04MIC21015695    NEGATIVE  \n",
              "\n",
              "[68624 rows x 19 columns]"
            ],
            "text/html": [
              "\n",
              "  <div id=\"df-68b6772b-b195-4949-8b91-8729920bdbd3\">\n",
              "    <div class=\"colab-df-container\">\n",
              "      <div>\n",
              "<style scoped>\n",
              "    .dataframe tbody tr th:only-of-type {\n",
              "        vertical-align: middle;\n",
              "    }\n",
              "\n",
              "    .dataframe tbody tr th {\n",
              "        vertical-align: top;\n",
              "    }\n",
              "\n",
              "    .dataframe thead th {\n",
              "        text-align: right;\n",
              "    }\n",
              "</style>\n",
              "<table border=\"1\" class=\"dataframe\">\n",
              "  <thead>\n",
              "    <tr style=\"text-align: right;\">\n",
              "      <th></th>\n",
              "      <th>Unnamed: 0</th>\n",
              "      <th>SECTION_NO</th>\n",
              "      <th>MRNO</th>\n",
              "      <th>PATIENT_NAME</th>\n",
              "      <th>FATHER_NAME</th>\n",
              "      <th>HUSBAND_NAME</th>\n",
              "      <th>NIC_NEW</th>\n",
              "      <th>REFERRED_FROM</th>\n",
              "      <th>AGE</th>\n",
              "      <th>GENDER</th>\n",
              "      <th>NO_OF_ADMISSION</th>\n",
              "      <th>DISTRICT</th>\n",
              "      <th>TEHSIL</th>\n",
              "      <th>REPORT_VERIFIED</th>\n",
              "      <th>CPT_ID</th>\n",
              "      <th>RESULT_VALUE</th>\n",
              "      <th>CPT_ID.1</th>\n",
              "      <th>SECTION_NO.1</th>\n",
              "      <th>RESULT_TEXT</th>\n",
              "    </tr>\n",
              "  </thead>\n",
              "  <tbody>\n",
              "    <tr>\n",
              "      <th>0</th>\n",
              "      <td>1</td>\n",
              "      <td>K04MIC17123950</td>\n",
              "      <td>K0460000001366</td>\n",
              "      <td>Sonia Khan</td>\n",
              "      <td>MUHAMMAD AKBAR KHAN</td>\n",
              "      <td>NaN</td>\n",
              "      <td>1.310187e+12</td>\n",
              "      <td>NaN</td>\n",
              "      <td>33 Year(s)</td>\n",
              "      <td>Female</td>\n",
              "      <td>0</td>\n",
              "      <td>Abbottabad</td>\n",
              "      <td>Abbottabad</td>\n",
              "      <td>10/7/2017 10:05:16 A10P10</td>\n",
              "      <td>1000000000086677</td>\n",
              "      <td>Y</td>\n",
              "      <td>1000000000084517</td>\n",
              "      <td>K04MIC17123950</td>\n",
              "      <td>NEGATIVE</td>\n",
              "    </tr>\n",
              "    <tr>\n",
              "      <th>1</th>\n",
              "      <td>2</td>\n",
              "      <td>K04MIC17123950</td>\n",
              "      <td>K0460000001366</td>\n",
              "      <td>Sonia Khan</td>\n",
              "      <td>MUHAMMAD AKBAR KHAN</td>\n",
              "      <td>NaN</td>\n",
              "      <td>1.310187e+12</td>\n",
              "      <td>NaN</td>\n",
              "      <td>33 Year(s)</td>\n",
              "      <td>Female</td>\n",
              "      <td>0</td>\n",
              "      <td>Abbottabad</td>\n",
              "      <td>Abbottabad</td>\n",
              "      <td>10/7/2017 10:05:13 A10P10</td>\n",
              "      <td>1000000000084517</td>\n",
              "      <td>Y</td>\n",
              "      <td>1000000000084517</td>\n",
              "      <td>K04MIC17123950</td>\n",
              "      <td>NEGATIVE</td>\n",
              "    </tr>\n",
              "    <tr>\n",
              "      <th>2</th>\n",
              "      <td>3</td>\n",
              "      <td>K04MIC18011045</td>\n",
              "      <td>K0460000001388</td>\n",
              "      <td>Aurangzeb</td>\n",
              "      <td>NADIR KHAN</td>\n",
              "      <td>NaN</td>\n",
              "      <td>1.310163e+12</td>\n",
              "      <td>NaN</td>\n",
              "      <td>52 Year(s)</td>\n",
              "      <td>Male</td>\n",
              "      <td>0</td>\n",
              "      <td>Mansehra</td>\n",
              "      <td>Mansehra</td>\n",
              "      <td>1/23/2018 11:15:40 A1P1</td>\n",
              "      <td>1000000000084517</td>\n",
              "      <td>Y</td>\n",
              "      <td>1000000000084517</td>\n",
              "      <td>K04MIC18011045</td>\n",
              "      <td>NEGATIVE</td>\n",
              "    </tr>\n",
              "    <tr>\n",
              "      <th>3</th>\n",
              "      <td>4</td>\n",
              "      <td>K04MIC17048512</td>\n",
              "      <td>K0460000001390</td>\n",
              "      <td>Muhammad Raza</td>\n",
              "      <td>MUHAMMAD RAFIQUE</td>\n",
              "      <td>NaN</td>\n",
              "      <td>1.310169e+12</td>\n",
              "      <td>NaN</td>\n",
              "      <td>31 Year(s)</td>\n",
              "      <td>Male</td>\n",
              "      <td>0</td>\n",
              "      <td>Abbottabad</td>\n",
              "      <td>Abbottabad</td>\n",
              "      <td>5/2/2017 9:20:21 A5P5</td>\n",
              "      <td>1000000000084517</td>\n",
              "      <td>Y</td>\n",
              "      <td>1000000000084517</td>\n",
              "      <td>K04MIC17048512</td>\n",
              "      <td>POSITIVE</td>\n",
              "    </tr>\n",
              "    <tr>\n",
              "      <th>4</th>\n",
              "      <td>5</td>\n",
              "      <td>K04MIC19121433</td>\n",
              "      <td>K0460000001408</td>\n",
              "      <td>Muhammad Shafiq</td>\n",
              "      <td>ALI ZAMAN</td>\n",
              "      <td>NaN</td>\n",
              "      <td>1.310164e+12</td>\n",
              "      <td>NaN</td>\n",
              "      <td>36 Year(s)</td>\n",
              "      <td>Male</td>\n",
              "      <td>0</td>\n",
              "      <td>Abbottabad</td>\n",
              "      <td>Abbottabad</td>\n",
              "      <td>8/21/2019 15:51:51 A8P8</td>\n",
              "      <td>1000000000086677</td>\n",
              "      <td>Y</td>\n",
              "      <td>1000000000084517</td>\n",
              "      <td>K04MIC19121433</td>\n",
              "      <td>NEGATIVE</td>\n",
              "    </tr>\n",
              "    <tr>\n",
              "      <th>...</th>\n",
              "      <td>...</td>\n",
              "      <td>...</td>\n",
              "      <td>...</td>\n",
              "      <td>...</td>\n",
              "      <td>...</td>\n",
              "      <td>...</td>\n",
              "      <td>...</td>\n",
              "      <td>...</td>\n",
              "      <td>...</td>\n",
              "      <td>...</td>\n",
              "      <td>...</td>\n",
              "      <td>...</td>\n",
              "      <td>...</td>\n",
              "      <td>...</td>\n",
              "      <td>...</td>\n",
              "      <td>...</td>\n",
              "      <td>...</td>\n",
              "      <td>...</td>\n",
              "      <td>...</td>\n",
              "    </tr>\n",
              "    <tr>\n",
              "      <th>68619</th>\n",
              "      <td>68620</td>\n",
              "      <td>K04MIC21013679</td>\n",
              "      <td>K0400002460067</td>\n",
              "      <td>Ayesha Rizwan</td>\n",
              "      <td>MUHAMMAD RIZWAN</td>\n",
              "      <td>NaN</td>\n",
              "      <td>NaN</td>\n",
              "      <td>NaN</td>\n",
              "      <td>2 Year(s)</td>\n",
              "      <td>Female</td>\n",
              "      <td>0</td>\n",
              "      <td>Abbottabad</td>\n",
              "      <td>Abbottabad</td>\n",
              "      <td>2/11/2021 18:54:41 A2P2</td>\n",
              "      <td>1000000000084517</td>\n",
              "      <td>Y</td>\n",
              "      <td>1000000000084517</td>\n",
              "      <td>K04MIC21013679</td>\n",
              "      <td>NEGATIVE</td>\n",
              "    </tr>\n",
              "    <tr>\n",
              "      <th>68620</th>\n",
              "      <td>68621</td>\n",
              "      <td>K04MIC21013847</td>\n",
              "      <td>K0400002460763</td>\n",
              "      <td>M Shokat</td>\n",
              "      <td>KHALIL UR REHMAN</td>\n",
              "      <td>NaN</td>\n",
              "      <td>NaN</td>\n",
              "      <td>NaN</td>\n",
              "      <td>18 Year(s)</td>\n",
              "      <td>Male</td>\n",
              "      <td>0</td>\n",
              "      <td>Abbottabad</td>\n",
              "      <td>Abbottabad</td>\n",
              "      <td>2/12/2021 11:22:43 A2P2</td>\n",
              "      <td>1000000000086286</td>\n",
              "      <td>Y</td>\n",
              "      <td>1000000000084517</td>\n",
              "      <td>K04MIC21013847</td>\n",
              "      <td>NEGATIVE</td>\n",
              "    </tr>\n",
              "    <tr>\n",
              "      <th>68621</th>\n",
              "      <td>68622</td>\n",
              "      <td>K04MIC21014199</td>\n",
              "      <td>K0400002461421</td>\n",
              "      <td>Mr Ayan</td>\n",
              "      <td>FARHAD KHAN</td>\n",
              "      <td>NaN</td>\n",
              "      <td>NaN</td>\n",
              "      <td>NaN</td>\n",
              "      <td>3 Year(s)</td>\n",
              "      <td>Male</td>\n",
              "      <td>0</td>\n",
              "      <td>Abbottabad</td>\n",
              "      <td>Abbottabad</td>\n",
              "      <td>2/13/2021 11:04:17 A2P2</td>\n",
              "      <td>1000000000084517</td>\n",
              "      <td>Y</td>\n",
              "      <td>1000000000084517</td>\n",
              "      <td>K04MIC21014199</td>\n",
              "      <td>NEGATIVE</td>\n",
              "    </tr>\n",
              "    <tr>\n",
              "      <th>68622</th>\n",
              "      <td>68623</td>\n",
              "      <td>K04MIC21014379</td>\n",
              "      <td>K04ACE21027099</td>\n",
              "      <td>Qasim Shah</td>\n",
              "      <td>JAMREEZ SHAH</td>\n",
              "      <td>NaN</td>\n",
              "      <td>NaN</td>\n",
              "      <td>NaN</td>\n",
              "      <td>48 Year(s)</td>\n",
              "      <td>Male</td>\n",
              "      <td>0</td>\n",
              "      <td>Abbottabad</td>\n",
              "      <td>Abbottabad</td>\n",
              "      <td>2/13/2021 17:52:31 A2P2</td>\n",
              "      <td>1000000000084517</td>\n",
              "      <td>Y</td>\n",
              "      <td>1000000000084517</td>\n",
              "      <td>K04MIC21014379</td>\n",
              "      <td>NEGATIVE</td>\n",
              "    </tr>\n",
              "    <tr>\n",
              "      <th>68623</th>\n",
              "      <td>68624</td>\n",
              "      <td>K04MIC21015695</td>\n",
              "      <td>K0400002465586</td>\n",
              "      <td>Shazia Bibi</td>\n",
              "      <td>ABDUL HAKEEM</td>\n",
              "      <td>NaN</td>\n",
              "      <td>NaN</td>\n",
              "      <td>NaN</td>\n",
              "      <td>18 Year(s)</td>\n",
              "      <td>Female</td>\n",
              "      <td>0</td>\n",
              "      <td>Abbottabad</td>\n",
              "      <td>Abbottabad</td>\n",
              "      <td>2/17/2021 10:38:15 A2P2</td>\n",
              "      <td>1000000000084517</td>\n",
              "      <td>Y</td>\n",
              "      <td>1000000000084517</td>\n",
              "      <td>K04MIC21015695</td>\n",
              "      <td>NEGATIVE</td>\n",
              "    </tr>\n",
              "  </tbody>\n",
              "</table>\n",
              "<p>68624 rows × 19 columns</p>\n",
              "</div>\n",
              "      <button class=\"colab-df-convert\" onclick=\"convertToInteractive('df-68b6772b-b195-4949-8b91-8729920bdbd3')\"\n",
              "              title=\"Convert this dataframe to an interactive table.\"\n",
              "              style=\"display:none;\">\n",
              "        \n",
              "  <svg xmlns=\"http://www.w3.org/2000/svg\" height=\"24px\"viewBox=\"0 0 24 24\"\n",
              "       width=\"24px\">\n",
              "    <path d=\"M0 0h24v24H0V0z\" fill=\"none\"/>\n",
              "    <path d=\"M18.56 5.44l.94 2.06.94-2.06 2.06-.94-2.06-.94-.94-2.06-.94 2.06-2.06.94zm-11 1L8.5 8.5l.94-2.06 2.06-.94-2.06-.94L8.5 2.5l-.94 2.06-2.06.94zm10 10l.94 2.06.94-2.06 2.06-.94-2.06-.94-.94-2.06-.94 2.06-2.06.94z\"/><path d=\"M17.41 7.96l-1.37-1.37c-.4-.4-.92-.59-1.43-.59-.52 0-1.04.2-1.43.59L10.3 9.45l-7.72 7.72c-.78.78-.78 2.05 0 2.83L4 21.41c.39.39.9.59 1.41.59.51 0 1.02-.2 1.41-.59l7.78-7.78 2.81-2.81c.8-.78.8-2.07 0-2.86zM5.41 20L4 18.59l7.72-7.72 1.47 1.35L5.41 20z\"/>\n",
              "  </svg>\n",
              "      </button>\n",
              "      \n",
              "  <style>\n",
              "    .colab-df-container {\n",
              "      display:flex;\n",
              "      flex-wrap:wrap;\n",
              "      gap: 12px;\n",
              "    }\n",
              "\n",
              "    .colab-df-convert {\n",
              "      background-color: #E8F0FE;\n",
              "      border: none;\n",
              "      border-radius: 50%;\n",
              "      cursor: pointer;\n",
              "      display: none;\n",
              "      fill: #1967D2;\n",
              "      height: 32px;\n",
              "      padding: 0 0 0 0;\n",
              "      width: 32px;\n",
              "    }\n",
              "\n",
              "    .colab-df-convert:hover {\n",
              "      background-color: #E2EBFA;\n",
              "      box-shadow: 0px 1px 2px rgba(60, 64, 67, 0.3), 0px 1px 3px 1px rgba(60, 64, 67, 0.15);\n",
              "      fill: #174EA6;\n",
              "    }\n",
              "\n",
              "    [theme=dark] .colab-df-convert {\n",
              "      background-color: #3B4455;\n",
              "      fill: #D2E3FC;\n",
              "    }\n",
              "\n",
              "    [theme=dark] .colab-df-convert:hover {\n",
              "      background-color: #434B5C;\n",
              "      box-shadow: 0px 1px 3px 1px rgba(0, 0, 0, 0.15);\n",
              "      filter: drop-shadow(0px 1px 2px rgba(0, 0, 0, 0.3));\n",
              "      fill: #FFFFFF;\n",
              "    }\n",
              "  </style>\n",
              "\n",
              "      <script>\n",
              "        const buttonEl =\n",
              "          document.querySelector('#df-68b6772b-b195-4949-8b91-8729920bdbd3 button.colab-df-convert');\n",
              "        buttonEl.style.display =\n",
              "          google.colab.kernel.accessAllowed ? 'block' : 'none';\n",
              "\n",
              "        async function convertToInteractive(key) {\n",
              "          const element = document.querySelector('#df-68b6772b-b195-4949-8b91-8729920bdbd3');\n",
              "          const dataTable =\n",
              "            await google.colab.kernel.invokeFunction('convertToInteractive',\n",
              "                                                     [key], {});\n",
              "          if (!dataTable) return;\n",
              "\n",
              "          const docLinkHtml = 'Like what you see? Visit the ' +\n",
              "            '<a target=\"_blank\" href=https://colab.research.google.com/notebooks/data_table.ipynb>data table notebook</a>'\n",
              "            + ' to learn more about interactive tables.';\n",
              "          element.innerHTML = '';\n",
              "          dataTable['output_type'] = 'display_data';\n",
              "          await google.colab.output.renderOutput(dataTable, element);\n",
              "          const docLink = document.createElement('div');\n",
              "          docLink.innerHTML = docLinkHtml;\n",
              "          element.appendChild(docLink);\n",
              "        }\n",
              "      </script>\n",
              "    </div>\n",
              "  </div>\n",
              "  "
            ]
          },
          "metadata": {},
          "execution_count": 473
        }
      ]
    },
    {
      "cell_type": "code",
      "source": [
        "Train_data.drop(labels=['Unnamed: 0','SECTION_NO', 'PATIENT_NAME', 'FATHER_NAME',\n",
        "       'HUSBAND_NAME', 'NIC_NEW', 'REFERRED_FROM', 'NO_OF_ADMISSION', 'TEHSIL', 'DISTRICT', 'CPT_ID',\n",
        "       'RESULT_VALUE', 'CPT_ID.1', 'SECTION_NO.1'],axis=1,inplace=True)"
      ],
      "metadata": {
        "id": "WHAxtqQyEpgX"
      },
      "execution_count": null,
      "outputs": []
    },
    {
      "cell_type": "markdown",
      "metadata": {
        "id": "P_jf97wAha9D"
      },
      "source": [
        "##**3.3- Drop input features**"
      ]
    },
    {
      "cell_type": "code",
      "metadata": {
        "id": "X7bUpgkyW3FQ"
      },
      "source": [
        "New5=Train_data.drop(Train_data.columns[[0,1,3,4,5,6,7,10,17]], axis=1, inplace=True)"
      ],
      "execution_count": null,
      "outputs": []
    },
    {
      "cell_type": "code",
      "metadata": {
        "id": "KFcz6908YWms",
        "colab": {
          "base_uri": "https://localhost:8080/",
          "height": 423
        },
        "outputId": "b25528df-38bd-4c3a-e61a-fc2090d5ff92"
      },
      "source": [
        "Train_data"
      ],
      "execution_count": null,
      "outputs": [
        {
          "output_type": "execute_result",
          "data": {
            "text/plain": [
              "                 MRNO         AGE  GENDER            REPORT_VERIFIED  \\\n",
              "0      K0460000001366  33 Year(s)  Female  10/7/2017 10:05:16 A10P10   \n",
              "1      K0460000001366  33 Year(s)  Female  10/7/2017 10:05:13 A10P10   \n",
              "2      K0460000001388  52 Year(s)    Male    1/23/2018 11:15:40 A1P1   \n",
              "3      K0460000001390  31 Year(s)    Male      5/2/2017 9:20:21 A5P5   \n",
              "4      K0460000001408  36 Year(s)    Male    8/21/2019 15:51:51 A8P8   \n",
              "...               ...         ...     ...                        ...   \n",
              "68619  K0400002460067   2 Year(s)  Female    2/11/2021 18:54:41 A2P2   \n",
              "68620  K0400002460763  18 Year(s)    Male    2/12/2021 11:22:43 A2P2   \n",
              "68621  K0400002461421   3 Year(s)    Male    2/13/2021 11:04:17 A2P2   \n",
              "68622  K04ACE21027099  48 Year(s)    Male    2/13/2021 17:52:31 A2P2   \n",
              "68623  K0400002465586  18 Year(s)  Female    2/17/2021 10:38:15 A2P2   \n",
              "\n",
              "      RESULT_TEXT  \n",
              "0        NEGATIVE  \n",
              "1        NEGATIVE  \n",
              "2        NEGATIVE  \n",
              "3        POSITIVE  \n",
              "4        NEGATIVE  \n",
              "...           ...  \n",
              "68619    NEGATIVE  \n",
              "68620    NEGATIVE  \n",
              "68621    NEGATIVE  \n",
              "68622    NEGATIVE  \n",
              "68623    NEGATIVE  \n",
              "\n",
              "[68624 rows x 5 columns]"
            ],
            "text/html": [
              "\n",
              "  <div id=\"df-3befa016-45db-4886-a24f-3f9e8a2f70af\">\n",
              "    <div class=\"colab-df-container\">\n",
              "      <div>\n",
              "<style scoped>\n",
              "    .dataframe tbody tr th:only-of-type {\n",
              "        vertical-align: middle;\n",
              "    }\n",
              "\n",
              "    .dataframe tbody tr th {\n",
              "        vertical-align: top;\n",
              "    }\n",
              "\n",
              "    .dataframe thead th {\n",
              "        text-align: right;\n",
              "    }\n",
              "</style>\n",
              "<table border=\"1\" class=\"dataframe\">\n",
              "  <thead>\n",
              "    <tr style=\"text-align: right;\">\n",
              "      <th></th>\n",
              "      <th>MRNO</th>\n",
              "      <th>AGE</th>\n",
              "      <th>GENDER</th>\n",
              "      <th>REPORT_VERIFIED</th>\n",
              "      <th>RESULT_TEXT</th>\n",
              "    </tr>\n",
              "  </thead>\n",
              "  <tbody>\n",
              "    <tr>\n",
              "      <th>0</th>\n",
              "      <td>K0460000001366</td>\n",
              "      <td>33 Year(s)</td>\n",
              "      <td>Female</td>\n",
              "      <td>10/7/2017 10:05:16 A10P10</td>\n",
              "      <td>NEGATIVE</td>\n",
              "    </tr>\n",
              "    <tr>\n",
              "      <th>1</th>\n",
              "      <td>K0460000001366</td>\n",
              "      <td>33 Year(s)</td>\n",
              "      <td>Female</td>\n",
              "      <td>10/7/2017 10:05:13 A10P10</td>\n",
              "      <td>NEGATIVE</td>\n",
              "    </tr>\n",
              "    <tr>\n",
              "      <th>2</th>\n",
              "      <td>K0460000001388</td>\n",
              "      <td>52 Year(s)</td>\n",
              "      <td>Male</td>\n",
              "      <td>1/23/2018 11:15:40 A1P1</td>\n",
              "      <td>NEGATIVE</td>\n",
              "    </tr>\n",
              "    <tr>\n",
              "      <th>3</th>\n",
              "      <td>K0460000001390</td>\n",
              "      <td>31 Year(s)</td>\n",
              "      <td>Male</td>\n",
              "      <td>5/2/2017 9:20:21 A5P5</td>\n",
              "      <td>POSITIVE</td>\n",
              "    </tr>\n",
              "    <tr>\n",
              "      <th>4</th>\n",
              "      <td>K0460000001408</td>\n",
              "      <td>36 Year(s)</td>\n",
              "      <td>Male</td>\n",
              "      <td>8/21/2019 15:51:51 A8P8</td>\n",
              "      <td>NEGATIVE</td>\n",
              "    </tr>\n",
              "    <tr>\n",
              "      <th>...</th>\n",
              "      <td>...</td>\n",
              "      <td>...</td>\n",
              "      <td>...</td>\n",
              "      <td>...</td>\n",
              "      <td>...</td>\n",
              "    </tr>\n",
              "    <tr>\n",
              "      <th>68619</th>\n",
              "      <td>K0400002460067</td>\n",
              "      <td>2 Year(s)</td>\n",
              "      <td>Female</td>\n",
              "      <td>2/11/2021 18:54:41 A2P2</td>\n",
              "      <td>NEGATIVE</td>\n",
              "    </tr>\n",
              "    <tr>\n",
              "      <th>68620</th>\n",
              "      <td>K0400002460763</td>\n",
              "      <td>18 Year(s)</td>\n",
              "      <td>Male</td>\n",
              "      <td>2/12/2021 11:22:43 A2P2</td>\n",
              "      <td>NEGATIVE</td>\n",
              "    </tr>\n",
              "    <tr>\n",
              "      <th>68621</th>\n",
              "      <td>K0400002461421</td>\n",
              "      <td>3 Year(s)</td>\n",
              "      <td>Male</td>\n",
              "      <td>2/13/2021 11:04:17 A2P2</td>\n",
              "      <td>NEGATIVE</td>\n",
              "    </tr>\n",
              "    <tr>\n",
              "      <th>68622</th>\n",
              "      <td>K04ACE21027099</td>\n",
              "      <td>48 Year(s)</td>\n",
              "      <td>Male</td>\n",
              "      <td>2/13/2021 17:52:31 A2P2</td>\n",
              "      <td>NEGATIVE</td>\n",
              "    </tr>\n",
              "    <tr>\n",
              "      <th>68623</th>\n",
              "      <td>K0400002465586</td>\n",
              "      <td>18 Year(s)</td>\n",
              "      <td>Female</td>\n",
              "      <td>2/17/2021 10:38:15 A2P2</td>\n",
              "      <td>NEGATIVE</td>\n",
              "    </tr>\n",
              "  </tbody>\n",
              "</table>\n",
              "<p>68624 rows × 5 columns</p>\n",
              "</div>\n",
              "      <button class=\"colab-df-convert\" onclick=\"convertToInteractive('df-3befa016-45db-4886-a24f-3f9e8a2f70af')\"\n",
              "              title=\"Convert this dataframe to an interactive table.\"\n",
              "              style=\"display:none;\">\n",
              "        \n",
              "  <svg xmlns=\"http://www.w3.org/2000/svg\" height=\"24px\"viewBox=\"0 0 24 24\"\n",
              "       width=\"24px\">\n",
              "    <path d=\"M0 0h24v24H0V0z\" fill=\"none\"/>\n",
              "    <path d=\"M18.56 5.44l.94 2.06.94-2.06 2.06-.94-2.06-.94-.94-2.06-.94 2.06-2.06.94zm-11 1L8.5 8.5l.94-2.06 2.06-.94-2.06-.94L8.5 2.5l-.94 2.06-2.06.94zm10 10l.94 2.06.94-2.06 2.06-.94-2.06-.94-.94-2.06-.94 2.06-2.06.94z\"/><path d=\"M17.41 7.96l-1.37-1.37c-.4-.4-.92-.59-1.43-.59-.52 0-1.04.2-1.43.59L10.3 9.45l-7.72 7.72c-.78.78-.78 2.05 0 2.83L4 21.41c.39.39.9.59 1.41.59.51 0 1.02-.2 1.41-.59l7.78-7.78 2.81-2.81c.8-.78.8-2.07 0-2.86zM5.41 20L4 18.59l7.72-7.72 1.47 1.35L5.41 20z\"/>\n",
              "  </svg>\n",
              "      </button>\n",
              "      \n",
              "  <style>\n",
              "    .colab-df-container {\n",
              "      display:flex;\n",
              "      flex-wrap:wrap;\n",
              "      gap: 12px;\n",
              "    }\n",
              "\n",
              "    .colab-df-convert {\n",
              "      background-color: #E8F0FE;\n",
              "      border: none;\n",
              "      border-radius: 50%;\n",
              "      cursor: pointer;\n",
              "      display: none;\n",
              "      fill: #1967D2;\n",
              "      height: 32px;\n",
              "      padding: 0 0 0 0;\n",
              "      width: 32px;\n",
              "    }\n",
              "\n",
              "    .colab-df-convert:hover {\n",
              "      background-color: #E2EBFA;\n",
              "      box-shadow: 0px 1px 2px rgba(60, 64, 67, 0.3), 0px 1px 3px 1px rgba(60, 64, 67, 0.15);\n",
              "      fill: #174EA6;\n",
              "    }\n",
              "\n",
              "    [theme=dark] .colab-df-convert {\n",
              "      background-color: #3B4455;\n",
              "      fill: #D2E3FC;\n",
              "    }\n",
              "\n",
              "    [theme=dark] .colab-df-convert:hover {\n",
              "      background-color: #434B5C;\n",
              "      box-shadow: 0px 1px 3px 1px rgba(0, 0, 0, 0.15);\n",
              "      filter: drop-shadow(0px 1px 2px rgba(0, 0, 0, 0.3));\n",
              "      fill: #FFFFFF;\n",
              "    }\n",
              "  </style>\n",
              "\n",
              "      <script>\n",
              "        const buttonEl =\n",
              "          document.querySelector('#df-3befa016-45db-4886-a24f-3f9e8a2f70af button.colab-df-convert');\n",
              "        buttonEl.style.display =\n",
              "          google.colab.kernel.accessAllowed ? 'block' : 'none';\n",
              "\n",
              "        async function convertToInteractive(key) {\n",
              "          const element = document.querySelector('#df-3befa016-45db-4886-a24f-3f9e8a2f70af');\n",
              "          const dataTable =\n",
              "            await google.colab.kernel.invokeFunction('convertToInteractive',\n",
              "                                                     [key], {});\n",
              "          if (!dataTable) return;\n",
              "\n",
              "          const docLinkHtml = 'Like what you see? Visit the ' +\n",
              "            '<a target=\"_blank\" href=https://colab.research.google.com/notebooks/data_table.ipynb>data table notebook</a>'\n",
              "            + ' to learn more about interactive tables.';\n",
              "          element.innerHTML = '';\n",
              "          dataTable['output_type'] = 'display_data';\n",
              "          await google.colab.output.renderOutput(dataTable, element);\n",
              "          const docLink = document.createElement('div');\n",
              "          docLink.innerHTML = docLinkHtml;\n",
              "          element.appendChild(docLink);\n",
              "        }\n",
              "      </script>\n",
              "    </div>\n",
              "  </div>\n",
              "  "
            ]
          },
          "metadata": {},
          "execution_count": 475
        }
      ]
    },
    {
      "cell_type": "code",
      "metadata": {
        "id": "MxTg7dl3ZAUG",
        "colab": {
          "base_uri": "https://localhost:8080/"
        },
        "outputId": "59ca4d00-95bd-4a39-8dc5-969aa0ec878c"
      },
      "source": [
        "Train_data.columns"
      ],
      "execution_count": null,
      "outputs": [
        {
          "output_type": "execute_result",
          "data": {
            "text/plain": [
              "Index(['MRNO', 'AGE', 'GENDER', 'REPORT_VERIFIED', 'RESULT_TEXT'], dtype='object')"
            ]
          },
          "metadata": {},
          "execution_count": 138
        }
      ]
    },
    {
      "cell_type": "markdown",
      "metadata": {
        "id": "TtDRkJLu27d6"
      },
      "source": [
        "##**3.4 Convert target variable into binary Form**"
      ]
    },
    {
      "cell_type": "code",
      "metadata": {
        "id": "_3NNM8H3QGZ8"
      },
      "source": [
        "Train_data['RESULT_TEXT'].replace({'NEGATIVE': 0, 'POSITIVE': 1},inplace = True)\n"
      ],
      "execution_count": null,
      "outputs": []
    },
    {
      "cell_type": "code",
      "metadata": {
        "colab": {
          "base_uri": "https://localhost:8080/",
          "height": 423
        },
        "id": "mMCjB_NdHCrW",
        "outputId": "aae6f14b-7f59-4bfc-b46f-ec3e1291d7aa"
      },
      "source": [
        "Train_data"
      ],
      "execution_count": null,
      "outputs": [
        {
          "output_type": "execute_result",
          "data": {
            "text/plain": [
              "                 MRNO         AGE  GENDER            REPORT_VERIFIED  \\\n",
              "0      K0460000001366  33 Year(s)  Female  10/7/2017 10:05:16 A10P10   \n",
              "1      K0460000001366  33 Year(s)  Female  10/7/2017 10:05:13 A10P10   \n",
              "2      K0460000001388  52 Year(s)    Male    1/23/2018 11:15:40 A1P1   \n",
              "3      K0460000001390  31 Year(s)    Male      5/2/2017 9:20:21 A5P5   \n",
              "4      K0460000001408  36 Year(s)    Male    8/21/2019 15:51:51 A8P8   \n",
              "...               ...         ...     ...                        ...   \n",
              "68619  K0400002460067   2 Year(s)  Female    2/11/2021 18:54:41 A2P2   \n",
              "68620  K0400002460763  18 Year(s)    Male    2/12/2021 11:22:43 A2P2   \n",
              "68621  K0400002461421   3 Year(s)    Male    2/13/2021 11:04:17 A2P2   \n",
              "68622  K04ACE21027099  48 Year(s)    Male    2/13/2021 17:52:31 A2P2   \n",
              "68623  K0400002465586  18 Year(s)  Female    2/17/2021 10:38:15 A2P2   \n",
              "\n",
              "       RESULT_TEXT  \n",
              "0                0  \n",
              "1                0  \n",
              "2                0  \n",
              "3                1  \n",
              "4                0  \n",
              "...            ...  \n",
              "68619            0  \n",
              "68620            0  \n",
              "68621            0  \n",
              "68622            0  \n",
              "68623            0  \n",
              "\n",
              "[68624 rows x 5 columns]"
            ],
            "text/html": [
              "\n",
              "  <div id=\"df-b47549aa-a2ac-4c52-afb2-8121b966313c\">\n",
              "    <div class=\"colab-df-container\">\n",
              "      <div>\n",
              "<style scoped>\n",
              "    .dataframe tbody tr th:only-of-type {\n",
              "        vertical-align: middle;\n",
              "    }\n",
              "\n",
              "    .dataframe tbody tr th {\n",
              "        vertical-align: top;\n",
              "    }\n",
              "\n",
              "    .dataframe thead th {\n",
              "        text-align: right;\n",
              "    }\n",
              "</style>\n",
              "<table border=\"1\" class=\"dataframe\">\n",
              "  <thead>\n",
              "    <tr style=\"text-align: right;\">\n",
              "      <th></th>\n",
              "      <th>MRNO</th>\n",
              "      <th>AGE</th>\n",
              "      <th>GENDER</th>\n",
              "      <th>REPORT_VERIFIED</th>\n",
              "      <th>RESULT_TEXT</th>\n",
              "    </tr>\n",
              "  </thead>\n",
              "  <tbody>\n",
              "    <tr>\n",
              "      <th>0</th>\n",
              "      <td>K0460000001366</td>\n",
              "      <td>33 Year(s)</td>\n",
              "      <td>Female</td>\n",
              "      <td>10/7/2017 10:05:16 A10P10</td>\n",
              "      <td>0</td>\n",
              "    </tr>\n",
              "    <tr>\n",
              "      <th>1</th>\n",
              "      <td>K0460000001366</td>\n",
              "      <td>33 Year(s)</td>\n",
              "      <td>Female</td>\n",
              "      <td>10/7/2017 10:05:13 A10P10</td>\n",
              "      <td>0</td>\n",
              "    </tr>\n",
              "    <tr>\n",
              "      <th>2</th>\n",
              "      <td>K0460000001388</td>\n",
              "      <td>52 Year(s)</td>\n",
              "      <td>Male</td>\n",
              "      <td>1/23/2018 11:15:40 A1P1</td>\n",
              "      <td>0</td>\n",
              "    </tr>\n",
              "    <tr>\n",
              "      <th>3</th>\n",
              "      <td>K0460000001390</td>\n",
              "      <td>31 Year(s)</td>\n",
              "      <td>Male</td>\n",
              "      <td>5/2/2017 9:20:21 A5P5</td>\n",
              "      <td>1</td>\n",
              "    </tr>\n",
              "    <tr>\n",
              "      <th>4</th>\n",
              "      <td>K0460000001408</td>\n",
              "      <td>36 Year(s)</td>\n",
              "      <td>Male</td>\n",
              "      <td>8/21/2019 15:51:51 A8P8</td>\n",
              "      <td>0</td>\n",
              "    </tr>\n",
              "    <tr>\n",
              "      <th>...</th>\n",
              "      <td>...</td>\n",
              "      <td>...</td>\n",
              "      <td>...</td>\n",
              "      <td>...</td>\n",
              "      <td>...</td>\n",
              "    </tr>\n",
              "    <tr>\n",
              "      <th>68619</th>\n",
              "      <td>K0400002460067</td>\n",
              "      <td>2 Year(s)</td>\n",
              "      <td>Female</td>\n",
              "      <td>2/11/2021 18:54:41 A2P2</td>\n",
              "      <td>0</td>\n",
              "    </tr>\n",
              "    <tr>\n",
              "      <th>68620</th>\n",
              "      <td>K0400002460763</td>\n",
              "      <td>18 Year(s)</td>\n",
              "      <td>Male</td>\n",
              "      <td>2/12/2021 11:22:43 A2P2</td>\n",
              "      <td>0</td>\n",
              "    </tr>\n",
              "    <tr>\n",
              "      <th>68621</th>\n",
              "      <td>K0400002461421</td>\n",
              "      <td>3 Year(s)</td>\n",
              "      <td>Male</td>\n",
              "      <td>2/13/2021 11:04:17 A2P2</td>\n",
              "      <td>0</td>\n",
              "    </tr>\n",
              "    <tr>\n",
              "      <th>68622</th>\n",
              "      <td>K04ACE21027099</td>\n",
              "      <td>48 Year(s)</td>\n",
              "      <td>Male</td>\n",
              "      <td>2/13/2021 17:52:31 A2P2</td>\n",
              "      <td>0</td>\n",
              "    </tr>\n",
              "    <tr>\n",
              "      <th>68623</th>\n",
              "      <td>K0400002465586</td>\n",
              "      <td>18 Year(s)</td>\n",
              "      <td>Female</td>\n",
              "      <td>2/17/2021 10:38:15 A2P2</td>\n",
              "      <td>0</td>\n",
              "    </tr>\n",
              "  </tbody>\n",
              "</table>\n",
              "<p>68624 rows × 5 columns</p>\n",
              "</div>\n",
              "      <button class=\"colab-df-convert\" onclick=\"convertToInteractive('df-b47549aa-a2ac-4c52-afb2-8121b966313c')\"\n",
              "              title=\"Convert this dataframe to an interactive table.\"\n",
              "              style=\"display:none;\">\n",
              "        \n",
              "  <svg xmlns=\"http://www.w3.org/2000/svg\" height=\"24px\"viewBox=\"0 0 24 24\"\n",
              "       width=\"24px\">\n",
              "    <path d=\"M0 0h24v24H0V0z\" fill=\"none\"/>\n",
              "    <path d=\"M18.56 5.44l.94 2.06.94-2.06 2.06-.94-2.06-.94-.94-2.06-.94 2.06-2.06.94zm-11 1L8.5 8.5l.94-2.06 2.06-.94-2.06-.94L8.5 2.5l-.94 2.06-2.06.94zm10 10l.94 2.06.94-2.06 2.06-.94-2.06-.94-.94-2.06-.94 2.06-2.06.94z\"/><path d=\"M17.41 7.96l-1.37-1.37c-.4-.4-.92-.59-1.43-.59-.52 0-1.04.2-1.43.59L10.3 9.45l-7.72 7.72c-.78.78-.78 2.05 0 2.83L4 21.41c.39.39.9.59 1.41.59.51 0 1.02-.2 1.41-.59l7.78-7.78 2.81-2.81c.8-.78.8-2.07 0-2.86zM5.41 20L4 18.59l7.72-7.72 1.47 1.35L5.41 20z\"/>\n",
              "  </svg>\n",
              "      </button>\n",
              "      \n",
              "  <style>\n",
              "    .colab-df-container {\n",
              "      display:flex;\n",
              "      flex-wrap:wrap;\n",
              "      gap: 12px;\n",
              "    }\n",
              "\n",
              "    .colab-df-convert {\n",
              "      background-color: #E8F0FE;\n",
              "      border: none;\n",
              "      border-radius: 50%;\n",
              "      cursor: pointer;\n",
              "      display: none;\n",
              "      fill: #1967D2;\n",
              "      height: 32px;\n",
              "      padding: 0 0 0 0;\n",
              "      width: 32px;\n",
              "    }\n",
              "\n",
              "    .colab-df-convert:hover {\n",
              "      background-color: #E2EBFA;\n",
              "      box-shadow: 0px 1px 2px rgba(60, 64, 67, 0.3), 0px 1px 3px 1px rgba(60, 64, 67, 0.15);\n",
              "      fill: #174EA6;\n",
              "    }\n",
              "\n",
              "    [theme=dark] .colab-df-convert {\n",
              "      background-color: #3B4455;\n",
              "      fill: #D2E3FC;\n",
              "    }\n",
              "\n",
              "    [theme=dark] .colab-df-convert:hover {\n",
              "      background-color: #434B5C;\n",
              "      box-shadow: 0px 1px 3px 1px rgba(0, 0, 0, 0.15);\n",
              "      filter: drop-shadow(0px 1px 2px rgba(0, 0, 0, 0.3));\n",
              "      fill: #FFFFFF;\n",
              "    }\n",
              "  </style>\n",
              "\n",
              "      <script>\n",
              "        const buttonEl =\n",
              "          document.querySelector('#df-b47549aa-a2ac-4c52-afb2-8121b966313c button.colab-df-convert');\n",
              "        buttonEl.style.display =\n",
              "          google.colab.kernel.accessAllowed ? 'block' : 'none';\n",
              "\n",
              "        async function convertToInteractive(key) {\n",
              "          const element = document.querySelector('#df-b47549aa-a2ac-4c52-afb2-8121b966313c');\n",
              "          const dataTable =\n",
              "            await google.colab.kernel.invokeFunction('convertToInteractive',\n",
              "                                                     [key], {});\n",
              "          if (!dataTable) return;\n",
              "\n",
              "          const docLinkHtml = 'Like what you see? Visit the ' +\n",
              "            '<a target=\"_blank\" href=https://colab.research.google.com/notebooks/data_table.ipynb>data table notebook</a>'\n",
              "            + ' to learn more about interactive tables.';\n",
              "          element.innerHTML = '';\n",
              "          dataTable['output_type'] = 'display_data';\n",
              "          await google.colab.output.renderOutput(dataTable, element);\n",
              "          const docLink = document.createElement('div');\n",
              "          docLink.innerHTML = docLinkHtml;\n",
              "          element.appendChild(docLink);\n",
              "        }\n",
              "      </script>\n",
              "    </div>\n",
              "  </div>\n",
              "  "
            ]
          },
          "metadata": {},
          "execution_count": 400
        }
      ]
    },
    {
      "cell_type": "markdown",
      "metadata": {
        "id": "931yEjnU4tM7"
      },
      "source": [
        "##**3.5 Imbalance problem**"
      ]
    },
    {
      "cell_type": "code",
      "metadata": {
        "id": "HslcQv7LQq-W",
        "colab": {
          "base_uri": "https://localhost:8080/",
          "height": 336
        },
        "outputId": "4039f75a-abed-42cb-dc94-e5605b37520d"
      },
      "source": [
        "import matplotlib.pyplot as plt\n",
        "fig = plt.figure(figsize = (8,5))\n",
        "Train_data.RESULT_TEXT.value_counts(normalize = True).plot(kind='bar', color= ['skyblue','navy'], alpha = 0.9, rot=0)\n",
        "plt.title('Results Status Negative(0) and Positive(1) in the Imbalanced Dataset')\n",
        "plt.show()"
      ],
      "execution_count": null,
      "outputs": [
        {
          "output_type": "display_data",
          "data": {
            "text/plain": [
              "<Figure size 576x360 with 1 Axes>"
            ],
            "image/png": "[encoded data removed]"
          },
          "metadata": {
            "needs_background": "light"
          }
        }
      ]
    },
    {
      "cell_type": "code",
      "metadata": {
        "id": "WhEp-UEjRROF",
        "colab": {
          "base_uri": "https://localhost:8080/",
          "height": 336
        },
        "outputId": "3e7eb274-df18-4680-b9fd-9cecb3abcf7b"
      },
      "source": [
        "from sklearn.utils import resample\n",
        "no = Train_data[Train_data.RESULT_TEXT == 0]\n",
        "yes = Train_data[Train_data.RESULT_TEXT == 1]\n",
        "yes_oversampled = resample(yes, replace=True, n_samples=len(no), random_state=123)\n",
        "oversampled = pd.concat([no, yes_oversampled])\n",
        "fig = plt.figure(figsize = (8,5))\n",
        "oversampled.RESULT_TEXT.value_counts(normalize = True).plot(kind='bar', color= ['skyblue','navy'], alpha = 0.9, rot=0)\n",
        "plt.title('Waterbrone Disease status Nagative(0) and Postive(1) after Oversampling (Balanced Dataset)')\n",
        "plt.show()\n",
        "\n",
        "\n",
        "\n",
        "\n"
      ],
      "execution_count": null,
      "outputs": [
        {
          "output_type": "display_data",
          "data": {
            "text/plain": [
              "<Figure size 576x360 with 1 Axes>"
            ],
            "image/png": "[encoded data removed]"
          },
          "metadata": {
            "needs_background": "light"
          }
        }
      ]
    },
    {
      "cell_type": "code",
      "source": [
        "oversampled "
      ],
      "metadata": {
        "id": "x-zsLqQqHHZ0",
        "outputId": "772bbc71-ff85-49a1-d80b-deb35e02fd4a",
        "colab": {
          "base_uri": "https://localhost:8080/",
          "height": 423
        }
      },
      "execution_count": null,
      "outputs": [
        {
          "output_type": "execute_result",
          "data": {
            "text/plain": [
              "                 MRNO         AGE  GENDER             REPORT_VERIFIED  \\\n",
              "0      K0460000001366  33 Year(s)  Female   10/7/2017 10:05:16 A10P10   \n",
              "1      K0460000001366  33 Year(s)  Female   10/7/2017 10:05:13 A10P10   \n",
              "2      K0460000001388  52 Year(s)    Male     1/23/2018 11:15:40 A1P1   \n",
              "4      K0460000001408  36 Year(s)    Male     8/21/2019 15:51:51 A8P8   \n",
              "5      K0460000001558  27 Year(s)  Female  10/10/2020 12:24:18 A10P10   \n",
              "...               ...         ...     ...                         ...   \n",
              "62602  K0400000704505  66 Year(s)    Male     9/22/2017 16:45:35 A9P9   \n",
              "51667  K0400000080346  16 Year(s)    Male     1/25/2017 17:45:16 A1P1   \n",
              "4227   K0400001172648  24 Year(s)  Female     4/17/2018 17:20:51 A4P4   \n",
              "28212  K0400000697678  39 Year(s)    Male     9/20/2017 10:57:03 A9P9   \n",
              "37226  K0400000809937  30 Year(s)    Male   11/3/2017 15:48:56 A11P11   \n",
              "\n",
              "       RESULT_TEXT  \n",
              "0                0  \n",
              "1                0  \n",
              "2                0  \n",
              "4                0  \n",
              "5                0  \n",
              "...            ...  \n",
              "62602            1  \n",
              "51667            1  \n",
              "4227             1  \n",
              "28212            1  \n",
              "37226            1  \n",
              "\n",
              "[93846 rows x 5 columns]"
            ],
            "text/html": [
              "\n",
              "  <div id=\"df-6e30f1bd-c1b7-49d3-a2fe-6141a928ca3d\">\n",
              "    <div class=\"colab-df-container\">\n",
              "      <div>\n",
              "<style scoped>\n",
              "    .dataframe tbody tr th:only-of-type {\n",
              "        vertical-align: middle;\n",
              "    }\n",
              "\n",
              "    .dataframe tbody tr th {\n",
              "        vertical-align: top;\n",
              "    }\n",
              "\n",
              "    .dataframe thead th {\n",
              "        text-align: right;\n",
              "    }\n",
              "</style>\n",
              "<table border=\"1\" class=\"dataframe\">\n",
              "  <thead>\n",
              "    <tr style=\"text-align: right;\">\n",
              "      <th></th>\n",
              "      <th>MRNO</th>\n",
              "      <th>AGE</th>\n",
              "      <th>GENDER</th>\n",
              "      <th>REPORT_VERIFIED</th>\n",
              "      <th>RESULT_TEXT</th>\n",
              "    </tr>\n",
              "  </thead>\n",
              "  <tbody>\n",
              "    <tr>\n",
              "      <th>0</th>\n",
              "      <td>K0460000001366</td>\n",
              "      <td>33 Year(s)</td>\n",
              "      <td>Female</td>\n",
              "      <td>10/7/2017 10:05:16 A10P10</td>\n",
              "      <td>0</td>\n",
              "    </tr>\n",
              "    <tr>\n",
              "      <th>1</th>\n",
              "      <td>K0460000001366</td>\n",
              "      <td>33 Year(s)</td>\n",
              "      <td>Female</td>\n",
              "      <td>10/7/2017 10:05:13 A10P10</td>\n",
              "      <td>0</td>\n",
              "    </tr>\n",
              "    <tr>\n",
              "      <th>2</th>\n",
              "      <td>K0460000001388</td>\n",
              "      <td>52 Year(s)</td>\n",
              "      <td>Male</td>\n",
              "      <td>1/23/2018 11:15:40 A1P1</td>\n",
              "      <td>0</td>\n",
              "    </tr>\n",
              "    <tr>\n",
              "      <th>4</th>\n",
              "      <td>K0460000001408</td>\n",
              "      <td>36 Year(s)</td>\n",
              "      <td>Male</td>\n",
              "      <td>8/21/2019 15:51:51 A8P8</td>\n",
              "      <td>0</td>\n",
              "    </tr>\n",
              "    <tr>\n",
              "      <th>5</th>\n",
              "      <td>K0460000001558</td>\n",
              "      <td>27 Year(s)</td>\n",
              "      <td>Female</td>\n",
              "      <td>10/10/2020 12:24:18 A10P10</td>\n",
              "      <td>0</td>\n",
              "    </tr>\n",
              "    <tr>\n",
              "      <th>...</th>\n",
              "      <td>...</td>\n",
              "      <td>...</td>\n",
              "      <td>...</td>\n",
              "      <td>...</td>\n",
              "      <td>...</td>\n",
              "    </tr>\n",
              "    <tr>\n",
              "      <th>62602</th>\n",
              "      <td>K0400000704505</td>\n",
              "      <td>66 Year(s)</td>\n",
              "      <td>Male</td>\n",
              "      <td>9/22/2017 16:45:35 A9P9</td>\n",
              "      <td>1</td>\n",
              "    </tr>\n",
              "    <tr>\n",
              "      <th>51667</th>\n",
              "      <td>K0400000080346</td>\n",
              "      <td>16 Year(s)</td>\n",
              "      <td>Male</td>\n",
              "      <td>1/25/2017 17:45:16 A1P1</td>\n",
              "      <td>1</td>\n",
              "    </tr>\n",
              "    <tr>\n",
              "      <th>4227</th>\n",
              "      <td>K0400001172648</td>\n",
              "      <td>24 Year(s)</td>\n",
              "      <td>Female</td>\n",
              "      <td>4/17/2018 17:20:51 A4P4</td>\n",
              "      <td>1</td>\n",
              "    </tr>\n",
              "    <tr>\n",
              "      <th>28212</th>\n",
              "      <td>K0400000697678</td>\n",
              "      <td>39 Year(s)</td>\n",
              "      <td>Male</td>\n",
              "      <td>9/20/2017 10:57:03 A9P9</td>\n",
              "      <td>1</td>\n",
              "    </tr>\n",
              "    <tr>\n",
              "      <th>37226</th>\n",
              "      <td>K0400000809937</td>\n",
              "      <td>30 Year(s)</td>\n",
              "      <td>Male</td>\n",
              "      <td>11/3/2017 15:48:56 A11P11</td>\n",
              "      <td>1</td>\n",
              "    </tr>\n",
              "  </tbody>\n",
              "</table>\n",
              "<p>93846 rows × 5 columns</p>\n",
              "</div>\n",
              "      <button class=\"colab-df-convert\" onclick=\"convertToInteractive('df-6e30f1bd-c1b7-49d3-a2fe-6141a928ca3d')\"\n",
              "              title=\"Convert this dataframe to an interactive table.\"\n",
              "              style=\"display:none;\">\n",
              "        \n",
              "  <svg xmlns=\"http://www.w3.org/2000/svg\" height=\"24px\"viewBox=\"0 0 24 24\"\n",
              "       width=\"24px\">\n",
              "    <path d=\"M0 0h24v24H0V0z\" fill=\"none\"/>\n",
              "    <path d=\"M18.56 5.44l.94 2.06.94-2.06 2.06-.94-2.06-.94-.94-2.06-.94 2.06-2.06.94zm-11 1L8.5 8.5l.94-2.06 2.06-.94-2.06-.94L8.5 2.5l-.94 2.06-2.06.94zm10 10l.94 2.06.94-2.06 2.06-.94-2.06-.94-.94-2.06-.94 2.06-2.06.94z\"/><path d=\"M17.41 7.96l-1.37-1.37c-.4-.4-.92-.59-1.43-.59-.52 0-1.04.2-1.43.59L10.3 9.45l-7.72 7.72c-.78.78-.78 2.05 0 2.83L4 21.41c.39.39.9.59 1.41.59.51 0 1.02-.2 1.41-.59l7.78-7.78 2.81-2.81c.8-.78.8-2.07 0-2.86zM5.41 20L4 18.59l7.72-7.72 1.47 1.35L5.41 20z\"/>\n",
              "  </svg>\n",
              "      </button>\n",
              "      \n",
              "  <style>\n",
              "    .colab-df-container {\n",
              "      display:flex;\n",
              "      flex-wrap:wrap;\n",
              "      gap: 12px;\n",
              "    }\n",
              "\n",
              "    .colab-df-convert {\n",
              "      background-color: #E8F0FE;\n",
              "      border: none;\n",
              "      border-radius: 50%;\n",
              "      cursor: pointer;\n",
              "      display: none;\n",
              "      fill: #1967D2;\n",
              "      height: 32px;\n",
              "      padding: 0 0 0 0;\n",
              "      width: 32px;\n",
              "    }\n",
              "\n",
              "    .colab-df-convert:hover {\n",
              "      background-color: #E2EBFA;\n",
              "      box-shadow: 0px 1px 2px rgba(60, 64, 67, 0.3), 0px 1px 3px 1px rgba(60, 64, 67, 0.15);\n",
              "      fill: #174EA6;\n",
              "    }\n",
              "\n",
              "    [theme=dark] .colab-df-convert {\n",
              "      background-color: #3B4455;\n",
              "      fill: #D2E3FC;\n",
              "    }\n",
              "\n",
              "    [theme=dark] .colab-df-convert:hover {\n",
              "      background-color: #434B5C;\n",
              "      box-shadow: 0px 1px 3px 1px rgba(0, 0, 0, 0.15);\n",
              "      filter: drop-shadow(0px 1px 2px rgba(0, 0, 0, 0.3));\n",
              "      fill: #FFFFFF;\n",
              "    }\n",
              "  </style>\n",
              "\n",
              "      <script>\n",
              "        const buttonEl =\n",
              "          document.querySelector('#df-6e30f1bd-c1b7-49d3-a2fe-6141a928ca3d button.colab-df-convert');\n",
              "        buttonEl.style.display =\n",
              "          google.colab.kernel.accessAllowed ? 'block' : 'none';\n",
              "\n",
              "        async function convertToInteractive(key) {\n",
              "          const element = document.querySelector('#df-6e30f1bd-c1b7-49d3-a2fe-6141a928ca3d');\n",
              "          const dataTable =\n",
              "            await google.colab.kernel.invokeFunction('convertToInteractive',\n",
              "                                                     [key], {});\n",
              "          if (!dataTable) return;\n",
              "\n",
              "          const docLinkHtml = 'Like what you see? Visit the ' +\n",
              "            '<a target=\"_blank\" href=https://colab.research.google.com/notebooks/data_table.ipynb>data table notebook</a>'\n",
              "            + ' to learn more about interactive tables.';\n",
              "          element.innerHTML = '';\n",
              "          dataTable['output_type'] = 'display_data';\n",
              "          await google.colab.output.renderOutput(dataTable, element);\n",
              "          const docLink = document.createElement('div');\n",
              "          docLink.innerHTML = docLinkHtml;\n",
              "          element.appendChild(docLink);\n",
              "        }\n",
              "      </script>\n",
              "    </div>\n",
              "  </div>\n",
              "  "
            ]
          },
          "metadata": {},
          "execution_count": 460
        }
      ]
    },
    {
      "cell_type": "markdown",
      "metadata": {
        "id": "DqgbCljF6LnL"
      },
      "source": [
        "##**3.6 Check Missing Value**"
      ]
    },
    {
      "cell_type": "code",
      "metadata": {
        "id": "m4yCIPzvSTI0",
        "colab": {
          "base_uri": "https://localhost:8080/",
          "height": 175
        },
        "outputId": "0b9912a6-cb95-484d-a724-fe093a08bff1"
      },
      "source": [
        "total = oversampled.isnull().sum().sort_values(ascending=False)\n",
        "percent = (oversampled.isnull().sum()/oversampled.isnull().count()).sort_values(ascending=False)\n",
        "missing = pd.concat([total, percent], axis=1, keys=['Total', 'Percent'])\n",
        "missing.head(4)"
      ],
      "execution_count": null,
      "outputs": [
        {
          "output_type": "execute_result",
          "data": {
            "text/plain": [
              "                 Total   Percent\n",
              "REPORT_VERIFIED   1287  0.013714\n",
              "MRNO                 0  0.000000\n",
              "AGE                  0  0.000000\n",
              "GENDER               0  0.000000"
            ],
            "text/html": [
              "\n",
              "  <div id=\"df-3c8e0c6c-76b7-4619-a47c-f99ee7061904\">\n",
              "    <div class=\"colab-df-container\">\n",
              "      <div>\n",
              "<style scoped>\n",
              "    .dataframe tbody tr th:only-of-type {\n",
              "        vertical-align: middle;\n",
              "    }\n",
              "\n",
              "    .dataframe tbody tr th {\n",
              "        vertical-align: top;\n",
              "    }\n",
              "\n",
              "    .dataframe thead th {\n",
              "        text-align: right;\n",
              "    }\n",
              "</style>\n",
              "<table border=\"1\" class=\"dataframe\">\n",
              "  <thead>\n",
              "    <tr style=\"text-align: right;\">\n",
              "      <th></th>\n",
              "      <th>Total</th>\n",
              "      <th>Percent</th>\n",
              "    </tr>\n",
              "  </thead>\n",
              "  <tbody>\n",
              "    <tr>\n",
              "      <th>REPORT_VERIFIED</th>\n",
              "      <td>1287</td>\n",
              "      <td>0.013714</td>\n",
              "    </tr>\n",
              "    <tr>\n",
              "      <th>MRNO</th>\n",
              "      <td>0</td>\n",
              "      <td>0.000000</td>\n",
              "    </tr>\n",
              "    <tr>\n",
              "      <th>AGE</th>\n",
              "      <td>0</td>\n",
              "      <td>0.000000</td>\n",
              "    </tr>\n",
              "    <tr>\n",
              "      <th>GENDER</th>\n",
              "      <td>0</td>\n",
              "      <td>0.000000</td>\n",
              "    </tr>\n",
              "  </tbody>\n",
              "</table>\n",
              "</div>\n",
              "      <button class=\"colab-df-convert\" onclick=\"convertToInteractive('df-3c8e0c6c-76b7-4619-a47c-f99ee7061904')\"\n",
              "              title=\"Convert this dataframe to an interactive table.\"\n",
              "              style=\"display:none;\">\n",
              "        \n",
              "  <svg xmlns=\"http://www.w3.org/2000/svg\" height=\"24px\"viewBox=\"0 0 24 24\"\n",
              "       width=\"24px\">\n",
              "    <path d=\"M0 0h24v24H0V0z\" fill=\"none\"/>\n",
              "    <path d=\"M18.56 5.44l.94 2.06.94-2.06 2.06-.94-2.06-.94-.94-2.06-.94 2.06-2.06.94zm-11 1L8.5 8.5l.94-2.06 2.06-.94-2.06-.94L8.5 2.5l-.94 2.06-2.06.94zm10 10l.94 2.06.94-2.06 2.06-.94-2.06-.94-.94-2.06-.94 2.06-2.06.94z\"/><path d=\"M17.41 7.96l-1.37-1.37c-.4-.4-.92-.59-1.43-.59-.52 0-1.04.2-1.43.59L10.3 9.45l-7.72 7.72c-.78.78-.78 2.05 0 2.83L4 21.41c.39.39.9.59 1.41.59.51 0 1.02-.2 1.41-.59l7.78-7.78 2.81-2.81c.8-.78.8-2.07 0-2.86zM5.41 20L4 18.59l7.72-7.72 1.47 1.35L5.41 20z\"/>\n",
              "  </svg>\n",
              "      </button>\n",
              "      \n",
              "  <style>\n",
              "    .colab-df-container {\n",
              "      display:flex;\n",
              "      flex-wrap:wrap;\n",
              "      gap: 12px;\n",
              "    }\n",
              "\n",
              "    .colab-df-convert {\n",
              "      background-color: #E8F0FE;\n",
              "      border: none;\n",
              "      border-radius: 50%;\n",
              "      cursor: pointer;\n",
              "      display: none;\n",
              "      fill: #1967D2;\n",
              "      height: 32px;\n",
              "      padding: 0 0 0 0;\n",
              "      width: 32px;\n",
              "    }\n",
              "\n",
              "    .colab-df-convert:hover {\n",
              "      background-color: #E2EBFA;\n",
              "      box-shadow: 0px 1px 2px rgba(60, 64, 67, 0.3), 0px 1px 3px 1px rgba(60, 64, 67, 0.15);\n",
              "      fill: #174EA6;\n",
              "    }\n",
              "\n",
              "    [theme=dark] .colab-df-convert {\n",
              "      background-color: #3B4455;\n",
              "      fill: #D2E3FC;\n",
              "    }\n",
              "\n",
              "    [theme=dark] .colab-df-convert:hover {\n",
              "      background-color: #434B5C;\n",
              "      box-shadow: 0px 1px 3px 1px rgba(0, 0, 0, 0.15);\n",
              "      filter: drop-shadow(0px 1px 2px rgba(0, 0, 0, 0.3));\n",
              "      fill: #FFFFFF;\n",
              "    }\n",
              "  </style>\n",
              "\n",
              "      <script>\n",
              "        const buttonEl =\n",
              "          document.querySelector('#df-3c8e0c6c-76b7-4619-a47c-f99ee7061904 button.colab-df-convert');\n",
              "        buttonEl.style.display =\n",
              "          google.colab.kernel.accessAllowed ? 'block' : 'none';\n",
              "\n",
              "        async function convertToInteractive(key) {\n",
              "          const element = document.querySelector('#df-3c8e0c6c-76b7-4619-a47c-f99ee7061904');\n",
              "          const dataTable =\n",
              "            await google.colab.kernel.invokeFunction('convertToInteractive',\n",
              "                                                     [key], {});\n",
              "          if (!dataTable) return;\n",
              "\n",
              "          const docLinkHtml = 'Like what you see? Visit the ' +\n",
              "            '<a target=\"_blank\" href=https://colab.research.google.com/notebooks/data_table.ipynb>data table notebook</a>'\n",
              "            + ' to learn more about interactive tables.';\n",
              "          element.innerHTML = '';\n",
              "          dataTable['output_type'] = 'display_data';\n",
              "          await google.colab.output.renderOutput(dataTable, element);\n",
              "          const docLink = document.createElement('div');\n",
              "          docLink.innerHTML = docLinkHtml;\n",
              "          element.appendChild(docLink);\n",
              "        }\n",
              "      </script>\n",
              "    </div>\n",
              "  </div>\n",
              "  "
            ]
          },
          "metadata": {},
          "execution_count": 479
        }
      ]
    },
    {
      "cell_type": "code",
      "source": [
        "# Filling Values with mean\n",
        "from sklearn.impute import SimpleImputer\n",
        "mean_values = SimpleImputer(strategy='mean')\n",
        "oversampled = mean_values.fit_transform(oversampled)"
      ],
      "metadata": {
        "id": "aer9f0_sW6NS",
        "outputId": "4cff7e05-52b2-481f-a51b-17ca564c0741",
        "colab": {
          "base_uri": "https://localhost:8080/",
          "height": 378
        }
      },
      "execution_count": null,
      "outputs": [
        {
          "output_type": "error",
          "ename": "ValueError",
          "evalue": "ignored",
          "traceback": [
            "\u001b[0;31m---------------------------------------------------------------------------\u001b[0m",
            "\u001b[0;31mValueError\u001b[0m                                Traceback (most recent call last)",
            "\u001b[0;32m<ipython-input-480-67413a161082>\u001b[0m in \u001b[0;36m<module>\u001b[0;34m\u001b[0m\n\u001b[1;32m      2\u001b[0m \u001b[0;32mfrom\u001b[0m \u001b[0msklearn\u001b[0m\u001b[0;34m.\u001b[0m\u001b[0mimpute\u001b[0m \u001b[0;32mimport\u001b[0m \u001b[0mSimpleImputer\u001b[0m\u001b[0;34m\u001b[0m\u001b[0;34m\u001b[0m\u001b[0m\n\u001b[1;32m      3\u001b[0m \u001b[0mmean_values\u001b[0m \u001b[0;34m=\u001b[0m \u001b[0mSimpleImputer\u001b[0m\u001b[0;34m(\u001b[0m\u001b[0mstrategy\u001b[0m\u001b[0;34m=\u001b[0m\u001b[0;34m'mean'\u001b[0m\u001b[0;34m)\u001b[0m\u001b[0;34m\u001b[0m\u001b[0;34m\u001b[0m\u001b[0m\n\u001b[0;32m----> 4\u001b[0;31m \u001b[0moversampled\u001b[0m \u001b[0;34m=\u001b[0m \u001b[0mmean_values\u001b[0m\u001b[0;34m.\u001b[0m\u001b[0mfit_transform\u001b[0m\u001b[0;34m(\u001b[0m\u001b[0moversampled\u001b[0m\u001b[0;34m)\u001b[0m\u001b[0;34m\u001b[0m\u001b[0;34m\u001b[0m\u001b[0m\n\u001b[0m",
            "\u001b[0;32m/usr/local/lib/python3.7/dist-packages/sklearn/base.py\u001b[0m in \u001b[0;36mfit_transform\u001b[0;34m(self, X, y, **fit_params)\u001b[0m\n\u001b[1;32m    850\u001b[0m         \u001b[0;32mif\u001b[0m \u001b[0my\u001b[0m \u001b[0;32mis\u001b[0m \u001b[0;32mNone\u001b[0m\u001b[0;34m:\u001b[0m\u001b[0;34m\u001b[0m\u001b[0;34m\u001b[0m\u001b[0m\n\u001b[1;32m    851\u001b[0m             \u001b[0;31m# fit method of arity 1 (unsupervised transformation)\u001b[0m\u001b[0;34m\u001b[0m\u001b[0;34m\u001b[0m\u001b[0;34m\u001b[0m\u001b[0m\n\u001b[0;32m--> 852\u001b[0;31m             \u001b[0;32mreturn\u001b[0m \u001b[0mself\u001b[0m\u001b[0;34m.\u001b[0m\u001b[0mfit\u001b[0m\u001b[0;34m(\u001b[0m\u001b[0mX\u001b[0m\u001b[0;34m,\u001b[0m \u001b[0;34m**\u001b[0m\u001b[0mfit_params\u001b[0m\u001b[0;34m)\u001b[0m\u001b[0;34m.\u001b[0m\u001b[0mtransform\u001b[0m\u001b[0;34m(\u001b[0m\u001b[0mX\u001b[0m\u001b[0;34m)\u001b[0m\u001b[0;34m\u001b[0m\u001b[0;34m\u001b[0m\u001b[0m\n\u001b[0m\u001b[1;32m    853\u001b[0m         \u001b[0;32melse\u001b[0m\u001b[0;34m:\u001b[0m\u001b[0;34m\u001b[0m\u001b[0;34m\u001b[0m\u001b[0m\n\u001b[1;32m    854\u001b[0m             \u001b[0;31m# fit method of arity 2 (supervised transformation)\u001b[0m\u001b[0;34m\u001b[0m\u001b[0;34m\u001b[0m\u001b[0;34m\u001b[0m\u001b[0m\n",
            "\u001b[0;32m/usr/local/lib/python3.7/dist-packages/sklearn/impute/_base.py\u001b[0m in \u001b[0;36mfit\u001b[0;34m(self, X, y)\u001b[0m\n\u001b[1;32m    317\u001b[0m             \u001b[0mFitted\u001b[0m \u001b[0mestimator\u001b[0m\u001b[0;34m.\u001b[0m\u001b[0;34m\u001b[0m\u001b[0;34m\u001b[0m\u001b[0m\n\u001b[1;32m    318\u001b[0m         \"\"\"\n\u001b[0;32m--> 319\u001b[0;31m         \u001b[0mX\u001b[0m \u001b[0;34m=\u001b[0m \u001b[0mself\u001b[0m\u001b[0;34m.\u001b[0m\u001b[0m_validate_input\u001b[0m\u001b[0;34m(\u001b[0m\u001b[0mX\u001b[0m\u001b[0;34m,\u001b[0m \u001b[0min_fit\u001b[0m\u001b[0;34m=\u001b[0m\u001b[0;32mTrue\u001b[0m\u001b[0;34m)\u001b[0m\u001b[0;34m\u001b[0m\u001b[0;34m\u001b[0m\u001b[0m\n\u001b[0m\u001b[1;32m    320\u001b[0m \u001b[0;34m\u001b[0m\u001b[0m\n\u001b[1;32m    321\u001b[0m         \u001b[0;31m# default fill_value is 0 for numerical input and \"missing_value\"\u001b[0m\u001b[0;34m\u001b[0m\u001b[0;34m\u001b[0m\u001b[0;34m\u001b[0m\u001b[0m\n",
            "\u001b[0;32m/usr/local/lib/python3.7/dist-packages/sklearn/impute/_base.py\u001b[0m in \u001b[0;36m_validate_input\u001b[0;34m(self, X, in_fit)\u001b[0m\n\u001b[1;32m    283\u001b[0m                     )\n\u001b[1;32m    284\u001b[0m                 )\n\u001b[0;32m--> 285\u001b[0;31m                 \u001b[0;32mraise\u001b[0m \u001b[0mnew_ve\u001b[0m \u001b[0;32mfrom\u001b[0m \u001b[0;32mNone\u001b[0m\u001b[0;34m\u001b[0m\u001b[0;34m\u001b[0m\u001b[0m\n\u001b[0m\u001b[1;32m    286\u001b[0m             \u001b[0;32melse\u001b[0m\u001b[0;34m:\u001b[0m\u001b[0;34m\u001b[0m\u001b[0;34m\u001b[0m\u001b[0m\n\u001b[1;32m    287\u001b[0m                 \u001b[0;32mraise\u001b[0m \u001b[0mve\u001b[0m\u001b[0;34m\u001b[0m\u001b[0;34m\u001b[0m\u001b[0m\n",
            "\u001b[0;31mValueError\u001b[0m: Cannot use mean strategy with non-numeric data:\ncould not convert string to float: 'K0460000001366'"
          ]
        }
      ]
    },
    {
      "cell_type": "markdown",
      "metadata": {
        "id": "c_emrU7L7CC9"
      },
      "source": [
        "##**3.7 Hot Encoding**"
      ]
    },
    {
      "cell_type": "code",
      "metadata": {
        "colab": {
          "base_uri": "https://localhost:8080/"
        },
        "id": "tkEpcWawRRpV",
        "outputId": "1a429144-8ece-4d87-af74-91768445de18"
      },
      "source": [
        "oversampled.select_dtypes(include=['object']).columns"
      ],
      "execution_count": null,
      "outputs": [
        {
          "output_type": "execute_result",
          "data": {
            "text/plain": [
              "Index(['MRNO', 'AGE', 'GENDER', 'REPORT_VERIFIED'], dtype='object')"
            ]
          },
          "metadata": {},
          "execution_count": 481
        }
      ]
    },
    {
      "cell_type": "code",
      "metadata": {
        "id": "7djWi-ZATitQ"
      },
      "source": [
        "# Impute categorical var with Mode\n",
        "oversampled['MRNO'] = oversampled['MRNO'].fillna(oversampled['MRNO'].mode()[0])\n",
        "oversampled['AGE'] = oversampled['AGE'].fillna(oversampled['AGE'].mode()[0])\n",
        "oversampled['GENDER'] = oversampled['GENDER'].fillna(oversampled['GENDER'].mode()[0])\n",
        "#oversampled['DISTRICT'] = oversampled['DISTRICT'].fillna(oversampled['DISTRICT'].mode()[0])\n",
        "#oversampled['TEHSIL'] = oversampled['TEHSIL'].fillna(oversampled['TEHSIL'].mode()[0])\n",
        "oversampled['REPORT_VERIFIED'] = oversampled['REPORT_VERIFIED'].fillna(oversampled['REPORT_VERIFIED'].mode()[0])\n",
        "#oversampled['RESULT_VALUE'] = oversampled['RESULT_VALUE'].fillna(oversampled['RESULT_VALUE'].mode()[0])"
      ],
      "execution_count": null,
      "outputs": []
    },
    {
      "cell_type": "code",
      "metadata": {
        "id": "KzpnCWUOVRfE",
        "colab": {
          "base_uri": "https://localhost:8080/",
          "height": 423
        },
        "outputId": "a376dc6e-b8b7-46b2-9f8e-816955c8a279"
      },
      "source": [
        "oversampled"
      ],
      "execution_count": null,
      "outputs": [
        {
          "output_type": "execute_result",
          "data": {
            "text/plain": [
              "                 MRNO         AGE  GENDER             REPORT_VERIFIED  \\\n",
              "0      K0460000001366  33 Year(s)  Female   10/7/2017 10:05:16 A10P10   \n",
              "1      K0460000001366  33 Year(s)  Female   10/7/2017 10:05:13 A10P10   \n",
              "2      K0460000001388  52 Year(s)    Male     1/23/2018 11:15:40 A1P1   \n",
              "4      K0460000001408  36 Year(s)    Male     8/21/2019 15:51:51 A8P8   \n",
              "5      K0460000001558  27 Year(s)  Female  10/10/2020 12:24:18 A10P10   \n",
              "...               ...         ...     ...                         ...   \n",
              "62602  K0400000704505  66 Year(s)    Male     9/22/2017 16:45:35 A9P9   \n",
              "51667  K0400000080346  16 Year(s)    Male     1/25/2017 17:45:16 A1P1   \n",
              "4227   K0400001172648  24 Year(s)  Female     4/17/2018 17:20:51 A4P4   \n",
              "28212  K0400000697678  39 Year(s)    Male     9/20/2017 10:57:03 A9P9   \n",
              "37226  K0400000809937  30 Year(s)    Male   11/3/2017 15:48:56 A11P11   \n",
              "\n",
              "       RESULT_TEXT  \n",
              "0                0  \n",
              "1                0  \n",
              "2                0  \n",
              "4                0  \n",
              "5                0  \n",
              "...            ...  \n",
              "62602            1  \n",
              "51667            1  \n",
              "4227             1  \n",
              "28212            1  \n",
              "37226            1  \n",
              "\n",
              "[93846 rows x 5 columns]"
            ],
            "text/html": [
              "\n",
              "  <div id=\"df-3038c1b5-8638-4dba-ba0a-89603a327ba2\">\n",
              "    <div class=\"colab-df-container\">\n",
              "      <div>\n",
              "<style scoped>\n",
              "    .dataframe tbody tr th:only-of-type {\n",
              "        vertical-align: middle;\n",
              "    }\n",
              "\n",
              "    .dataframe tbody tr th {\n",
              "        vertical-align: top;\n",
              "    }\n",
              "\n",
              "    .dataframe thead th {\n",
              "        text-align: right;\n",
              "    }\n",
              "</style>\n",
              "<table border=\"1\" class=\"dataframe\">\n",
              "  <thead>\n",
              "    <tr style=\"text-align: right;\">\n",
              "      <th></th>\n",
              "      <th>MRNO</th>\n",
              "      <th>AGE</th>\n",
              "      <th>GENDER</th>\n",
              "      <th>REPORT_VERIFIED</th>\n",
              "      <th>RESULT_TEXT</th>\n",
              "    </tr>\n",
              "  </thead>\n",
              "  <tbody>\n",
              "    <tr>\n",
              "      <th>0</th>\n",
              "      <td>K0460000001366</td>\n",
              "      <td>33 Year(s)</td>\n",
              "      <td>Female</td>\n",
              "      <td>10/7/2017 10:05:16 A10P10</td>\n",
              "      <td>0</td>\n",
              "    </tr>\n",
              "    <tr>\n",
              "      <th>1</th>\n",
              "      <td>K0460000001366</td>\n",
              "      <td>33 Year(s)</td>\n",
              "      <td>Female</td>\n",
              "      <td>10/7/2017 10:05:13 A10P10</td>\n",
              "      <td>0</td>\n",
              "    </tr>\n",
              "    <tr>\n",
              "      <th>2</th>\n",
              "      <td>K0460000001388</td>\n",
              "      <td>52 Year(s)</td>\n",
              "      <td>Male</td>\n",
              "      <td>1/23/2018 11:15:40 A1P1</td>\n",
              "      <td>0</td>\n",
              "    </tr>\n",
              "    <tr>\n",
              "      <th>4</th>\n",
              "      <td>K0460000001408</td>\n",
              "      <td>36 Year(s)</td>\n",
              "      <td>Male</td>\n",
              "      <td>8/21/2019 15:51:51 A8P8</td>\n",
              "      <td>0</td>\n",
              "    </tr>\n",
              "    <tr>\n",
              "      <th>5</th>\n",
              "      <td>K0460000001558</td>\n",
              "      <td>27 Year(s)</td>\n",
              "      <td>Female</td>\n",
              "      <td>10/10/2020 12:24:18 A10P10</td>\n",
              "      <td>0</td>\n",
              "    </tr>\n",
              "    <tr>\n",
              "      <th>...</th>\n",
              "      <td>...</td>\n",
              "      <td>...</td>\n",
              "      <td>...</td>\n",
              "      <td>...</td>\n",
              "      <td>...</td>\n",
              "    </tr>\n",
              "    <tr>\n",
              "      <th>62602</th>\n",
              "      <td>K0400000704505</td>\n",
              "      <td>66 Year(s)</td>\n",
              "      <td>Male</td>\n",
              "      <td>9/22/2017 16:45:35 A9P9</td>\n",
              "      <td>1</td>\n",
              "    </tr>\n",
              "    <tr>\n",
              "      <th>51667</th>\n",
              "      <td>K0400000080346</td>\n",
              "      <td>16 Year(s)</td>\n",
              "      <td>Male</td>\n",
              "      <td>1/25/2017 17:45:16 A1P1</td>\n",
              "      <td>1</td>\n",
              "    </tr>\n",
              "    <tr>\n",
              "      <th>4227</th>\n",
              "      <td>K0400001172648</td>\n",
              "      <td>24 Year(s)</td>\n",
              "      <td>Female</td>\n",
              "      <td>4/17/2018 17:20:51 A4P4</td>\n",
              "      <td>1</td>\n",
              "    </tr>\n",
              "    <tr>\n",
              "      <th>28212</th>\n",
              "      <td>K0400000697678</td>\n",
              "      <td>39 Year(s)</td>\n",
              "      <td>Male</td>\n",
              "      <td>9/20/2017 10:57:03 A9P9</td>\n",
              "      <td>1</td>\n",
              "    </tr>\n",
              "    <tr>\n",
              "      <th>37226</th>\n",
              "      <td>K0400000809937</td>\n",
              "      <td>30 Year(s)</td>\n",
              "      <td>Male</td>\n",
              "      <td>11/3/2017 15:48:56 A11P11</td>\n",
              "      <td>1</td>\n",
              "    </tr>\n",
              "  </tbody>\n",
              "</table>\n",
              "<p>93846 rows × 5 columns</p>\n",
              "</div>\n",
              "      <button class=\"colab-df-convert\" onclick=\"convertToInteractive('df-3038c1b5-8638-4dba-ba0a-89603a327ba2')\"\n",
              "              title=\"Convert this dataframe to an interactive table.\"\n",
              "              style=\"display:none;\">\n",
              "        \n",
              "  <svg xmlns=\"http://www.w3.org/2000/svg\" height=\"24px\"viewBox=\"0 0 24 24\"\n",
              "       width=\"24px\">\n",
              "    <path d=\"M0 0h24v24H0V0z\" fill=\"none\"/>\n",
              "    <path d=\"M18.56 5.44l.94 2.06.94-2.06 2.06-.94-2.06-.94-.94-2.06-.94 2.06-2.06.94zm-11 1L8.5 8.5l.94-2.06 2.06-.94-2.06-.94L8.5 2.5l-.94 2.06-2.06.94zm10 10l.94 2.06.94-2.06 2.06-.94-2.06-.94-.94-2.06-.94 2.06-2.06.94z\"/><path d=\"M17.41 7.96l-1.37-1.37c-.4-.4-.92-.59-1.43-.59-.52 0-1.04.2-1.43.59L10.3 9.45l-7.72 7.72c-.78.78-.78 2.05 0 2.83L4 21.41c.39.39.9.59 1.41.59.51 0 1.02-.2 1.41-.59l7.78-7.78 2.81-2.81c.8-.78.8-2.07 0-2.86zM5.41 20L4 18.59l7.72-7.72 1.47 1.35L5.41 20z\"/>\n",
              "  </svg>\n",
              "      </button>\n",
              "      \n",
              "  <style>\n",
              "    .colab-df-container {\n",
              "      display:flex;\n",
              "      flex-wrap:wrap;\n",
              "      gap: 12px;\n",
              "    }\n",
              "\n",
              "    .colab-df-convert {\n",
              "      background-color: #E8F0FE;\n",
              "      border: none;\n",
              "      border-radius: 50%;\n",
              "      cursor: pointer;\n",
              "      display: none;\n",
              "      fill: #1967D2;\n",
              "      height: 32px;\n",
              "      padding: 0 0 0 0;\n",
              "      width: 32px;\n",
              "    }\n",
              "\n",
              "    .colab-df-convert:hover {\n",
              "      background-color: #E2EBFA;\n",
              "      box-shadow: 0px 1px 2px rgba(60, 64, 67, 0.3), 0px 1px 3px 1px rgba(60, 64, 67, 0.15);\n",
              "      fill: #174EA6;\n",
              "    }\n",
              "\n",
              "    [theme=dark] .colab-df-convert {\n",
              "      background-color: #3B4455;\n",
              "      fill: #D2E3FC;\n",
              "    }\n",
              "\n",
              "    [theme=dark] .colab-df-convert:hover {\n",
              "      background-color: #434B5C;\n",
              "      box-shadow: 0px 1px 3px 1px rgba(0, 0, 0, 0.15);\n",
              "      filter: drop-shadow(0px 1px 2px rgba(0, 0, 0, 0.3));\n",
              "      fill: #FFFFFF;\n",
              "    }\n",
              "  </style>\n",
              "\n",
              "      <script>\n",
              "        const buttonEl =\n",
              "          document.querySelector('#df-3038c1b5-8638-4dba-ba0a-89603a327ba2 button.colab-df-convert');\n",
              "        buttonEl.style.display =\n",
              "          google.colab.kernel.accessAllowed ? 'block' : 'none';\n",
              "\n",
              "        async function convertToInteractive(key) {\n",
              "          const element = document.querySelector('#df-3038c1b5-8638-4dba-ba0a-89603a327ba2');\n",
              "          const dataTable =\n",
              "            await google.colab.kernel.invokeFunction('convertToInteractive',\n",
              "                                                     [key], {});\n",
              "          if (!dataTable) return;\n",
              "\n",
              "          const docLinkHtml = 'Like what you see? Visit the ' +\n",
              "            '<a target=\"_blank\" href=https://colab.research.google.com/notebooks/data_table.ipynb>data table notebook</a>'\n",
              "            + ' to learn more about interactive tables.';\n",
              "          element.innerHTML = '';\n",
              "          dataTable['output_type'] = 'display_data';\n",
              "          await google.colab.output.renderOutput(dataTable, element);\n",
              "          const docLink = document.createElement('div');\n",
              "          docLink.innerHTML = docLinkHtml;\n",
              "          element.appendChild(docLink);\n",
              "        }\n",
              "      </script>\n",
              "    </div>\n",
              "  </div>\n",
              "  "
            ]
          },
          "metadata": {},
          "execution_count": 483
        }
      ]
    },
    {
      "cell_type": "code",
      "metadata": {
        "id": "FkBx6ghcb0vy"
      },
      "source": [
        "oversampled"
      ],
      "execution_count": null,
      "outputs": []
    },
    {
      "cell_type": "code",
      "metadata": {
        "id": "duH6b29GYEhp"
      },
      "source": [
        "# Convert categorical features to continuous features with Label Encoding\n",
        "from sklearn.preprocessing import LabelEncoder\n",
        "lencoders = {}\n",
        "for col in oversampled.select_dtypes(include=['object']).columns:\n",
        "    lencoders[col] = LabelEncoder()\n",
        "    oversampled[col] = lencoders[col].fit_transform(oversampled[col])"
      ],
      "execution_count": null,
      "outputs": []
    },
    {
      "cell_type": "code",
      "metadata": {
        "id": "Ac3po-lD9Cfb"
      },
      "source": [
        "oversampled"
      ],
      "execution_count": null,
      "outputs": []
    },
    {
      "cell_type": "code",
      "metadata": {
        "id": "dKYnVakgcCXU"
      },
      "source": [
        "import warnings\n",
        "warnings.filterwarnings(\"ignore\")\n",
        "# Multiple Imputation by Chained Equations\n",
        "from sklearn.experimental import enable_iterative_imputer\n",
        "from sklearn.impute import IterativeImputer\n",
        "MiceImputed = oversampled.copy(deep=True) \n",
        "mice_imputer = IterativeImputer()\n",
        "MiceImputed.iloc[:, :] = mice_imputer.fit_transform(oversampled)"
      ],
      "execution_count": null,
      "outputs": []
    },
    {
      "cell_type": "code",
      "source": [
        "from sklearn.impute import SimpleImputer\n",
        "mean_values = SimpleImputer(strategy='mean')\n",
        "MiceImputed = mean_values.fit_transform(MiceImputed)"
      ],
      "metadata": {
        "id": "QGSAv2q4XVjk"
      },
      "execution_count": null,
      "outputs": []
    },
    {
      "cell_type": "markdown",
      "metadata": {
        "id": "Gr6yg3aN9fe0"
      },
      "source": [
        "##**3.8 Outlier detection**"
      ]
    },
    {
      "cell_type": "code",
      "metadata": {
        "id": "k0IrnyVJcEti",
        "colab": {
          "base_uri": "https://localhost:8080/"
        },
        "outputId": "19af7fcd-25ba-4502-f740-4a80310ab7b0"
      },
      "source": [
        "# Detecting outliers with IQR\n",
        "Q1 = MiceImputed.quantile(0.25)\n",
        "Q3 = MiceImputed.quantile(0.75)\n",
        "IQR = Q3 - Q1\n",
        "print(IQR)"
      ],
      "execution_count": null,
      "outputs": [
        {
          "output_type": "stream",
          "name": "stdout",
          "text": [
            "MRNO               15644.00\n",
            "AGE                   29.00\n",
            "GENDER                 1.00\n",
            "REPORT_VERIFIED    26006.75\n",
            "RESULT_TEXT            1.00\n",
            "dtype: float64\n"
          ]
        }
      ]
    },
    {
      "cell_type": "code",
      "metadata": {
        "id": "f3oZmtYZcM-s",
        "colab": {
          "base_uri": "https://localhost:8080/"
        },
        "outputId": "34c9b596-0540-4a42-bd4d-338bc6993df8"
      },
      "source": [
        "# Removing outliers from the dataset\n",
        "MiceImputed = MiceImputed[~((MiceImputed < (Q1 - 1.5 * IQR)) |(MiceImputed > (Q3 + 1.5 * IQR))).any(axis=1)]\n",
        "MiceImputed.shape"
      ],
      "execution_count": null,
      "outputs": [
        {
          "output_type": "execute_result",
          "data": {
            "text/plain": [
              "(91299, 5)"
            ]
          },
          "metadata": {},
          "execution_count": 358
        }
      ]
    },
    {
      "cell_type": "code",
      "metadata": {
        "id": "rgXdi5AzcS_N",
        "colab": {
          "base_uri": "https://localhost:8080/",
          "height": 423
        },
        "outputId": "1e13702d-be53-4668-9699-6a1d911689ad"
      },
      "source": [
        "MiceImputed"
      ],
      "execution_count": null,
      "outputs": [
        {
          "output_type": "execute_result",
          "data": {
            "text/plain": [
              "          MRNO   AGE  GENDER  REPORT_VERIFIED  RESULT_TEXT\n",
              "0      27543.0  42.0     0.0           7158.0          0.0\n",
              "1      27543.0  42.0     0.0           7157.0          0.0\n",
              "2      27544.0  67.0     1.0           1247.0          0.0\n",
              "4      27548.0  47.0     1.0          40445.0          0.0\n",
              "5      27560.0  33.0     0.0           3077.0          0.0\n",
              "...        ...   ...     ...              ...          ...\n",
              "62602   8467.0  84.0     1.0          47486.0          1.0\n",
              "51667    403.0  14.0     1.0           1400.0          1.0\n",
              "4227   14730.0  30.0     0.0          22246.0          1.0\n",
              "28212   8324.0  51.0     1.0          46942.0          1.0\n",
              "37226  10503.0  39.0     1.0           9699.0          1.0\n",
              "\n",
              "[93846 rows x 5 columns]"
            ],
            "text/html": [
              "\n",
              "  <div id=\"df-a8e4bc45-1f63-4625-b7a9-6005a4df7a6e\">\n",
              "    <div class=\"colab-df-container\">\n",
              "      <div>\n",
              "<style scoped>\n",
              "    .dataframe tbody tr th:only-of-type {\n",
              "        vertical-align: middle;\n",
              "    }\n",
              "\n",
              "    .dataframe tbody tr th {\n",
              "        vertical-align: top;\n",
              "    }\n",
              "\n",
              "    .dataframe thead th {\n",
              "        text-align: right;\n",
              "    }\n",
              "</style>\n",
              "<table border=\"1\" class=\"dataframe\">\n",
              "  <thead>\n",
              "    <tr style=\"text-align: right;\">\n",
              "      <th></th>\n",
              "      <th>MRNO</th>\n",
              "      <th>AGE</th>\n",
              "      <th>GENDER</th>\n",
              "      <th>REPORT_VERIFIED</th>\n",
              "      <th>RESULT_TEXT</th>\n",
              "    </tr>\n",
              "  </thead>\n",
              "  <tbody>\n",
              "    <tr>\n",
              "      <th>0</th>\n",
              "      <td>27543.0</td>\n",
              "      <td>42.0</td>\n",
              "      <td>0.0</td>\n",
              "      <td>7158.0</td>\n",
              "      <td>0.0</td>\n",
              "    </tr>\n",
              "    <tr>\n",
              "      <th>1</th>\n",
              "      <td>27543.0</td>\n",
              "      <td>42.0</td>\n",
              "      <td>0.0</td>\n",
              "      <td>7157.0</td>\n",
              "      <td>0.0</td>\n",
              "    </tr>\n",
              "    <tr>\n",
              "      <th>2</th>\n",
              "      <td>27544.0</td>\n",
              "      <td>67.0</td>\n",
              "      <td>1.0</td>\n",
              "      <td>1247.0</td>\n",
              "      <td>0.0</td>\n",
              "    </tr>\n",
              "    <tr>\n",
              "      <th>4</th>\n",
              "      <td>27548.0</td>\n",
              "      <td>47.0</td>\n",
              "      <td>1.0</td>\n",
              "      <td>40445.0</td>\n",
              "      <td>0.0</td>\n",
              "    </tr>\n",
              "    <tr>\n",
              "      <th>5</th>\n",
              "      <td>27560.0</td>\n",
              "      <td>33.0</td>\n",
              "      <td>0.0</td>\n",
              "      <td>3077.0</td>\n",
              "      <td>0.0</td>\n",
              "    </tr>\n",
              "    <tr>\n",
              "      <th>...</th>\n",
              "      <td>...</td>\n",
              "      <td>...</td>\n",
              "      <td>...</td>\n",
              "      <td>...</td>\n",
              "      <td>...</td>\n",
              "    </tr>\n",
              "    <tr>\n",
              "      <th>62602</th>\n",
              "      <td>8467.0</td>\n",
              "      <td>84.0</td>\n",
              "      <td>1.0</td>\n",
              "      <td>47486.0</td>\n",
              "      <td>1.0</td>\n",
              "    </tr>\n",
              "    <tr>\n",
              "      <th>51667</th>\n",
              "      <td>403.0</td>\n",
              "      <td>14.0</td>\n",
              "      <td>1.0</td>\n",
              "      <td>1400.0</td>\n",
              "      <td>1.0</td>\n",
              "    </tr>\n",
              "    <tr>\n",
              "      <th>4227</th>\n",
              "      <td>14730.0</td>\n",
              "      <td>30.0</td>\n",
              "      <td>0.0</td>\n",
              "      <td>22246.0</td>\n",
              "      <td>1.0</td>\n",
              "    </tr>\n",
              "    <tr>\n",
              "      <th>28212</th>\n",
              "      <td>8324.0</td>\n",
              "      <td>51.0</td>\n",
              "      <td>1.0</td>\n",
              "      <td>46942.0</td>\n",
              "      <td>1.0</td>\n",
              "    </tr>\n",
              "    <tr>\n",
              "      <th>37226</th>\n",
              "      <td>10503.0</td>\n",
              "      <td>39.0</td>\n",
              "      <td>1.0</td>\n",
              "      <td>9699.0</td>\n",
              "      <td>1.0</td>\n",
              "    </tr>\n",
              "  </tbody>\n",
              "</table>\n",
              "<p>93846 rows × 5 columns</p>\n",
              "</div>\n",
              "      <button class=\"colab-df-convert\" onclick=\"convertToInteractive('df-a8e4bc45-1f63-4625-b7a9-6005a4df7a6e')\"\n",
              "              title=\"Convert this dataframe to an interactive table.\"\n",
              "              style=\"display:none;\">\n",
              "        \n",
              "  <svg xmlns=\"http://www.w3.org/2000/svg\" height=\"24px\"viewBox=\"0 0 24 24\"\n",
              "       width=\"24px\">\n",
              "    <path d=\"M0 0h24v24H0V0z\" fill=\"none\"/>\n",
              "    <path d=\"M18.56 5.44l.94 2.06.94-2.06 2.06-.94-2.06-.94-.94-2.06-.94 2.06-2.06.94zm-11 1L8.5 8.5l.94-2.06 2.06-.94-2.06-.94L8.5 2.5l-.94 2.06-2.06.94zm10 10l.94 2.06.94-2.06 2.06-.94-2.06-.94-.94-2.06-.94 2.06-2.06.94z\"/><path d=\"M17.41 7.96l-1.37-1.37c-.4-.4-.92-.59-1.43-.59-.52 0-1.04.2-1.43.59L10.3 9.45l-7.72 7.72c-.78.78-.78 2.05 0 2.83L4 21.41c.39.39.9.59 1.41.59.51 0 1.02-.2 1.41-.59l7.78-7.78 2.81-2.81c.8-.78.8-2.07 0-2.86zM5.41 20L4 18.59l7.72-7.72 1.47 1.35L5.41 20z\"/>\n",
              "  </svg>\n",
              "      </button>\n",
              "      \n",
              "  <style>\n",
              "    .colab-df-container {\n",
              "      display:flex;\n",
              "      flex-wrap:wrap;\n",
              "      gap: 12px;\n",
              "    }\n",
              "\n",
              "    .colab-df-convert {\n",
              "      background-color: #E8F0FE;\n",
              "      border: none;\n",
              "      border-radius: 50%;\n",
              "      cursor: pointer;\n",
              "      display: none;\n",
              "      fill: #1967D2;\n",
              "      height: 32px;\n",
              "      padding: 0 0 0 0;\n",
              "      width: 32px;\n",
              "    }\n",
              "\n",
              "    .colab-df-convert:hover {\n",
              "      background-color: #E2EBFA;\n",
              "      box-shadow: 0px 1px 2px rgba(60, 64, 67, 0.3), 0px 1px 3px 1px rgba(60, 64, 67, 0.15);\n",
              "      fill: #174EA6;\n",
              "    }\n",
              "\n",
              "    [theme=dark] .colab-df-convert {\n",
              "      background-color: #3B4455;\n",
              "      fill: #D2E3FC;\n",
              "    }\n",
              "\n",
              "    [theme=dark] .colab-df-convert:hover {\n",
              "      background-color: #434B5C;\n",
              "      box-shadow: 0px 1px 3px 1px rgba(0, 0, 0, 0.15);\n",
              "      filter: drop-shadow(0px 1px 2px rgba(0, 0, 0, 0.3));\n",
              "      fill: #FFFFFF;\n",
              "    }\n",
              "  </style>\n",
              "\n",
              "      <script>\n",
              "        const buttonEl =\n",
              "          document.querySelector('#df-a8e4bc45-1f63-4625-b7a9-6005a4df7a6e button.colab-df-convert');\n",
              "        buttonEl.style.display =\n",
              "          google.colab.kernel.accessAllowed ? 'block' : 'none';\n",
              "\n",
              "        async function convertToInteractive(key) {\n",
              "          const element = document.querySelector('#df-a8e4bc45-1f63-4625-b7a9-6005a4df7a6e');\n",
              "          const dataTable =\n",
              "            await google.colab.kernel.invokeFunction('convertToInteractive',\n",
              "                                                     [key], {});\n",
              "          if (!dataTable) return;\n",
              "\n",
              "          const docLinkHtml = 'Like what you see? Visit the ' +\n",
              "            '<a target=\"_blank\" href=https://colab.research.google.com/notebooks/data_table.ipynb>data table notebook</a>'\n",
              "            + ' to learn more about interactive tables.';\n",
              "          element.innerHTML = '';\n",
              "          dataTable['output_type'] = 'display_data';\n",
              "          await google.colab.output.renderOutput(dataTable, element);\n",
              "          const docLink = document.createElement('div');\n",
              "          docLink.innerHTML = docLinkHtml;\n",
              "          element.appendChild(docLink);\n",
              "        }\n",
              "      </script>\n",
              "    </div>\n",
              "  </div>\n",
              "  "
            ]
          },
          "metadata": {},
          "execution_count": 412
        }
      ]
    },
    {
      "cell_type": "markdown",
      "metadata": {
        "id": "NPtnA191_xjP"
      },
      "source": [
        "##**3.9 Corelation Detection**"
      ]
    },
    {
      "cell_type": "code",
      "metadata": {
        "id": "hEKJ9nOkcgLa",
        "colab": {
          "base_uri": "https://localhost:8080/",
          "height": 244
        },
        "outputId": "282786ee-1366-4a41-912e-ae0cc9f7b51e"
      },
      "source": [
        "# Correlation Heatmap\n",
        "import numpy as np\n",
        "import matplotlib.pyplot as plt\n",
        "import seaborn as sns\n",
        "corr = MiceImputed.corr()\n",
        "mask = np.triu(np.ones_like(corr, dtype=np.bool))\n",
        "f, ax = plt.subplots(figsize=(20, 20))\n",
        "cmap = sns.diverging_palette(250, 25, as_cmap=True)\n",
        "sns.heatmap(corr, mask=mask, cmap=cmap, vmax=None, center=0,square=True, annot=True, linewidths=.5, cbar_kws={\"shrink\": .9})"
      ],
      "execution_count": null,
      "outputs": [
        {
          "output_type": "error",
          "ename": "AttributeError",
          "evalue": "ignored",
          "traceback": [
            "\u001b[0;31m---------------------------------------------------------------------------\u001b[0m",
            "\u001b[0;31mAttributeError\u001b[0m                            Traceback (most recent call last)",
            "\u001b[0;32m<ipython-input-487-030ee7a29b73>\u001b[0m in \u001b[0;36m<module>\u001b[0;34m\u001b[0m\n\u001b[1;32m      3\u001b[0m \u001b[0;32mimport\u001b[0m \u001b[0mmatplotlib\u001b[0m\u001b[0;34m.\u001b[0m\u001b[0mpyplot\u001b[0m \u001b[0;32mas\u001b[0m \u001b[0mplt\u001b[0m\u001b[0;34m\u001b[0m\u001b[0;34m\u001b[0m\u001b[0m\n\u001b[1;32m      4\u001b[0m \u001b[0;32mimport\u001b[0m \u001b[0mseaborn\u001b[0m \u001b[0;32mas\u001b[0m \u001b[0msns\u001b[0m\u001b[0;34m\u001b[0m\u001b[0;34m\u001b[0m\u001b[0m\n\u001b[0;32m----> 5\u001b[0;31m \u001b[0mcorr\u001b[0m \u001b[0;34m=\u001b[0m \u001b[0mMiceImputed\u001b[0m\u001b[0;34m.\u001b[0m\u001b[0mcorr\u001b[0m\u001b[0;34m(\u001b[0m\u001b[0;34m)\u001b[0m\u001b[0;34m\u001b[0m\u001b[0;34m\u001b[0m\u001b[0m\n\u001b[0m\u001b[1;32m      6\u001b[0m \u001b[0mmask\u001b[0m \u001b[0;34m=\u001b[0m \u001b[0mnp\u001b[0m\u001b[0;34m.\u001b[0m\u001b[0mtriu\u001b[0m\u001b[0;34m(\u001b[0m\u001b[0mnp\u001b[0m\u001b[0;34m.\u001b[0m\u001b[0mones_like\u001b[0m\u001b[0;34m(\u001b[0m\u001b[0mcorr\u001b[0m\u001b[0;34m,\u001b[0m \u001b[0mdtype\u001b[0m\u001b[0;34m=\u001b[0m\u001b[0mnp\u001b[0m\u001b[0;34m.\u001b[0m\u001b[0mbool\u001b[0m\u001b[0;34m)\u001b[0m\u001b[0;34m)\u001b[0m\u001b[0;34m\u001b[0m\u001b[0;34m\u001b[0m\u001b[0m\n\u001b[1;32m      7\u001b[0m \u001b[0mf\u001b[0m\u001b[0;34m,\u001b[0m \u001b[0max\u001b[0m \u001b[0;34m=\u001b[0m \u001b[0mplt\u001b[0m\u001b[0;34m.\u001b[0m\u001b[0msubplots\u001b[0m\u001b[0;34m(\u001b[0m\u001b[0mfigsize\u001b[0m\u001b[0;34m=\u001b[0m\u001b[0;34m(\u001b[0m\u001b[0;36m20\u001b[0m\u001b[0;34m,\u001b[0m \u001b[0;36m20\u001b[0m\u001b[0;34m)\u001b[0m\u001b[0;34m)\u001b[0m\u001b[0;34m\u001b[0m\u001b[0;34m\u001b[0m\u001b[0m\n",
            "\u001b[0;31mAttributeError\u001b[0m: 'numpy.ndarray' object has no attribute 'corr'"
          ]
        }
      ]
    },
    {
      "cell_type": "code",
      "source": [
        "MiceImputed"
      ],
      "metadata": {
        "id": "azhgimExYAAB"
      },
      "execution_count": null,
      "outputs": []
    },
    {
      "cell_type": "markdown",
      "metadata": {
        "id": "OI2iMGX6AoVT"
      },
      "source": [
        "##**3.10 Feature Scaling**"
      ]
    },
    {
      "cell_type": "code",
      "metadata": {
        "id": "XTqsjzHYc4W-",
        "outputId": "0d24032a-9aab-43f9-8543-ad6d1836c93c",
        "colab": {
          "base_uri": "https://localhost:8080/",
          "height": 208
        }
      },
      "source": [
        "# Standardizing data\n",
        "from sklearn import preprocessing\n",
        "r_scaler = preprocessing.MinMaxScaler()\n",
        "r_scaler.fit(MiceImputed)\n",
        "modified_data = pd.DataFrame(r_scaler.transform(MiceImputed), index=MiceImputed.index, columns=MiceImputed.columns)"
      ],
      "execution_count": null,
      "outputs": [
        {
          "output_type": "error",
          "ename": "AttributeError",
          "evalue": "ignored",
          "traceback": [
            "\u001b[0;31m---------------------------------------------------------------------------\u001b[0m",
            "\u001b[0;31mAttributeError\u001b[0m                            Traceback (most recent call last)",
            "\u001b[0;32m<ipython-input-488-5101862edde5>\u001b[0m in \u001b[0;36m<module>\u001b[0;34m\u001b[0m\n\u001b[1;32m      3\u001b[0m \u001b[0mr_scaler\u001b[0m \u001b[0;34m=\u001b[0m \u001b[0mpreprocessing\u001b[0m\u001b[0;34m.\u001b[0m\u001b[0mMinMaxScaler\u001b[0m\u001b[0;34m(\u001b[0m\u001b[0;34m)\u001b[0m\u001b[0;34m\u001b[0m\u001b[0;34m\u001b[0m\u001b[0m\n\u001b[1;32m      4\u001b[0m \u001b[0mr_scaler\u001b[0m\u001b[0;34m.\u001b[0m\u001b[0mfit\u001b[0m\u001b[0;34m(\u001b[0m\u001b[0mMiceImputed\u001b[0m\u001b[0;34m)\u001b[0m\u001b[0;34m\u001b[0m\u001b[0;34m\u001b[0m\u001b[0m\n\u001b[0;32m----> 5\u001b[0;31m \u001b[0mmodified_data\u001b[0m \u001b[0;34m=\u001b[0m \u001b[0mpd\u001b[0m\u001b[0;34m.\u001b[0m\u001b[0mDataFrame\u001b[0m\u001b[0;34m(\u001b[0m\u001b[0mr_scaler\u001b[0m\u001b[0;34m.\u001b[0m\u001b[0mtransform\u001b[0m\u001b[0;34m(\u001b[0m\u001b[0mMiceImputed\u001b[0m\u001b[0;34m)\u001b[0m\u001b[0;34m,\u001b[0m \u001b[0mindex\u001b[0m\u001b[0;34m=\u001b[0m\u001b[0mMiceImputed\u001b[0m\u001b[0;34m.\u001b[0m\u001b[0mindex\u001b[0m\u001b[0;34m,\u001b[0m \u001b[0mcolumns\u001b[0m\u001b[0;34m=\u001b[0m\u001b[0mMiceImputed\u001b[0m\u001b[0;34m.\u001b[0m\u001b[0mcolumns\u001b[0m\u001b[0;34m)\u001b[0m\u001b[0;34m\u001b[0m\u001b[0;34m\u001b[0m\u001b[0m\n\u001b[0m",
            "\u001b[0;31mAttributeError\u001b[0m: 'numpy.ndarray' object has no attribute 'index'"
          ]
        }
      ]
    },
    {
      "cell_type": "code",
      "metadata": {
        "id": "nLGB3COlA7Mt",
        "colab": {
          "base_uri": "https://localhost:8080/",
          "height": 423
        },
        "outputId": "016701be-0820-42cd-d0cf-9a08e31b5cc5"
      },
      "source": [
        "modified_data"
      ],
      "execution_count": null,
      "outputs": [
        {
          "output_type": "execute_result",
          "data": {
            "text/plain": [
              "           MRNO       AGE  GENDER  REPORT_VERIFIED  RESULT_TEXT\n",
              "0      0.854683  0.350000     0.0         0.138810          0.0\n",
              "1      0.854683  0.350000     0.0         0.138790          0.0\n",
              "2      0.854714  0.558333     0.5         0.024182          0.0\n",
              "4      0.854838  0.391667     0.5         0.784319          0.0\n",
              "5      0.855210  0.275000     0.0         0.059670          0.0\n",
              "...         ...       ...     ...              ...          ...\n",
              "62602  0.262738  0.700000     0.5         0.920860          1.0\n",
              "51667  0.012505  0.116667     0.5         0.027149          1.0\n",
              "4227   0.457084  0.250000     0.0         0.431400          1.0\n",
              "28212  0.258301  0.425000     0.5         0.910311          1.0\n",
              "37226  0.325917  0.325000     0.5         0.188085          1.0\n",
              "\n",
              "[93846 rows x 5 columns]"
            ],
            "text/html": [
              "\n",
              "  <div id=\"df-94849ea3-4c08-4895-9bc3-858a21282e53\">\n",
              "    <div class=\"colab-df-container\">\n",
              "      <div>\n",
              "<style scoped>\n",
              "    .dataframe tbody tr th:only-of-type {\n",
              "        vertical-align: middle;\n",
              "    }\n",
              "\n",
              "    .dataframe tbody tr th {\n",
              "        vertical-align: top;\n",
              "    }\n",
              "\n",
              "    .dataframe thead th {\n",
              "        text-align: right;\n",
              "    }\n",
              "</style>\n",
              "<table border=\"1\" class=\"dataframe\">\n",
              "  <thead>\n",
              "    <tr style=\"text-align: right;\">\n",
              "      <th></th>\n",
              "      <th>MRNO</th>\n",
              "      <th>AGE</th>\n",
              "      <th>GENDER</th>\n",
              "      <th>REPORT_VERIFIED</th>\n",
              "      <th>RESULT_TEXT</th>\n",
              "    </tr>\n",
              "  </thead>\n",
              "  <tbody>\n",
              "    <tr>\n",
              "      <th>0</th>\n",
              "      <td>0.854683</td>\n",
              "      <td>0.350000</td>\n",
              "      <td>0.0</td>\n",
              "      <td>0.138810</td>\n",
              "      <td>0.0</td>\n",
              "    </tr>\n",
              "    <tr>\n",
              "      <th>1</th>\n",
              "      <td>0.854683</td>\n",
              "      <td>0.350000</td>\n",
              "      <td>0.0</td>\n",
              "      <td>0.138790</td>\n",
              "      <td>0.0</td>\n",
              "    </tr>\n",
              "    <tr>\n",
              "      <th>2</th>\n",
              "      <td>0.854714</td>\n",
              "      <td>0.558333</td>\n",
              "      <td>0.5</td>\n",
              "      <td>0.024182</td>\n",
              "      <td>0.0</td>\n",
              "    </tr>\n",
              "    <tr>\n",
              "      <th>4</th>\n",
              "      <td>0.854838</td>\n",
              "      <td>0.391667</td>\n",
              "      <td>0.5</td>\n",
              "      <td>0.784319</td>\n",
              "      <td>0.0</td>\n",
              "    </tr>\n",
              "    <tr>\n",
              "      <th>5</th>\n",
              "      <td>0.855210</td>\n",
              "      <td>0.275000</td>\n",
              "      <td>0.0</td>\n",
              "      <td>0.059670</td>\n",
              "      <td>0.0</td>\n",
              "    </tr>\n",
              "    <tr>\n",
              "      <th>...</th>\n",
              "      <td>...</td>\n",
              "      <td>...</td>\n",
              "      <td>...</td>\n",
              "      <td>...</td>\n",
              "      <td>...</td>\n",
              "    </tr>\n",
              "    <tr>\n",
              "      <th>62602</th>\n",
              "      <td>0.262738</td>\n",
              "      <td>0.700000</td>\n",
              "      <td>0.5</td>\n",
              "      <td>0.920860</td>\n",
              "      <td>1.0</td>\n",
              "    </tr>\n",
              "    <tr>\n",
              "      <th>51667</th>\n",
              "      <td>0.012505</td>\n",
              "      <td>0.116667</td>\n",
              "      <td>0.5</td>\n",
              "      <td>0.027149</td>\n",
              "      <td>1.0</td>\n",
              "    </tr>\n",
              "    <tr>\n",
              "      <th>4227</th>\n",
              "      <td>0.457084</td>\n",
              "      <td>0.250000</td>\n",
              "      <td>0.0</td>\n",
              "      <td>0.431400</td>\n",
              "      <td>1.0</td>\n",
              "    </tr>\n",
              "    <tr>\n",
              "      <th>28212</th>\n",
              "      <td>0.258301</td>\n",
              "      <td>0.425000</td>\n",
              "      <td>0.5</td>\n",
              "      <td>0.910311</td>\n",
              "      <td>1.0</td>\n",
              "    </tr>\n",
              "    <tr>\n",
              "      <th>37226</th>\n",
              "      <td>0.325917</td>\n",
              "      <td>0.325000</td>\n",
              "      <td>0.5</td>\n",
              "      <td>0.188085</td>\n",
              "      <td>1.0</td>\n",
              "    </tr>\n",
              "  </tbody>\n",
              "</table>\n",
              "<p>93846 rows × 5 columns</p>\n",
              "</div>\n",
              "      <button class=\"colab-df-convert\" onclick=\"convertToInteractive('df-94849ea3-4c08-4895-9bc3-858a21282e53')\"\n",
              "              title=\"Convert this dataframe to an interactive table.\"\n",
              "              style=\"display:none;\">\n",
              "        \n",
              "  <svg xmlns=\"http://www.w3.org/2000/svg\" height=\"24px\"viewBox=\"0 0 24 24\"\n",
              "       width=\"24px\">\n",
              "    <path d=\"M0 0h24v24H0V0z\" fill=\"none\"/>\n",
              "    <path d=\"M18.56 5.44l.94 2.06.94-2.06 2.06-.94-2.06-.94-.94-2.06-.94 2.06-2.06.94zm-11 1L8.5 8.5l.94-2.06 2.06-.94-2.06-.94L8.5 2.5l-.94 2.06-2.06.94zm10 10l.94 2.06.94-2.06 2.06-.94-2.06-.94-.94-2.06-.94 2.06-2.06.94z\"/><path d=\"M17.41 7.96l-1.37-1.37c-.4-.4-.92-.59-1.43-.59-.52 0-1.04.2-1.43.59L10.3 9.45l-7.72 7.72c-.78.78-.78 2.05 0 2.83L4 21.41c.39.39.9.59 1.41.59.51 0 1.02-.2 1.41-.59l7.78-7.78 2.81-2.81c.8-.78.8-2.07 0-2.86zM5.41 20L4 18.59l7.72-7.72 1.47 1.35L5.41 20z\"/>\n",
              "  </svg>\n",
              "      </button>\n",
              "      \n",
              "  <style>\n",
              "    .colab-df-container {\n",
              "      display:flex;\n",
              "      flex-wrap:wrap;\n",
              "      gap: 12px;\n",
              "    }\n",
              "\n",
              "    .colab-df-convert {\n",
              "      background-color: #E8F0FE;\n",
              "      border: none;\n",
              "      border-radius: 50%;\n",
              "      cursor: pointer;\n",
              "      display: none;\n",
              "      fill: #1967D2;\n",
              "      height: 32px;\n",
              "      padding: 0 0 0 0;\n",
              "      width: 32px;\n",
              "    }\n",
              "\n",
              "    .colab-df-convert:hover {\n",
              "      background-color: #E2EBFA;\n",
              "      box-shadow: 0px 1px 2px rgba(60, 64, 67, 0.3), 0px 1px 3px 1px rgba(60, 64, 67, 0.15);\n",
              "      fill: #174EA6;\n",
              "    }\n",
              "\n",
              "    [theme=dark] .colab-df-convert {\n",
              "      background-color: #3B4455;\n",
              "      fill: #D2E3FC;\n",
              "    }\n",
              "\n",
              "    [theme=dark] .colab-df-convert:hover {\n",
              "      background-color: #434B5C;\n",
              "      box-shadow: 0px 1px 3px 1px rgba(0, 0, 0, 0.15);\n",
              "      filter: drop-shadow(0px 1px 2px rgba(0, 0, 0, 0.3));\n",
              "      fill: #FFFFFF;\n",
              "    }\n",
              "  </style>\n",
              "\n",
              "      <script>\n",
              "        const buttonEl =\n",
              "          document.querySelector('#df-94849ea3-4c08-4895-9bc3-858a21282e53 button.colab-df-convert');\n",
              "        buttonEl.style.display =\n",
              "          google.colab.kernel.accessAllowed ? 'block' : 'none';\n",
              "\n",
              "        async function convertToInteractive(key) {\n",
              "          const element = document.querySelector('#df-94849ea3-4c08-4895-9bc3-858a21282e53');\n",
              "          const dataTable =\n",
              "            await google.colab.kernel.invokeFunction('convertToInteractive',\n",
              "                                                     [key], {});\n",
              "          if (!dataTable) return;\n",
              "\n",
              "          const docLinkHtml = 'Like what you see? Visit the ' +\n",
              "            '<a target=\"_blank\" href=https://colab.research.google.com/notebooks/data_table.ipynb>data table notebook</a>'\n",
              "            + ' to learn more about interactive tables.';\n",
              "          element.innerHTML = '';\n",
              "          dataTable['output_type'] = 'display_data';\n",
              "          await google.colab.output.renderOutput(dataTable, element);\n",
              "          const docLink = document.createElement('div');\n",
              "          docLink.innerHTML = docLinkHtml;\n",
              "          element.appendChild(docLink);\n",
              "        }\n",
              "      </script>\n",
              "    </div>\n",
              "  </div>\n",
              "  "
            ]
          },
          "metadata": {},
          "execution_count": 414
        }
      ]
    },
    {
      "cell_type": "code",
      "source": [
        "# Filling Values with mean\n",
        "from sklearn.impute import SimpleImputer\n",
        "mean_values = SimpleImputer(strategy='mean')\n",
        "modified_data = mean_values.fit_transform(modified_data)"
      ],
      "metadata": {
        "id": "i10LJ-RrWqmE"
      },
      "execution_count": null,
      "outputs": []
    },
    {
      "cell_type": "markdown",
      "metadata": {
        "id": "RHmdNwU_CgFj"
      },
      "source": [
        "#**4 Data spliting**"
      ]
    },
    {
      "cell_type": "code",
      "metadata": {
        "id": "5pcJs0LfeI4Q"
      },
      "source": [
        "X=modified_data.drop('RESULT_TEXT',axis=1)"
      ],
      "execution_count": null,
      "outputs": []
    },
    {
      "cell_type": "code",
      "metadata": {
        "id": "52fY-DzqfFV1"
      },
      "source": [
        "y=modified_data[['RESULT_TEXT']]"
      ],
      "execution_count": null,
      "outputs": []
    },
    {
      "cell_type": "code",
      "metadata": {
        "id": "k1fyz1VYfhP7"
      },
      "source": [
        "# y\n",
        "X"
      ],
      "execution_count": null,
      "outputs": []
    },
    {
      "cell_type": "code",
      "metadata": {
        "id": "CXR6isVQgl8O"
      },
      "source": [
        "y"
      ],
      "execution_count": null,
      "outputs": []
    },
    {
      "cell_type": "code",
      "metadata": {
        "id": "qX6xRBwGivHV"
      },
      "source": [
        "X_train, X_test, y_train, y_test = train_test_split(X, y, test_size=0.30, random_state=100)"
      ],
      "execution_count": null,
      "outputs": []
    },
    {
      "cell_type": "markdown",
      "metadata": {
        "id": "aKQGzCOUcW5Y"
      },
      "source": [
        "# **Feature Selection**"
      ]
    },
    {
      "cell_type": "code",
      "metadata": {
        "id": "Xj-Pl3rycexA"
      },
      "source": [
        "!pip install boruta"
      ],
      "execution_count": null,
      "outputs": []
    },
    {
      "cell_type": "code",
      "metadata": {
        "id": "u1lRoF71c--p"
      },
      "source": [
        "from boruta import BorutaPy\n",
        "from sklearn.ensemble import RandomForestRegressor\n",
        "import numpy as np\n"
      ],
      "execution_count": null,
      "outputs": []
    },
    {
      "cell_type": "code",
      "metadata": {
        "id": "CMamsenle8Yk"
      },
      "source": [
        "forest = RandomForestRegressor(n_jobs=-1,max_depth=5)"
      ],
      "execution_count": null,
      "outputs": []
    },
    {
      "cell_type": "code",
      "metadata": {
        "id": "7dKNAi-bdYEU"
      },
      "source": [
        "\n",
        "boruta= BorutaPy(estimator= forest, n_estimators='auto',max_iter=100)\n",
        "boruta.fit(np.array(X),np.array(y) )\n"
      ],
      "execution_count": null,
      "outputs": []
    },
    {
      "cell_type": "code",
      "metadata": {
        "id": "Q5bMIqcDiU7p"
      },
      "source": [
        "green_area= X.columns[boruta.support_].to_list()\n",
        "blue_area= X.columns[boruta.support_weak_].to_list()"
      ],
      "execution_count": null,
      "outputs": []
    },
    {
      "cell_type": "code",
      "metadata": {
        "colab": {
          "base_uri": "https://localhost:8080/"
        },
        "id": "sTFUbttRjMzg",
        "outputId": "9c1ee199-d4e4-446f-ece4-a8851eeff6f8"
      },
      "source": [
        "print('Feature in green ara:',green_area)\n",
        "print('Feature in blue ara:',blue_area)"
      ],
      "execution_count": null,
      "outputs": [
        {
          "output_type": "stream",
          "text": [
            "Feature in green ara: ['MRNO', 'AGE', 'GENDER', 'DISTRICT', 'TEHSIL', 'REPORT_VERIFIED', 'CPT_ID']\n",
            "Feature in blue ara: []\n"
          ],
          "name": "stdout"
        }
      ]
    },
    {
      "cell_type": "markdown",
      "metadata": {
        "id": "DLp67Y5hivHV"
      },
      "source": [
        "# **5- Model Training**"
      ]
    },
    {
      "cell_type": "markdown",
      "metadata": {
        "id": "ABiBgAIWivHV"
      },
      "source": [
        "##**5.1-Decision Trees**"
      ]
    },
    {
      "cell_type": "code",
      "metadata": {
        "id": "9-6H4JqkivHV",
        "colab": {
          "base_uri": "https://localhost:8080/"
        },
        "outputId": "247d789e-fe65-44e0-fe7b-376fef432655"
      },
      "source": [
        "DTC=DecisionTreeClassifier(random_state=0, max_depth=2)\n",
        "DTC= DTC.fit(X_train , y_train)\n",
        "DTC"
      ],
      "execution_count": null,
      "outputs": [
        {
          "output_type": "execute_result",
          "data": {
            "text/plain": [
              "DecisionTreeClassifier(max_depth=2, random_state=0)"
            ]
          },
          "metadata": {},
          "execution_count": 418
        }
      ]
    },
    {
      "cell_type": "code",
      "metadata": {
        "id": "Rzz9yX-OivHW",
        "colab": {
          "base_uri": "https://localhost:8080/"
        },
        "outputId": "4281ecab-97a4-48e8-8ae4-42b4e1dcca87"
      },
      "source": [
        "y_pred1 = DTC.predict(X_test)\n",
        "dt=DTC.score(X_test, y_test)\n",
        "print('Accuracy score= {:.4f}'.format(DTC.score(X_test, y_test)))"
      ],
      "execution_count": null,
      "outputs": [
        {
          "output_type": "stream",
          "name": "stdout",
          "text": [
            "Accuracy score= 0.5982\n"
          ]
        }
      ]
    },
    {
      "cell_type": "markdown",
      "metadata": {
        "id": "PEgb1l9IivHW"
      },
      "source": [
        "### **5.1.1 -Confusion Matrix**"
      ]
    },
    {
      "cell_type": "code",
      "metadata": {
        "id": "VYupk1X9ivHW",
        "colab": {
          "base_uri": "https://localhost:8080/",
          "height": 738
        },
        "outputId": "b57664cf-448b-4b1c-dedd-febacf01c725"
      },
      "source": [
        "print('\\n')\n",
        "print(\"confusion matrix\")\n",
        "print('\\n')\n",
        "CR=confusion_matrix(y_test, y_pred1)\n",
        "print(CR)\n",
        "print('\\n')\n",
        "\n",
        "fig, ax = plot_confusion_matrix(conf_mat=CR,figsize=(10, 10),\n",
        "                                show_absolute=True,\n",
        "                                show_normed=True,\n",
        "                                colorbar=True)\n",
        "plt.show()"
      ],
      "execution_count": null,
      "outputs": [
        {
          "output_type": "stream",
          "name": "stdout",
          "text": [
            "\n",
            "\n",
            "confusion matrix\n",
            "\n",
            "\n",
            "[[8476 5688]\n",
            " [5623 8367]]\n",
            "\n",
            "\n"
          ]
        },
        {
          "output_type": "display_data",
          "data": {
            "text/plain": [
              "<Figure size 720x720 with 2 Axes>"
            ],
            "image/png": "[encoded data removed]"
          },
          "metadata": {
            "needs_background": "light"
          }
        }
      ]
    },
    {
      "cell_type": "markdown",
      "metadata": {
        "id": "TpVfPBk8ivHX"
      },
      "source": [
        "### **5.1.2-Precision, Recall, F1**"
      ]
    },
    {
      "cell_type": "code",
      "metadata": {
        "id": "Tg-r4N3RivHX",
        "colab": {
          "base_uri": "https://localhost:8080/"
        },
        "outputId": "92154e0c-1a7a-4ced-a1cc-4a637b3c0d92"
      },
      "source": [
        "print('\\n')\n",
        "print(\"Precision, Recall, F1\")\n",
        "print('\\n')\n",
        "CR=classification_report(y_test, y_pred1)\n",
        "print(CR)\n",
        "print('\\n')"
      ],
      "execution_count": null,
      "outputs": [
        {
          "output_type": "stream",
          "name": "stdout",
          "text": [
            "\n",
            "\n",
            "Precision, Recall, F1\n",
            "\n",
            "\n",
            "              precision    recall  f1-score   support\n",
            "\n",
            "         0.0       0.60      0.60      0.60     14164\n",
            "         1.0       0.60      0.60      0.60     13990\n",
            "\n",
            "    accuracy                           0.60     28154\n",
            "   macro avg       0.60      0.60      0.60     28154\n",
            "weighted avg       0.60      0.60      0.60     28154\n",
            "\n",
            "\n",
            "\n"
          ]
        }
      ]
    },
    {
      "cell_type": "markdown",
      "metadata": {
        "id": "zLGxK16DivHX"
      },
      "source": [
        "### **5.1.3-ROC CURVE**"
      ]
    },
    {
      "cell_type": "code",
      "metadata": {
        "id": "iKQ5whx5ivHX",
        "colab": {
          "base_uri": "https://localhost:8080/",
          "height": 295
        },
        "outputId": "e3f68ead-2439-4d09-af01-9c2d0be26824"
      },
      "source": [
        "fpr1, tpr1, thresholds = roc_curve(y_test, y_pred1)\n",
        "roc_auc = auc(fpr1, tpr1)\n",
        "plt.figure()\n",
        "plt.plot(fpr1, tpr1, color='darkorange', lw=1, label='ROC curve (area = %0.4f)' % roc_auc)\n",
        "plt.xlim([0.0, 1.0])\n",
        "plt.ylim([0.0, 1.05])\n",
        "plt.xlabel('False Positive Rate')\n",
        "plt.ylabel('True Positive Rate')\n",
        "plt.title('ROC CURVE')\n",
        "plt.legend(loc=\"lower right\")\n",
        "plt.show()"
      ],
      "execution_count": null,
      "outputs": [
        {
          "output_type": "display_data",
          "data": {
            "text/plain": [
              "<Figure size 432x288 with 1 Axes>"
            ],
            "image/png": "[encoded data removed]"
          },
          "metadata": {
            "needs_background": "light"
          }
        }
      ]
    },
    {
      "cell_type": "markdown",
      "metadata": {
        "id": "BmhGaJq6ivHY"
      },
      "source": [
        "## **5.2-Random Forest**"
      ]
    },
    {
      "cell_type": "code",
      "metadata": {
        "id": "RYz_jvGQivHY",
        "colab": {
          "base_uri": "https://localhost:8080/"
        },
        "outputId": "bed31daf-ff69-4f61-9170-ffc585b87462"
      },
      "source": [
        "Ran_For= RandomForestClassifier(n_estimators=100,max_depth=15, random_state=11,max_leaf_nodes=10)\n",
        "Ran_For= Ran_For.fit(X_train , y_train)\n",
        "Ran_For"
      ],
      "execution_count": null,
      "outputs": [
        {
          "output_type": "execute_result",
          "data": {
            "text/plain": [
              "RandomForestClassifier(max_depth=15, max_leaf_nodes=10, random_state=11)"
            ]
          },
          "metadata": {},
          "execution_count": 423
        }
      ]
    },
    {
      "cell_type": "code",
      "metadata": {
        "id": "uKbH4wscivHZ",
        "colab": {
          "base_uri": "https://localhost:8080/"
        },
        "outputId": "a5e7b263-ec4d-4d47-d644-3d8e4e681585"
      },
      "source": [
        "y_pred1 = Ran_For.predict(X_test)\n",
        "rn=Ran_For.score(X_test, y_test)\n",
        "print('Accuracy score= {:.4f}'.format(Ran_For.score(X_test, y_test)))"
      ],
      "execution_count": null,
      "outputs": [
        {
          "output_type": "stream",
          "name": "stdout",
          "text": [
            "Accuracy score= 0.6010\n"
          ]
        }
      ]
    },
    {
      "cell_type": "markdown",
      "metadata": {
        "id": "vf3lwlPXivHa"
      },
      "source": [
        "### **5.2.1-Confusion Matrix**"
      ]
    },
    {
      "cell_type": "code",
      "metadata": {
        "id": "dDQtBRopivHb",
        "colab": {
          "base_uri": "https://localhost:8080/",
          "height": 738
        },
        "outputId": "a841ae3b-57f5-47d3-d0e9-2decfe86622f"
      },
      "source": [
        "print('\\n')\n",
        "print(\"confusion matrix\")\n",
        "print('\\n')\n",
        "CR=confusion_matrix(y_test, y_pred1)\n",
        "print(CR)\n",
        "print('\\n')\n",
        "\n",
        "fig, ax = plot_confusion_matrix(conf_mat=CR,figsize=(10, 10),\n",
        "                                show_absolute=True,\n",
        "                                show_normed=True,\n",
        "                                colorbar=True)\n",
        "plt.show()"
      ],
      "execution_count": null,
      "outputs": [
        {
          "output_type": "stream",
          "name": "stdout",
          "text": [
            "\n",
            "\n",
            "confusion matrix\n",
            "\n",
            "\n",
            "[[8221 5943]\n",
            " [5290 8700]]\n",
            "\n",
            "\n"
          ]
        },
        {
          "output_type": "display_data",
          "data": {
            "text/plain": [
              "<Figure size 720x720 with 2 Axes>"
            ],
            "image/png": "[encoded data removed]"
          },
          "metadata": {
            "needs_background": "light"
          }
        }
      ]
    },
    {
      "cell_type": "markdown",
      "metadata": {
        "id": "0EUpZCpSivHc"
      },
      "source": [
        "### **5.2.2  Precision, Recall, F1**"
      ]
    },
    {
      "cell_type": "code",
      "metadata": {
        "id": "uB_LMqHBivHc",
        "colab": {
          "base_uri": "https://localhost:8080/"
        },
        "outputId": "43d58a1c-852a-49b4-f51f-7143aec2dea6"
      },
      "source": [
        "print('\\n')\n",
        "print(\"Precision, Recall, F1\")\n",
        "print('\\n')\n",
        "CR=classification_report(y_test, y_pred1)\n",
        "print(CR)\n",
        "print('\\n')"
      ],
      "execution_count": null,
      "outputs": [
        {
          "output_type": "stream",
          "name": "stdout",
          "text": [
            "\n",
            "\n",
            "Precision, Recall, F1\n",
            "\n",
            "\n",
            "              precision    recall  f1-score   support\n",
            "\n",
            "         0.0       0.61      0.58      0.59     14164\n",
            "         1.0       0.59      0.62      0.61     13990\n",
            "\n",
            "    accuracy                           0.60     28154\n",
            "   macro avg       0.60      0.60      0.60     28154\n",
            "weighted avg       0.60      0.60      0.60     28154\n",
            "\n",
            "\n",
            "\n"
          ]
        }
      ]
    },
    {
      "cell_type": "markdown",
      "metadata": {
        "id": "dmv1lmT2ivHd"
      },
      "source": [
        "### **5.2.3 ROC CURVE**"
      ]
    },
    {
      "cell_type": "code",
      "metadata": {
        "id": "CRnE4Qan4RY_",
        "colab": {
          "base_uri": "https://localhost:8080/",
          "height": 295
        },
        "outputId": "04ce0301-e219-4681-f384-69a58a6fa0e8"
      },
      "source": [
        "fpr2, tpr2, thresholds = roc_curve(y_test, y_pred1)\n",
        "roc_auc = auc(fpr2, tpr2)\n",
        "plt.figure()\n",
        "plt.plot(fpr2, tpr2, color='darkorange', lw=1, label='ROC curve (area = %0.4f)' % roc_auc)\n",
        "plt.xlim([0.0, 1.0])\n",
        "plt.ylim([0.0, 1.05])\n",
        "plt.xlabel('False Positive Rate')\n",
        "plt.ylabel('True Positive Rate')\n",
        "plt.title('ROC CURVE')\n",
        "plt.legend(loc=\"lower right\")\n",
        "plt.show()"
      ],
      "execution_count": null,
      "outputs": [
        {
          "output_type": "display_data",
          "data": {
            "text/plain": [
              "<Figure size 432x288 with 1 Axes>"
            ],
            "image/png": "[encoded data removed]"
          },
          "metadata": {
            "needs_background": "light"
          }
        }
      ]
    },
    {
      "cell_type": "markdown",
      "metadata": {
        "id": "RtbZ54akivHe"
      },
      "source": [
        "## **5.3 SVM Support Vector Machine**"
      ]
    },
    {
      "cell_type": "code",
      "metadata": {
        "id": "eOrqJJrtivHf",
        "colab": {
          "base_uri": "https://localhost:8080/"
        },
        "outputId": "a30fabe5-855a-4865-b8a6-b20a67bdb588"
      },
      "source": [
        "svc=LinearSVC(random_state=0, tol=1e-5)\n",
        "svc= svc.fit(X_train , y_train)\n",
        "svc"
      ],
      "execution_count": null,
      "outputs": [
        {
          "output_type": "execute_result",
          "data": {
            "text/plain": [
              "LinearSVC(random_state=0, tol=1e-05)"
            ]
          },
          "metadata": {},
          "execution_count": 428
        }
      ]
    },
    {
      "cell_type": "code",
      "metadata": {
        "id": "Ft9KWrFlivHg",
        "colab": {
          "base_uri": "https://localhost:8080/"
        },
        "outputId": "bf515480-22e1-41c0-c25e-e6ffcc490c9c"
      },
      "source": [
        "y_pred1 = svc.predict(X_test)\n",
        "sv=svc.score(X_test, y_test)\n",
        "print('Accuracy score= {:.4f}'.format(svc.score(X_test, y_test)))"
      ],
      "execution_count": null,
      "outputs": [
        {
          "output_type": "stream",
          "name": "stdout",
          "text": [
            "Accuracy score= 0.5957\n"
          ]
        }
      ]
    },
    {
      "cell_type": "markdown",
      "metadata": {
        "id": "ypDgzVWtivHg"
      },
      "source": [
        "### **5.3.1- Confusion Matrix**"
      ]
    },
    {
      "cell_type": "code",
      "metadata": {
        "id": "NrKVKuFxivHh",
        "colab": {
          "base_uri": "https://localhost:8080/",
          "height": 738
        },
        "outputId": "84c070db-cb25-4d4f-a5df-cc133da844d3"
      },
      "source": [
        "print('\\n')\n",
        "print(\"confusion matrix\")\n",
        "print('\\n')\n",
        "CR=confusion_matrix(y_test, y_pred1)\n",
        "print(CR)\n",
        "print('\\n')\n",
        "\n",
        "fig, ax = plot_confusion_matrix(conf_mat=CR,figsize=(10, 10),\n",
        "                                show_absolute=True,\n",
        "                                show_normed=True,\n",
        "                                colorbar=True)\n",
        "plt.show()"
      ],
      "execution_count": null,
      "outputs": [
        {
          "output_type": "stream",
          "name": "stdout",
          "text": [
            "\n",
            "\n",
            "confusion matrix\n",
            "\n",
            "\n",
            "[[7952 6212]\n",
            " [5172 8818]]\n",
            "\n",
            "\n"
          ]
        },
        {
          "output_type": "display_data",
          "data": {
            "text/plain": [
              "<Figure size 720x720 with 2 Axes>"
            ],
            "image/png": "[encoded data removed]"
          },
          "metadata": {
            "needs_background": "light"
          }
        }
      ]
    },
    {
      "cell_type": "markdown",
      "metadata": {
        "id": "pZOKrEXoivHi"
      },
      "source": [
        "### **5.3.2-Precision, Recall, F1**"
      ]
    },
    {
      "cell_type": "code",
      "metadata": {
        "id": "WiwurndwivHi",
        "colab": {
          "base_uri": "https://localhost:8080/"
        },
        "outputId": "7a88ca60-1bb0-4445-8882-ac5f29f25f46"
      },
      "source": [
        "print('\\n')\n",
        "print(\"Precision, Recall, F1\")\n",
        "print('\\n')\n",
        "CR=classification_report(y_test, y_pred1)\n",
        "print(CR)\n",
        "print('\\n')"
      ],
      "execution_count": null,
      "outputs": [
        {
          "output_type": "stream",
          "name": "stdout",
          "text": [
            "\n",
            "\n",
            "Precision, Recall, F1\n",
            "\n",
            "\n",
            "              precision    recall  f1-score   support\n",
            "\n",
            "         0.0       0.61      0.56      0.58     14164\n",
            "         1.0       0.59      0.63      0.61     13990\n",
            "\n",
            "    accuracy                           0.60     28154\n",
            "   macro avg       0.60      0.60      0.60     28154\n",
            "weighted avg       0.60      0.60      0.60     28154\n",
            "\n",
            "\n",
            "\n"
          ]
        }
      ]
    },
    {
      "cell_type": "markdown",
      "metadata": {
        "id": "VwjfODVXivHj"
      },
      "source": [
        "### **5.3.3-ROC CURVE**"
      ]
    },
    {
      "cell_type": "code",
      "metadata": {
        "scrolled": true,
        "id": "qH3osxPKivHj",
        "colab": {
          "base_uri": "https://localhost:8080/",
          "height": 295
        },
        "outputId": "8e69daa1-0fda-4be7-8c99-328505f37feb"
      },
      "source": [
        "fpr3, tpr3, thresholds = roc_curve(y_test, y_pred1)\n",
        "roc_auc = auc(fpr3, tpr3)\n",
        "plt.figure()\n",
        "plt.plot(fpr3, tpr3, color='darkorange', lw=1, label='ROC curve (area = %0.4f)' % roc_auc)\n",
        "plt.xlim([0.0, 1.0])\n",
        "plt.ylim([0.0, 1.05])\n",
        "plt.xlabel('False Positive Rate')\n",
        "plt.ylabel('True Positive Rate')\n",
        "plt.title('ROC CURVE')\n",
        "plt.legend(loc=\"lower right\")\n",
        "plt.show()"
      ],
      "execution_count": null,
      "outputs": [
        {
          "output_type": "display_data",
          "data": {
            "text/plain": [
              "<Figure size 432x288 with 1 Axes>"
            ],
            "image/png": "[encoded data removed]"
          },
          "metadata": {
            "needs_background": "light"
          }
        }
      ]
    },
    {
      "cell_type": "markdown",
      "metadata": {
        "id": "nr5cNKupivHk"
      },
      "source": [
        "## **5.4-Logistic Regression**"
      ]
    },
    {
      "cell_type": "code",
      "metadata": {
        "id": "tLZ0xAIBivHk",
        "colab": {
          "base_uri": "https://localhost:8080/"
        },
        "outputId": "c29c128a-8dfe-4029-fed1-5945c04cd049"
      },
      "source": [
        "LR= LogisticRegression()\n",
        "LR= LR.fit(X_train , y_train)\n",
        "LR"
      ],
      "execution_count": null,
      "outputs": [
        {
          "output_type": "execute_result",
          "data": {
            "text/plain": [
              "LogisticRegression()"
            ]
          },
          "metadata": {},
          "execution_count": 436
        }
      ]
    },
    {
      "cell_type": "code",
      "metadata": {
        "id": "I7F0kNEKivHl",
        "colab": {
          "base_uri": "https://localhost:8080/"
        },
        "outputId": "929421d4-c0bf-4bab-f842-b0e07760cd21"
      },
      "source": [
        "y_pred1 = LR.predict(X_test)\n",
        "lr=LR.score(X_test, y_test)\n",
        "print('Accuracy score= {:.4f}'.format(LR.score(X_test, y_test)))"
      ],
      "execution_count": null,
      "outputs": [
        {
          "output_type": "stream",
          "name": "stdout",
          "text": [
            "Accuracy score= 0.5956\n"
          ]
        }
      ]
    },
    {
      "cell_type": "markdown",
      "metadata": {
        "id": "oCLHSkcQivHm"
      },
      "source": [
        "### **5.4.1-Confusion Matrix**"
      ]
    },
    {
      "cell_type": "code",
      "metadata": {
        "id": "h8NtOvLSivHm",
        "colab": {
          "base_uri": "https://localhost:8080/",
          "height": 738
        },
        "outputId": "149bff53-2ab2-4850-f5aa-ad2240622a4a"
      },
      "source": [
        "print('\\n')\n",
        "print(\"confusion matrix\")\n",
        "print('\\n')\n",
        "CR=confusion_matrix(y_test, y_pred1)\n",
        "print(CR)\n",
        "print('\\n')\n",
        "\n",
        "fig, ax = plot_confusion_matrix(conf_mat=CR,figsize=(10, 10),\n",
        "                                show_absolute=True,\n",
        "                                show_normed=True,\n",
        "                                colorbar=True)\n",
        "plt.show()"
      ],
      "execution_count": null,
      "outputs": [
        {
          "output_type": "stream",
          "name": "stdout",
          "text": [
            "\n",
            "\n",
            "confusion matrix\n",
            "\n",
            "\n",
            "[[7960 6204]\n",
            " [5181 8809]]\n",
            "\n",
            "\n"
          ]
        },
        {
          "output_type": "display_data",
          "data": {
            "text/plain": [
              "<Figure size 720x720 with 2 Axes>"
            ],
            "image/png": "[encoded data removed]"
          },
          "metadata": {
            "needs_background": "light"
          }
        }
      ]
    },
    {
      "cell_type": "markdown",
      "metadata": {
        "id": "1v0y-c6IivHn"
      },
      "source": [
        "### **5.4.2 Precision, Recall, F1**"
      ]
    },
    {
      "cell_type": "code",
      "metadata": {
        "id": "6qts0FNkivHn",
        "colab": {
          "base_uri": "https://localhost:8080/"
        },
        "outputId": "3cff4a2c-97c5-422e-c338-ffa5acaf730d"
      },
      "source": [
        "print('\\n')\n",
        "print(\"Precision, Recall, F1\")\n",
        "print('\\n')\n",
        "CR=classification_report(y_test, y_pred1)\n",
        "print(CR)\n",
        "print('\\n')"
      ],
      "execution_count": null,
      "outputs": [
        {
          "output_type": "stream",
          "name": "stdout",
          "text": [
            "\n",
            "\n",
            "Precision, Recall, F1\n",
            "\n",
            "\n",
            "              precision    recall  f1-score   support\n",
            "\n",
            "         0.0       0.61      0.56      0.58     14164\n",
            "         1.0       0.59      0.63      0.61     13990\n",
            "\n",
            "    accuracy                           0.60     28154\n",
            "   macro avg       0.60      0.60      0.60     28154\n",
            "weighted avg       0.60      0.60      0.60     28154\n",
            "\n",
            "\n",
            "\n"
          ]
        }
      ]
    },
    {
      "cell_type": "markdown",
      "metadata": {
        "id": "YoGWnTBNivHo"
      },
      "source": [
        "### **5.4.3-ROC CURVE**"
      ]
    },
    {
      "cell_type": "code",
      "metadata": {
        "scrolled": true,
        "id": "mcDCjbKDivHp",
        "colab": {
          "base_uri": "https://localhost:8080/",
          "height": 295
        },
        "outputId": "ffff1af9-1e80-46b6-ea10-5e15f37f687a"
      },
      "source": [
        "fpr4, tpr4, thresholds = roc_curve(y_test, y_pred1)\n",
        "roc_auc = auc(fpr4, tpr4)\n",
        "plt.figure()\n",
        "plt.plot(fpr4, tpr4, color='darkorange', lw=1, label='ROC curve (area = %0.4f)' % roc_auc)\n",
        "plt.xlim([0.0, 1.0])\n",
        "plt.ylim([0.0, 1.05])\n",
        "plt.xlabel('False Positive Rate')\n",
        "plt.ylabel('True Positive Rate')\n",
        "plt.title('ROC CURVE')\n",
        "plt.legend(loc=\"lower right\")\n",
        "plt.show()"
      ],
      "execution_count": null,
      "outputs": [
        {
          "output_type": "display_data",
          "data": {
            "text/plain": [
              "<Figure size 432x288 with 1 Axes>"
            ],
            "image/png": "[encoded data removed]"
          },
          "metadata": {
            "needs_background": "light"
          }
        }
      ]
    },
    {
      "cell_type": "markdown",
      "metadata": {
        "id": "2hrAg8xnivHp"
      },
      "source": [
        "## **5.5-KNN Algorithm**"
      ]
    },
    {
      "cell_type": "code",
      "metadata": {
        "id": "admGEGJbivHq",
        "colab": {
          "base_uri": "https://localhost:8080/"
        },
        "outputId": "5561ef22-8f43-4c98-da96-da9a5b0ea114"
      },
      "source": [
        "from sklearn.naive_bayes import GaussianNB\n",
        "KNN=GaussianNB()\n",
        "KNN= KNN.fit(X_train , y_train)\n",
        "KNN"
      ],
      "execution_count": null,
      "outputs": [
        {
          "output_type": "execute_result",
          "data": {
            "text/plain": [
              "GaussianNB()"
            ]
          },
          "metadata": {},
          "execution_count": 441
        }
      ]
    },
    {
      "cell_type": "code",
      "metadata": {
        "id": "GfGcTe-2ivHr",
        "colab": {
          "base_uri": "https://localhost:8080/"
        },
        "outputId": "c28f0d8e-e3fd-41a4-c79b-28177164d07e"
      },
      "source": [
        "y_pred1 = KNN.predict(X_test)\n",
        "kn=KNN.score(X_test, y_test)\n",
        "print('Accuracy score= {:.4f}'.format(KNN.score(X_test, y_test)))"
      ],
      "execution_count": null,
      "outputs": [
        {
          "output_type": "stream",
          "name": "stdout",
          "text": [
            "Accuracy score= 0.5970\n"
          ]
        }
      ]
    },
    {
      "cell_type": "markdown",
      "metadata": {
        "id": "lQ1jq_UIivHs"
      },
      "source": [
        "### **5.5.1-Confusion Matrix**"
      ]
    },
    {
      "cell_type": "code",
      "metadata": {
        "id": "_36SwRtPivHs",
        "colab": {
          "base_uri": "https://localhost:8080/",
          "height": 738
        },
        "outputId": "dac8a85d-85b2-47f4-ffca-172ffc499177"
      },
      "source": [
        "print('\\n')\n",
        "print(\"confusion matrix\")\n",
        "print('\\n')\n",
        "CR=confusion_matrix(y_test, y_pred1)\n",
        "print(CR)\n",
        "print('\\n')\n",
        "\n",
        "fig, ax = plot_confusion_matrix(conf_mat=CR,figsize=(10, 10),\n",
        "                                show_absolute=True,\n",
        "                                show_normed=True,\n",
        "                                colorbar=True)\n",
        "plt.show()"
      ],
      "execution_count": null,
      "outputs": [
        {
          "output_type": "stream",
          "name": "stdout",
          "text": [
            "\n",
            "\n",
            "confusion matrix\n",
            "\n",
            "\n",
            "[[7628 6536]\n",
            " [4809 9181]]\n",
            "\n",
            "\n"
          ]
        },
        {
          "output_type": "display_data",
          "data": {
            "text/plain": [
              "<Figure size 720x720 with 2 Axes>"
            ],
            "image/png": "[encoded data removed]"
          },
          "metadata": {
            "needs_background": "light"
          }
        }
      ]
    },
    {
      "cell_type": "markdown",
      "metadata": {
        "id": "yewqVaVSivHt"
      },
      "source": [
        "### **5.5.2-Precision, Recall, F1**"
      ]
    },
    {
      "cell_type": "code",
      "metadata": {
        "id": "5ddGNMt-xRL1"
      },
      "source": [],
      "execution_count": null,
      "outputs": []
    },
    {
      "cell_type": "code",
      "metadata": {
        "id": "L9FgeCRFivHt",
        "colab": {
          "base_uri": "https://localhost:8080/"
        },
        "outputId": "3844efe3-311d-4e43-bdf6-dc86790ff946"
      },
      "source": [
        "print('\\n')\n",
        "print(\"Precision, Recall, F1\")\n",
        "print('\\n')\n",
        "CR=classification_report(y_test, y_pred1)\n",
        "print(CR)\n",
        "print('\\n')"
      ],
      "execution_count": null,
      "outputs": [
        {
          "output_type": "stream",
          "name": "stdout",
          "text": [
            "\n",
            "\n",
            "Precision, Recall, F1\n",
            "\n",
            "\n",
            "              precision    recall  f1-score   support\n",
            "\n",
            "         0.0       0.61      0.54      0.57     14164\n",
            "         1.0       0.58      0.66      0.62     13990\n",
            "\n",
            "    accuracy                           0.60     28154\n",
            "   macro avg       0.60      0.60      0.60     28154\n",
            "weighted avg       0.60      0.60      0.60     28154\n",
            "\n",
            "\n",
            "\n"
          ]
        }
      ]
    },
    {
      "cell_type": "markdown",
      "metadata": {
        "id": "yRQIQ_gsivHu"
      },
      "source": [
        "### **5.5.3-ROC CURVE**"
      ]
    },
    {
      "cell_type": "code",
      "metadata": {
        "scrolled": true,
        "id": "46pXBeEvivHu",
        "colab": {
          "base_uri": "https://localhost:8080/",
          "height": 295
        },
        "outputId": "1d3a94eb-a947-45c0-e4a5-12bdbf0d08d2"
      },
      "source": [
        "fpr5, tpr5, thresholds = roc_curve(y_test, y_pred1)\n",
        "roc_auc = auc(fpr5, tpr5)\n",
        "plt.figure()\n",
        "plt.plot(fpr5, tpr5, color='darkorange', lw=1, label='ROC curve (area = %0.4f)' % roc_auc)\n",
        "plt.xlim([0.0, 1.0])\n",
        "plt.ylim([0.0, 1.05])\n",
        "plt.xlabel('False Positive Rate')\n",
        "plt.ylabel('True Positive Rate')\n",
        "plt.title('ROC CURVE')\n",
        "plt.legend(loc=\"lower right\")\n",
        "plt.show()"
      ],
      "execution_count": null,
      "outputs": [
        {
          "output_type": "display_data",
          "data": {
            "text/plain": [
              "<Figure size 432x288 with 1 Axes>"
            ],
            "image/png": "[encoded data removed]"
          },
          "metadata": {
            "needs_background": "light"
          }
        }
      ]
    },
    {
      "cell_type": "markdown",
      "metadata": {
        "id": "5adoPTGsaf7Y"
      },
      "source": [
        "# **6-Compare Modle performance** "
      ]
    },
    {
      "cell_type": "markdown",
      "metadata": {
        "id": "PtUNw7SnivHu"
      },
      "source": [
        "## **6.1-ROC Curve for Models**"
      ]
    },
    {
      "cell_type": "code",
      "metadata": {
        "id": "05AZpl4FivHu",
        "colab": {
          "base_uri": "https://localhost:8080/",
          "height": 295
        },
        "outputId": "0523ec09-e9b4-4d1b-81b7-7409029e45d8"
      },
      "source": [
        "plt.plot(fpr1, tpr1, marker='*', label='Decision Trees', color = 'black')\n",
        "plt.plot(fpr2, tpr2, marker='*', label='Random Forest', color = 'Red')\n",
        "plt.plot(fpr3, tpr3, marker='*', label='SVM', color = 'green')\n",
        "plt.plot(fpr4, tpr4, marker='*', label='LogisticRegression', color = 'yellow')\n",
        "plt.plot(fpr5, tpr5, marker='*', label='KNN', color = 'blue')\n",
        "plt.xlabel('False Positive Rate')\n",
        "plt.ylabel('True Positive Rate')\n",
        "plt.title('ROC CURVES OF ALGORITHMS')\n",
        "plt.legend(loc=\"lower right\")\n",
        "plt.show()"
      ],
      "execution_count": null,
      "outputs": [
        {
          "output_type": "display_data",
          "data": {
            "text/plain": [
              "<Figure size 432x288 with 1 Axes>"
            ],
            "image/png": "[encoded data removed]"
          },
          "metadata": {
            "needs_background": "light"
          }
        }
      ]
    },
    {
      "cell_type": "markdown",
      "metadata": {
        "id": "DHOCUdIwivHv"
      },
      "source": [
        "## **6.2-Comparison of all algorithms Results**"
      ]
    },
    {
      "cell_type": "code",
      "metadata": {
        "scrolled": true,
        "id": "mgNM2oNSivHv",
        "colab": {
          "base_uri": "https://localhost:8080/"
        },
        "outputId": "5b906256-5f94-4ee8-9fff-79bcc8062dfd"
      },
      "source": [
        "x = PrettyTable()\n",
        "print('\\n')\n",
        "print(\"Comparison of all algorithm results\")\n",
        "x.field_names = [\"Model\", \"Accuracy\"]\n",
        "\n",
        "\n",
        "x.add_row([\"Decision Trees Algorithm\", round(dt,4)])\n",
        "x.add_row([\"Random Forest Algorithm\", round(rn,4)])\n",
        "x.add_row([\"Support Vector Machine Algorithm\", round(sv,4)])\n",
        "x.add_row([\"LogisticRegression Algorithm\", round(lr,4)])\n",
        "x.add_row([\"KNN Algorithm\", round(kn,4)])\n",
        "print(x)\n",
        "print('\\n')"
      ],
      "execution_count": null,
      "outputs": [
        {
          "output_type": "stream",
          "name": "stdout",
          "text": [
            "\n",
            "\n",
            "Comparison of all algorithm results\n",
            "+----------------------------------+----------+\n",
            "|              Model               | Accuracy |\n",
            "+----------------------------------+----------+\n",
            "|     Decision Trees Algorithm     |  0.5982  |\n",
            "|     Random Forest Algorithm      |  0.601   |\n",
            "| Support Vector Machine Algorithm |  0.5957  |\n",
            "|   LogisticRegression Algorithm   |  0.5956  |\n",
            "|          KNN Algorithm           |  0.597   |\n",
            "+----------------------------------+----------+\n",
            "\n",
            "\n"
          ]
        }
      ]
    },
    {
      "cell_type": "code",
      "metadata": {
        "colab": {
          "base_uri": "https://localhost:8080/"
        },
        "id": "PoTeywcH6mRu",
        "outputId": "02699166-f9a5-4573-a39c-3105fbe63dbf"
      },
      "source": [
        "#  for sep data\n",
        "\n",
        "x = PrettyTable()\n",
        "print('\\n')\n",
        "print(\"Comparison of all algorithm results\")\n",
        "x.field_names = [\"Model\", \"Accuracy\"]\n",
        "\n",
        "\n",
        "x.add_row([\"Decision Trees Algorithm\", round(dt,4)])\n",
        "x.add_row([\"Random Forest Algorithm\", round(rn,4)])\n",
        "x.add_row([\"Support Vector Machine Algorithm\", round(sv,4)])\n",
        "x.add_row([\"LogisticRegression Algorithm\", round(lr,4)])\n",
        "x.add_row([\"KNN Algorithm\", round(kn,4)])\n",
        "print(x)\n",
        "print('\\n')"
      ],
      "execution_count": null,
      "outputs": [
        {
          "output_type": "stream",
          "name": "stdout",
          "text": [
            "\n",
            "\n",
            "Comparison of all algorithm results\n",
            "+----------------------------------+----------+\n",
            "|              Model               | Accuracy |\n",
            "+----------------------------------+----------+\n",
            "|     Decision Trees Algorithm     |  0.6829  |\n",
            "|     Random Forest Algorithm      |  0.6829  |\n",
            "| Support Vector Machine Algorithm |  0.6827  |\n",
            "|   LogisticRegression Algorithm   |  0.6826  |\n",
            "|          KNN Algorithm           |  0.6829  |\n",
            "+----------------------------------+----------+\n",
            "\n",
            "\n"
          ]
        }
      ]
    },
    {
      "cell_type": "markdown",
      "metadata": {
        "id": "RDXZdnRNivHv"
      },
      "source": [
        "## **6.3-Best Model with Accuracy and Time of execution**"
      ]
    },
    {
      "cell_type": "code",
      "metadata": {
        "id": "iz4xxk6sivHv",
        "colab": {
          "base_uri": "https://localhost:8080/"
        },
        "outputId": "755e4491-08b3-48f7-9669-4087c7b272bd"
      },
      "source": [
        "x = PrettyTable()\n",
        "print('\\n')\n",
        "print(\"Comparison of all algorithm results\")\n",
        "x.field_names = [\"Model\", \"Accuracy\"]\n",
        "\n",
        "\n",
        "x.add_row([\"Random Forest Algorithm\", round(rn,4)])\n",
        "\n",
        "print(x)\n",
        "print('\\n')"
      ],
      "execution_count": null,
      "outputs": [
        {
          "output_type": "stream",
          "text": [
            "\n",
            "\n",
            "Comparison of all algorithm results\n",
            "+-------------------------+----------+\n",
            "|          Model          | Accuracy |\n",
            "+-------------------------+----------+\n",
            "| Random Forest Algorithm |  0.775   |\n",
            "+-------------------------+----------+\n",
            "\n",
            "\n"
          ],
          "name": "stdout"
        }
      ]
    },
    {
      "cell_type": "markdown",
      "metadata": {
        "id": "bqx2Su7EivHw"
      },
      "source": [
        "#**13- Train on all training data now to make it more good on more data**"
      ]
    },
    {
      "cell_type": "markdown",
      "metadata": {
        "id": "8sYvVAF0c4QC"
      },
      "source": [
        "## **13.1 Logistic Regression**"
      ]
    },
    {
      "cell_type": "code",
      "metadata": {
        "id": "DEXD0VczivHw",
        "colab": {
          "base_uri": "https://localhost:8080/"
        },
        "outputId": "8e87575c-ace2-4e2a-ebd1-4b7c0ecbdfdb"
      },
      "source": [
        "Ran_For= LogisticRegression()\n",
        "Ran_For= Ran_For.fit(X , y)\n",
        "Ran_For"
      ],
      "execution_count": null,
      "outputs": [
        {
          "output_type": "execute_result",
          "data": {
            "text/plain": [
              "LogisticRegression(C=1.0, class_weight=None, dual=False, fit_intercept=True,\n",
              "                   intercept_scaling=1, l1_ratio=None, max_iter=100,\n",
              "                   multi_class='auto', n_jobs=None, penalty='l2',\n",
              "                   random_state=None, solver='lbfgs', tol=0.0001, verbose=0,\n",
              "                   warm_start=False)"
            ]
          },
          "metadata": {
            "tags": []
          },
          "execution_count": 67
        }
      ]
    },
    {
      "cell_type": "markdown",
      "metadata": {
        "id": "tRvE8NScivHw"
      },
      "source": [
        "### **13.1.1 Selecting the Test data of 8997 rows**"
      ]
    },
    {
      "cell_type": "code",
      "metadata": {
        "id": "RNBtOvCoivHx",
        "colab": {
          "base_uri": "https://localhost:8080/",
          "height": 164
        },
        "outputId": "e2adef55-ac2c-46e4-8948-d5c629af04ce"
      },
      "source": [
        "Testdata=normalized_data_with_selected_features.tail(8997)"
      ],
      "execution_count": null,
      "outputs": [
        {
          "output_type": "error",
          "ename": "NameError",
          "evalue": "ignored",
          "traceback": [
            "\u001b[0;31m---------------------------------------------------------------------------\u001b[0m",
            "\u001b[0;31mNameError\u001b[0m                                 Traceback (most recent call last)",
            "\u001b[0;32m<ipython-input-68-95c3bc5071f4>\u001b[0m in \u001b[0;36m<module>\u001b[0;34m()\u001b[0m\n\u001b[0;32m----> 1\u001b[0;31m \u001b[0mTestdata\u001b[0m\u001b[0;34m=\u001b[0m\u001b[0mnormalized_data_with_selected_features\u001b[0m\u001b[0;34m.\u001b[0m\u001b[0mtail\u001b[0m\u001b[0;34m(\u001b[0m\u001b[0;36m8997\u001b[0m\u001b[0;34m)\u001b[0m\u001b[0;34m\u001b[0m\u001b[0;34m\u001b[0m\u001b[0m\n\u001b[0m",
            "\u001b[0;31mNameError\u001b[0m: name 'normalized_data_with_selected_features' is not defined"
          ]
        }
      ]
    },
    {
      "cell_type": "code",
      "metadata": {
        "id": "yYQx4YF0ivHx"
      },
      "source": [
        "Testdata"
      ],
      "execution_count": null,
      "outputs": []
    },
    {
      "cell_type": "markdown",
      "metadata": {
        "id": "i4MpJiL1ivHx"
      },
      "source": [
        "### **13.1.2 As we are going to Predict the 'Termination_Status' so we dont need this**"
      ]
    },
    {
      "cell_type": "code",
      "metadata": {
        "id": "QHw_9Dz5ivHx"
      },
      "source": [
        "Testdata=Testdata.drop(columns=['Termination_Status'])\n",
        "Testdata"
      ],
      "execution_count": null,
      "outputs": []
    },
    {
      "cell_type": "markdown",
      "metadata": {
        "id": "OBdO5dkqivHy"
      },
      "source": [
        "### **13.1.3 Getting Probabilties on the Test data using Decision Trees Trained Model**"
      ]
    },
    {
      "cell_type": "code",
      "metadata": {
        "id": "VxGlEXzCivHy",
        "colab": {
          "base_uri": "https://localhost:8080/"
        },
        "outputId": "34fb8d59-b6e3-4b31-ae53-c88bda16f213"
      },
      "source": [
        "predictions=Ran_For.predict_proba(Testdata)\n",
        "predictions = np.amax(predictions, axis=1)\n",
        "predictions"
      ],
      "execution_count": null,
      "outputs": [
        {
          "output_type": "execute_result",
          "data": {
            "text/plain": [
              "array([0.89484018, 0.99981501, 0.99123215, ..., 0.99817415, 0.99826815,\n",
              "       0.99853741])"
            ]
          },
          "metadata": {
            "tags": []
          },
          "execution_count": 126
        }
      ]
    },
    {
      "cell_type": "code",
      "metadata": {
        "id": "YyJrHOLsivHy",
        "colab": {
          "base_uri": "https://localhost:8080/"
        },
        "outputId": "3907825a-7a42-4503-95ce-86b0353b15f2"
      },
      "source": [
        "Pred=pd.DataFrame()\n",
        "Pred['Test data predictions probabilties']=predictions\n",
        "Pred['Test data predictions probabilties']=round(Pred['Test data predictions probabilties'],2)\n",
        "Pred['Test data predictions probabilties']"
      ],
      "execution_count": null,
      "outputs": [
        {
          "output_type": "execute_result",
          "data": {
            "text/plain": [
              "0       0.89\n",
              "1       1.00\n",
              "2       0.99\n",
              "3       0.98\n",
              "4       0.99\n",
              "        ... \n",
              "8992    1.00\n",
              "8993    1.00\n",
              "8994    1.00\n",
              "8995    1.00\n",
              "8996    1.00\n",
              "Name: Test data predictions probabilties, Length: 8997, dtype: float64"
            ]
          },
          "metadata": {
            "tags": []
          },
          "execution_count": 127
        }
      ]
    },
    {
      "cell_type": "code",
      "metadata": {
        "id": "3anj7pLPivHz",
        "colab": {
          "base_uri": "https://localhost:8080/",
          "height": 483
        },
        "outputId": "125cea00-d527-490a-baba-89e59f5c71de"
      },
      "source": [
        "Pred['Test data predictions probabilties'].value_counts().head(10).plot(kind = 'pie', autopct='%1.1f%%', figsize=(8, 8)).legend()\n"
      ],
      "execution_count": null,
      "outputs": [
        {
          "output_type": "execute_result",
          "data": {
            "text/plain": [
              "<matplotlib.legend.Legend at 0x7efc4b6ab0b8>"
            ]
          },
          "metadata": {
            "tags": []
          },
          "execution_count": 128
        },
        {
          "output_type": "display_data",
          "data": {
            "image/png": "[encoded data removed]",
            "text/plain": [
              "<Figure size 576x576 with 1 Axes>"
            ]
          },
          "metadata": {
            "tags": []
          }
        }
      ]
    },
    {
      "cell_type": "code",
      "metadata": {
        "id": "yVOr04NRivHz",
        "colab": {
          "base_uri": "https://localhost:8080/"
        },
        "outputId": "f1e06e12-1bb8-4a0a-988d-8216743a4ff0"
      },
      "source": [
        "Pred['Test data predictions probabilties'].value_counts()"
      ],
      "execution_count": null,
      "outputs": [
        {
          "output_type": "execute_result",
          "data": {
            "text/plain": [
              "0.99    835\n",
              "0.97    805\n",
              "0.98    780\n",
              "0.96    635\n",
              "0.95    620\n",
              "1.00    519\n",
              "0.94    514\n",
              "0.93    460\n",
              "0.91    441\n",
              "0.92    439\n",
              "0.90    411\n",
              "0.89    332\n",
              "0.88    326\n",
              "0.87    274\n",
              "0.86    256\n",
              "0.85    209\n",
              "0.84    169\n",
              "0.83    158\n",
              "0.82    121\n",
              "0.81    106\n",
              "0.80     85\n",
              "0.79     67\n",
              "0.78     58\n",
              "0.77     44\n",
              "0.76     43\n",
              "0.75     25\n",
              "0.69     23\n",
              "0.74     22\n",
              "0.73     22\n",
              "0.66     19\n",
              "0.70     18\n",
              "0.71     16\n",
              "0.72     16\n",
              "0.59     14\n",
              "0.67     13\n",
              "0.58     10\n",
              "0.51      9\n",
              "0.54      9\n",
              "0.62      9\n",
              "0.65      9\n",
              "0.55      8\n",
              "0.61      7\n",
              "0.52      7\n",
              "0.63      7\n",
              "0.68      6\n",
              "0.64      5\n",
              "0.60      5\n",
              "0.57      4\n",
              "0.56      3\n",
              "0.50      3\n",
              "0.53      1\n",
              "Name: Test data predictions probabilties, dtype: int64"
            ]
          },
          "metadata": {
            "tags": []
          },
          "execution_count": 129
        }
      ]
    },
    {
      "cell_type": "markdown",
      "metadata": {
        "id": "ftINX4SzivHz"
      },
      "source": [
        "## **13.2-Getting Prediction on the Test data using Decision Trees Trained Model**"
      ]
    },
    {
      "cell_type": "code",
      "metadata": {
        "id": "SzgFBwdZivH0",
        "colab": {
          "base_uri": "https://localhost:8080/"
        },
        "outputId": "c9d7d3c4-d346-47d8-d7e6-2c96eac6108c"
      },
      "source": [
        "predictions=DTC.predict(Testdata)\n",
        "predictions"
      ],
      "execution_count": null,
      "outputs": [
        {
          "output_type": "execute_result",
          "data": {
            "text/plain": [
              "array([1, 1, 1, ..., 1, 1, 1])"
            ]
          },
          "metadata": {
            "tags": []
          },
          "execution_count": 130
        }
      ]
    },
    {
      "cell_type": "code",
      "metadata": {
        "id": "ALf-ARfBivH0",
        "colab": {
          "base_uri": "https://localhost:8080/",
          "height": 419
        },
        "outputId": "c8abdad9-7b94-44cc-8200-d11c94b2056d"
      },
      "source": [
        "Pred['Test data predictions']=predictions\n",
        "Pred['Test data predictions']=Pred['Test data predictions'].replace(0,'Yes')\n",
        "Pred['Test data predictions']=Pred['Test data predictions'].replace(1,'No')\n",
        "Pred"
      ],
      "execution_count": null,
      "outputs": [
        {
          "output_type": "execute_result",
          "data": {
            "text/html": [
              "<div>\n",
              "<style scoped>\n",
              "    .dataframe tbody tr th:only-of-type {\n",
              "        vertical-align: middle;\n",
              "    }\n",
              "\n",
              "    .dataframe tbody tr th {\n",
              "        vertical-align: top;\n",
              "    }\n",
              "\n",
              "    .dataframe thead th {\n",
              "        text-align: right;\n",
              "    }\n",
              "</style>\n",
              "<table border=\"1\" class=\"dataframe\">\n",
              "  <thead>\n",
              "    <tr style=\"text-align: right;\">\n",
              "      <th></th>\n",
              "      <th>Test data predictions probabilties</th>\n",
              "      <th>Test data predictions</th>\n",
              "    </tr>\n",
              "  </thead>\n",
              "  <tbody>\n",
              "    <tr>\n",
              "      <th>0</th>\n",
              "      <td>0.89</td>\n",
              "      <td>No</td>\n",
              "    </tr>\n",
              "    <tr>\n",
              "      <th>1</th>\n",
              "      <td>1.00</td>\n",
              "      <td>No</td>\n",
              "    </tr>\n",
              "    <tr>\n",
              "      <th>2</th>\n",
              "      <td>0.99</td>\n",
              "      <td>No</td>\n",
              "    </tr>\n",
              "    <tr>\n",
              "      <th>3</th>\n",
              "      <td>0.98</td>\n",
              "      <td>No</td>\n",
              "    </tr>\n",
              "    <tr>\n",
              "      <th>4</th>\n",
              "      <td>0.99</td>\n",
              "      <td>No</td>\n",
              "    </tr>\n",
              "    <tr>\n",
              "      <th>...</th>\n",
              "      <td>...</td>\n",
              "      <td>...</td>\n",
              "    </tr>\n",
              "    <tr>\n",
              "      <th>8992</th>\n",
              "      <td>1.00</td>\n",
              "      <td>No</td>\n",
              "    </tr>\n",
              "    <tr>\n",
              "      <th>8993</th>\n",
              "      <td>1.00</td>\n",
              "      <td>No</td>\n",
              "    </tr>\n",
              "    <tr>\n",
              "      <th>8994</th>\n",
              "      <td>1.00</td>\n",
              "      <td>No</td>\n",
              "    </tr>\n",
              "    <tr>\n",
              "      <th>8995</th>\n",
              "      <td>1.00</td>\n",
              "      <td>No</td>\n",
              "    </tr>\n",
              "    <tr>\n",
              "      <th>8996</th>\n",
              "      <td>1.00</td>\n",
              "      <td>No</td>\n",
              "    </tr>\n",
              "  </tbody>\n",
              "</table>\n",
              "<p>8997 rows × 2 columns</p>\n",
              "</div>"
            ],
            "text/plain": [
              "      Test data predictions probabilties Test data predictions\n",
              "0                                   0.89                    No\n",
              "1                                   1.00                    No\n",
              "2                                   0.99                    No\n",
              "3                                   0.98                    No\n",
              "4                                   0.99                    No\n",
              "...                                  ...                   ...\n",
              "8992                                1.00                    No\n",
              "8993                                1.00                    No\n",
              "8994                                1.00                    No\n",
              "8995                                1.00                    No\n",
              "8996                                1.00                    No\n",
              "\n",
              "[8997 rows x 2 columns]"
            ]
          },
          "metadata": {
            "tags": []
          },
          "execution_count": 131
        }
      ]
    },
    {
      "cell_type": "markdown",
      "metadata": {
        "id": "qfHe0nx4ivH0"
      },
      "source": [
        "# **14-Percentage of Predictions that are going to terminate is 1% and percentage of predictions that are not going to terminate are 99%**"
      ]
    },
    {
      "cell_type": "code",
      "metadata": {
        "id": "Rivo54NAivH0",
        "colab": {
          "base_uri": "https://localhost:8080/",
          "height": 181
        },
        "outputId": "90700620-ea4b-426b-c814-6220ac844362"
      },
      "source": [
        "Pred['Test data predictions'].value_counts().head(7).plot(kind = 'pie', autopct='%1.1f%%', figsize=(8, 8)).legend()\n"
      ],
      "execution_count": null,
      "outputs": [
        {
          "output_type": "error",
          "ename": "NameError",
          "evalue": "ignored",
          "traceback": [
            "\u001b[0;31m---------------------------------------------------------------------------\u001b[0m",
            "\u001b[0;31mNameError\u001b[0m                                 Traceback (most recent call last)",
            "\u001b[0;32m<ipython-input-100-ec7ae1bb75aa>\u001b[0m in \u001b[0;36m<module>\u001b[0;34m()\u001b[0m\n\u001b[0;32m----> 1\u001b[0;31m \u001b[0mPred\u001b[0m\u001b[0;34m[\u001b[0m\u001b[0;34m'Test data predictions'\u001b[0m\u001b[0;34m]\u001b[0m\u001b[0;34m.\u001b[0m\u001b[0mvalue_counts\u001b[0m\u001b[0;34m(\u001b[0m\u001b[0;34m)\u001b[0m\u001b[0;34m.\u001b[0m\u001b[0mhead\u001b[0m\u001b[0;34m(\u001b[0m\u001b[0;36m7\u001b[0m\u001b[0;34m)\u001b[0m\u001b[0;34m.\u001b[0m\u001b[0mplot\u001b[0m\u001b[0;34m(\u001b[0m\u001b[0mkind\u001b[0m \u001b[0;34m=\u001b[0m \u001b[0;34m'pie'\u001b[0m\u001b[0;34m,\u001b[0m \u001b[0mautopct\u001b[0m\u001b[0;34m=\u001b[0m\u001b[0;34m'%1.1f%%'\u001b[0m\u001b[0;34m,\u001b[0m \u001b[0mfigsize\u001b[0m\u001b[0;34m=\u001b[0m\u001b[0;34m(\u001b[0m\u001b[0;36m8\u001b[0m\u001b[0;34m,\u001b[0m \u001b[0;36m8\u001b[0m\u001b[0;34m)\u001b[0m\u001b[0;34m)\u001b[0m\u001b[0;34m.\u001b[0m\u001b[0mlegend\u001b[0m\u001b[0;34m(\u001b[0m\u001b[0;34m)\u001b[0m\u001b[0;34m\u001b[0m\u001b[0;34m\u001b[0m\u001b[0m\n\u001b[0m",
            "\u001b[0;31mNameError\u001b[0m: name 'Pred' is not defined"
          ]
        }
      ]
    },
    {
      "cell_type": "code",
      "metadata": {
        "id": "PqIkJ5XQivH1",
        "outputId": "4daf4d79-7931-496b-eb0c-903412a68b5b"
      },
      "source": [
        "Pred['Test data predictions'].value_counts()"
      ],
      "execution_count": null,
      "outputs": [
        {
          "output_type": "execute_result",
          "data": {
            "text/plain": [
              "No     8907\n",
              "Yes      90\n",
              "Name: Test data predictions, dtype: int64"
            ]
          },
          "metadata": {
            "tags": []
          },
          "execution_count": 102
        }
      ]
    },
    {
      "cell_type": "markdown",
      "metadata": {
        "id": "VshaZNmdivH1"
      },
      "source": [
        "# **15-Saving the probabilties and predictions in the last column of test data as Predictions**"
      ]
    },
    {
      "cell_type": "code",
      "metadata": {
        "id": "qC8Zcz4XivH1"
      },
      "source": [
        "Test_data['Test data predictions']=Pred['Test data predictions probabilties']\n",
        "Test_data['Test data predictions']=Pred['Test data predictions']"
      ],
      "execution_count": null,
      "outputs": []
    },
    {
      "cell_type": "code",
      "metadata": {
        "id": "XWMxw-g8ivH2",
        "colab": {
          "base_uri": "https://localhost:8080/"
        },
        "outputId": "d7f1f706-645d-48d9-e959-be15c82a8d47"
      },
      "source": [
        "Test_data.to_csv('Headcount Test with Predictions probabilties Sep.csv')\n",
        "print('Headcount Test with Predictions probabilties file saved')"
      ],
      "execution_count": null,
      "outputs": [
        {
          "output_type": "stream",
          "text": [
            "Headcount Test with Predictions probabilties file saved\n"
          ],
          "name": "stdout"
        }
      ]
    },
    {
      "cell_type": "code",
      "metadata": {
        "id": "q8TkTGUJmLXA",
        "colab": {
          "base_uri": "https://localhost:8080/"
        },
        "outputId": "be0d9148-9acb-4a57-cd39-5b2a8149caed"
      },
      "source": [
        "!pip install h2o"
      ],
      "execution_count": null,
      "outputs": [
        {
          "output_type": "stream",
          "text": [
            "Collecting h2o\n",
            "\u001b[?25l  Downloading https://files.pythonhosted.org/packages/23/c9/f24bbb8e7a57097f12c7bef3d277641eddf5160688e442d0eb1b41bf6a67/h2o-3.32.1.3.tar.gz (164.8MB)\n",
            "\u001b[K     |████████████████████████████████| 164.8MB 85kB/s \n",
            "\u001b[?25hRequirement already satisfied: requests in /usr/local/lib/python3.7/dist-packages (from h2o) (2.23.0)\n",
            "Requirement already satisfied: tabulate in /usr/local/lib/python3.7/dist-packages (from h2o) (0.8.9)\n",
            "Requirement already satisfied: future in /usr/local/lib/python3.7/dist-packages (from h2o) (0.16.0)\n",
            "Collecting colorama>=0.3.8\n",
            "  Downloading https://files.pythonhosted.org/packages/44/98/5b86278fbbf250d239ae0ecb724f8572af1c91f4a11edf4d36a206189440/colorama-0.4.4-py2.py3-none-any.whl\n",
            "Requirement already satisfied: chardet<4,>=3.0.2 in /usr/local/lib/python3.7/dist-packages (from requests->h2o) (3.0.4)\n",
            "Requirement already satisfied: urllib3!=1.25.0,!=1.25.1,<1.26,>=1.21.1 in /usr/local/lib/python3.7/dist-packages (from requests->h2o) (1.24.3)\n",
            "Requirement already satisfied: certifi>=2017.4.17 in /usr/local/lib/python3.7/dist-packages (from requests->h2o) (2020.12.5)\n",
            "Requirement already satisfied: idna<3,>=2.5 in /usr/local/lib/python3.7/dist-packages (from requests->h2o) (2.10)\n",
            "Building wheels for collected packages: h2o\n",
            "  Building wheel for h2o (setup.py) ... \u001b[?25l\u001b[?25hdone\n",
            "  Created wheel for h2o: filename=h2o-3.32.1.3-py2.py3-none-any.whl size=164854343 sha256=a773884296b436e69e94d0da1d292cab53d0318ddb20961212b9af84a8f33520\n",
            "  Stored in directory: /root/.cache/pip/wheels/4f/bb/82/0988682f9abd0b5e95109a4aae6793dd427173b6dc671d9252\n",
            "Successfully built h2o\n",
            "Installing collected packages: colorama, h2o\n",
            "Successfully installed colorama-0.4.4 h2o-3.32.1.3\n"
          ],
          "name": "stdout"
        }
      ]
    },
    {
      "cell_type": "markdown",
      "metadata": {
        "id": "6rii17f5u3pF"
      },
      "source": [
        "# **H2O Ranfom Forest**"
      ]
    },
    {
      "cell_type": "code",
      "metadata": {
        "id": "Got6mvDYmHQC"
      },
      "source": [
        "import h2o\n",
        "from h2o.estimators import H2ORandomForestEstimator"
      ],
      "execution_count": null,
      "outputs": []
    },
    {
      "cell_type": "code",
      "metadata": {
        "id": "vuArYzyznv9H",
        "colab": {
          "base_uri": "https://localhost:8080/",
          "height": 545
        },
        "outputId": "9de21734-6a3f-42e5-8ac1-70e6173c3937"
      },
      "source": [
        "h2o.init()"
      ],
      "execution_count": null,
      "outputs": [
        {
          "output_type": "stream",
          "text": [
            "Checking whether there is an H2O instance running at http://localhost:54321 ..... not found.\n",
            "Attempting to start a local H2O server...\n",
            "  Java Version: openjdk version \"11.0.11\" 2021-04-20; OpenJDK Runtime Environment (build 11.0.11+9-Ubuntu-0ubuntu2.18.04); OpenJDK 64-Bit Server VM (build 11.0.11+9-Ubuntu-0ubuntu2.18.04, mixed mode, sharing)\n",
            "  Starting server from /usr/local/lib/python3.7/dist-packages/h2o/backend/bin/h2o.jar\n",
            "  Ice root: /tmp/tmpgqs7xpb5\n",
            "  JVM stdout: /tmp/tmpgqs7xpb5/h2o_unknownUser_started_from_python.out\n",
            "  JVM stderr: /tmp/tmpgqs7xpb5/h2o_unknownUser_started_from_python.err\n",
            "  Server is running at http://127.0.0.1:54321\n",
            "Connecting to H2O server at http://127.0.0.1:54321 ... successful.\n"
          ],
          "name": "stdout"
        },
        {
          "output_type": "display_data",
          "data": {
            "text/html": [
              "<div style=\"overflow:auto\"><table style=\"width:50%\"><tr><td>H2O_cluster_uptime:</td>\n",
              "<td>03 secs</td></tr>\n",
              "<tr><td>H2O_cluster_timezone:</td>\n",
              "<td>Etc/UTC</td></tr>\n",
              "<tr><td>H2O_data_parsing_timezone:</td>\n",
              "<td>UTC</td></tr>\n",
              "<tr><td>H2O_cluster_version:</td>\n",
              "<td>3.32.1.3</td></tr>\n",
              "<tr><td>H2O_cluster_version_age:</td>\n",
              "<td>17 hours and 52 minutes </td></tr>\n",
              "<tr><td>H2O_cluster_name:</td>\n",
              "<td>H2O_from_python_unknownUser_vgh9i9</td></tr>\n",
              "<tr><td>H2O_cluster_total_nodes:</td>\n",
              "<td>1</td></tr>\n",
              "<tr><td>H2O_cluster_free_memory:</td>\n",
              "<td>3.174 Gb</td></tr>\n",
              "<tr><td>H2O_cluster_total_cores:</td>\n",
              "<td>2</td></tr>\n",
              "<tr><td>H2O_cluster_allowed_cores:</td>\n",
              "<td>2</td></tr>\n",
              "<tr><td>H2O_cluster_status:</td>\n",
              "<td>accepting new members, healthy</td></tr>\n",
              "<tr><td>H2O_connection_url:</td>\n",
              "<td>http://127.0.0.1:54321</td></tr>\n",
              "<tr><td>H2O_connection_proxy:</td>\n",
              "<td>{\"http\": null, \"https\": null}</td></tr>\n",
              "<tr><td>H2O_internal_security:</td>\n",
              "<td>False</td></tr>\n",
              "<tr><td>H2O_API_Extensions:</td>\n",
              "<td>Amazon S3, XGBoost, Algos, AutoML, Core V3, TargetEncoder, Core V4</td></tr>\n",
              "<tr><td>Python_version:</td>\n",
              "<td>3.7.10 final</td></tr></table></div>"
            ],
            "text/plain": [
              "--------------------------  ------------------------------------------------------------------\n",
              "H2O_cluster_uptime:         03 secs\n",
              "H2O_cluster_timezone:       Etc/UTC\n",
              "H2O_data_parsing_timezone:  UTC\n",
              "H2O_cluster_version:        3.32.1.3\n",
              "H2O_cluster_version_age:    17 hours and 52 minutes\n",
              "H2O_cluster_name:           H2O_from_python_unknownUser_vgh9i9\n",
              "H2O_cluster_total_nodes:    1\n",
              "H2O_cluster_free_memory:    3.174 Gb\n",
              "H2O_cluster_total_cores:    2\n",
              "H2O_cluster_allowed_cores:  2\n",
              "H2O_cluster_status:         accepting new members, healthy\n",
              "H2O_connection_url:         http://127.0.0.1:54321\n",
              "H2O_connection_proxy:       {\"http\": null, \"https\": null}\n",
              "H2O_internal_security:      False\n",
              "H2O_API_Extensions:         Amazon S3, XGBoost, Algos, AutoML, Core V3, TargetEncoder, Core V4\n",
              "Python_version:             3.7.10 final\n",
              "--------------------------  ------------------------------------------------------------------"
            ]
          },
          "metadata": {
            "tags": []
          }
        }
      ]
    },
    {
      "cell_type": "code",
      "metadata": {
        "id": "VMtB3NhKo9r_",
        "colab": {
          "base_uri": "https://localhost:8080/"
        },
        "outputId": "8c83c6c6-d0cd-4947-a197-d1d5587a8877"
      },
      "source": [
        "Train_data.columns"
      ],
      "execution_count": null,
      "outputs": [
        {
          "output_type": "execute_result",
          "data": {
            "text/plain": [
              "Index(['MRNO', 'AGE', 'GENDER', 'DISTRICT', 'TEHSIL', 'REPORT_VERIFIED',\n",
              "       'CPT_ID', 'RESULT_VALUE', 'CPT_ID.1', 'RESULT_TEXT'],\n",
              "      dtype='object')"
            ]
          },
          "metadata": {
            "tags": []
          },
          "execution_count": 54
        }
      ]
    },
    {
      "cell_type": "code",
      "metadata": {
        "id": "Mz-1c2U1oo9s"
      },
      "source": [
        "training_columns = ['MRNO', 'AGE', 'GENDER', 'DISTRICT', 'TEHSIL', 'REPORT_VERIFIED',\n",
        "       'CPT_ID', 'RESULT_VALUE', 'CPT_ID.1']\n",
        "# Output parameter train against input parameters\n",
        "response_column = 'RESULT_TEXT'"
      ],
      "execution_count": null,
      "outputs": []
    },
    {
      "cell_type": "code",
      "metadata": {
        "id": "VH8pRZA4tTxk"
      },
      "source": [
        "import h2o\n",
        "import pandas as pd"
      ],
      "execution_count": null,
      "outputs": []
    },
    {
      "cell_type": "code",
      "metadata": {
        "id": "6BUWm-XytYQE",
        "colab": {
          "base_uri": "https://localhost:8080/"
        },
        "outputId": "e56f769d-53f1-4e8e-ff03-1994cad17cbd"
      },
      "source": [
        "hf = h2o.H2OFrame(Train_data)"
      ],
      "execution_count": null,
      "outputs": [
        {
          "output_type": "stream",
          "text": [
            "Parse progress: |█████████████████████████████████████████████████████████| 100%\n"
          ],
          "name": "stdout"
        }
      ]
    },
    {
      "cell_type": "code",
      "metadata": {
        "id": "bnHL4RNEtmk7"
      },
      "source": [
        "train, test = hf.split_frame(ratios=[0.8])"
      ],
      "execution_count": null,
      "outputs": []
    },
    {
      "cell_type": "code",
      "metadata": {
        "id": "CMgNiJ72pSMW"
      },
      "source": [
        "model = H2ORandomForestEstimator(ntrees=50, max_depth=20, nfolds=10)"
      ],
      "execution_count": null,
      "outputs": []
    },
    {
      "cell_type": "code",
      "metadata": {
        "id": "8awnuxwhrUm7",
        "colab": {
          "base_uri": "https://localhost:8080/"
        },
        "outputId": "6da58a14-5791-4107-ff99-2077da277376"
      },
      "source": [
        "model.train(x=training_columns, y=response_column, training_frame=train)"
      ],
      "execution_count": null,
      "outputs": [
        {
          "output_type": "stream",
          "text": [
            "drf Model Build progress: |███████████████████████████████████████████████| 100%\n"
          ],
          "name": "stdout"
        }
      ]
    },
    {
      "cell_type": "code",
      "metadata": {
        "id": "3NqBx7wCt9Bx",
        "colab": {
          "base_uri": "https://localhost:8080/"
        },
        "outputId": "5bb82628-a45c-4dd6-c217-318db40f4b8e"
      },
      "source": [
        "# Model performance\n",
        "performance = model.model_performance(test_data=test)\n",
        "\n",
        "print(performance)"
      ],
      "execution_count": null,
      "outputs": [
        {
          "output_type": "stream",
          "text": [
            "\n",
            "ModelMetricsRegression: drf\n",
            "** Reported on test data. **\n",
            "\n",
            "MSE: 0.004735073406490919\n",
            "RMSE: 0.0688118696628054\n",
            "MAE: 0.010082532736872334\n",
            "RMSLE: 0.047543521421204354\n",
            "Mean Residual Deviance: 0.004735073406490919\n",
            "\n"
          ],
          "name": "stdout"
        }
      ]
    },
    {
      "cell_type": "markdown",
      "metadata": {
        "id": "pK4c8nU4uXqE"
      },
      "source": [
        "#**References**\n",
        "\n",
        "[Random Forest Classification with H2O](https://medium.com/tech-vision/random-forest-classification-with-h2o-python-for-beginners-b31f6e4ccf3c)\n",
        "\n",
        "[Build and deploy your first machine learning web app](https://towardsdatascience.com/build-and-deploy-your-first-machine-learning-web-app-e020db344a99)\n"
      ]
    }
  ]
}